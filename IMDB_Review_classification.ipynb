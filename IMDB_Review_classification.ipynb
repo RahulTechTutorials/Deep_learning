{
  "nbformat": 4,
  "nbformat_minor": 0,
  "metadata": {
    "colab": {
      "name": "IMDB_Review_classification.ipynb",
      "version": "0.3.2",
      "provenance": [],
      "include_colab_link": true
    },
    "kernelspec": {
      "name": "python3",
      "display_name": "Python 3"
    }
  },
  "cells": [
    {
      "cell_type": "markdown",
      "metadata": {
        "id": "view-in-github",
        "colab_type": "text"
      },
      "source": [
        "<a href=\"https://colab.research.google.com/github/RahulTechTutorials/Deep_learning/blob/master/IMDB_Review_classification.ipynb\" target=\"_parent\"><img src=\"https://colab.research.google.com/assets/colab-badge.svg\" alt=\"Open In Colab\"/></a>"
      ]
    },
    {
      "cell_type": "code",
      "metadata": {
        "id": "SX6ynMMGACON",
        "colab_type": "code",
        "colab": {}
      },
      "source": [
        "##Importing all the libraries, Keras, Matplotlib, Numpy \n",
        "import keras\n",
        "from keras.datasets import imdb\n",
        "import matplotlib.pyplot as plt\n",
        "from keras import models,layers\n",
        "import numpy as np\n",
        "import matplotlib.pyplot as plt\n"
      ],
      "execution_count": 0,
      "outputs": []
    },
    {
      "cell_type": "markdown",
      "metadata": {
        "id": "obgpnnrwW1p6",
        "colab_type": "text"
      },
      "source": [
        ""
      ]
    },
    {
      "cell_type": "code",
      "metadata": {
        "id": "SNG4Xlr0KASc",
        "colab_type": "code",
        "colab": {}
      },
      "source": [
        "##!pip install numpy==1.16.1"
      ],
      "execution_count": 0,
      "outputs": []
    },
    {
      "cell_type": "code",
      "metadata": {
        "id": "fmOvXD5QI8jF",
        "colab_type": "code",
        "colab": {}
      },
      "source": [
        "##Train and test split\n",
        "(train_data,train_labels), (test_data,test_labels) = imdb.load_data(num_words=10000)"
      ],
      "execution_count": 0,
      "outputs": []
    },
    {
      "cell_type": "code",
      "metadata": {
        "id": "guEfTp_OJGxn",
        "colab_type": "code",
        "colab": {
          "base_uri": "https://localhost:8080/",
          "height": 34
        },
        "outputId": "fb67fa19-0cf1-44b8-b922-335ddffc8e1b"
      },
      "source": [
        "print(train_data.shape, test_data.shape,len(train_labels),len(test_labels))"
      ],
      "execution_count": 4,
      "outputs": [
        {
          "output_type": "stream",
          "text": [
            "(25000,) (25000,) 25000 25000\n"
          ],
          "name": "stdout"
        }
      ]
    },
    {
      "cell_type": "code",
      "metadata": {
        "id": "VlL1rbiEKVh-",
        "colab_type": "code",
        "colab": {
          "base_uri": "https://localhost:8080/",
          "height": 34
        },
        "outputId": "02d5c94a-1b74-4c2f-dde5-5b21da8abdcf"
      },
      "source": [
        "len(train_data)"
      ],
      "execution_count": 5,
      "outputs": [
        {
          "output_type": "execute_result",
          "data": {
            "text/plain": [
              "25000"
            ]
          },
          "metadata": {
            "tags": []
          },
          "execution_count": 5
        }
      ]
    },
    {
      "cell_type": "code",
      "metadata": {
        "id": "zG7zqUC0KrH6",
        "colab_type": "code",
        "colab": {
          "base_uri": "https://localhost:8080/",
          "height": 34
        },
        "outputId": "c1aae934-7a65-4cbc-f6fd-3ef698f635c3"
      },
      "source": [
        "train_labels[0]"
      ],
      "execution_count": 6,
      "outputs": [
        {
          "output_type": "execute_result",
          "data": {
            "text/plain": [
              "1"
            ]
          },
          "metadata": {
            "tags": []
          },
          "execution_count": 6
        }
      ]
    },
    {
      "cell_type": "code",
      "metadata": {
        "id": "DB_njv85K2KZ",
        "colab_type": "code",
        "colab": {
          "base_uri": "https://localhost:8080/",
          "height": 34
        },
        "outputId": "b707f42f-6d6f-49f9-dae2-2a5757910187"
      },
      "source": [
        "##The num_words ensures that we dont get any word which has index greater than 10,000\n",
        "max([max(sequence) for sequence in train_data])"
      ],
      "execution_count": 7,
      "outputs": [
        {
          "output_type": "execute_result",
          "data": {
            "text/plain": [
              "9999"
            ]
          },
          "metadata": {
            "tags": []
          },
          "execution_count": 7
        }
      ]
    },
    {
      "cell_type": "code",
      "metadata": {
        "id": "-83Wut7Kk6_w",
        "colab_type": "code",
        "colab": {
          "base_uri": "https://localhost:8080/",
          "height": 34
        },
        "outputId": "fab74742-a02e-44c6-aae5-69e9ad341b1e"
      },
      "source": [
        "max([len(sequence) for sequence in train_data])"
      ],
      "execution_count": 8,
      "outputs": [
        {
          "output_type": "execute_result",
          "data": {
            "text/plain": [
              "2494"
            ]
          },
          "metadata": {
            "tags": []
          },
          "execution_count": 8
        }
      ]
    },
    {
      "cell_type": "code",
      "metadata": {
        "id": "L8fiOikvkp_a",
        "colab_type": "code",
        "colab": {
          "base_uri": "https://localhost:8080/",
          "height": 34
        },
        "outputId": "724b9af0-2b03-4692-8d8a-c16e4e4d6507"
      },
      "source": [
        "len(train_data[0])"
      ],
      "execution_count": 9,
      "outputs": [
        {
          "output_type": "execute_result",
          "data": {
            "text/plain": [
              "218"
            ]
          },
          "metadata": {
            "tags": []
          },
          "execution_count": 9
        }
      ]
    },
    {
      "cell_type": "code",
      "metadata": {
        "id": "GI6DcFiOLC9I",
        "colab_type": "code",
        "colab": {
          "base_uri": "https://localhost:8080/",
          "height": 51
        },
        "outputId": "fc56d65e-c3a4-48d7-fdda-a5c28ee5886f"
      },
      "source": [
        "####Decoding the word index format. Word index is a dictionary having a numeric representation for each word. We just reverse the dictionary and refer it back\n",
        "word_index = imdb.get_word_index()\n",
        "reverse_word_index = dict([(value,key) for (key,value) in word_index.items()])\n",
        "decoded_review = ' '.join([reverse_word_index.get(i-3,'?') for i in train_data[0]])"
      ],
      "execution_count": 10,
      "outputs": [
        {
          "output_type": "stream",
          "text": [
            "Downloading data from https://s3.amazonaws.com/text-datasets/imdb_word_index.json\n",
            "1646592/1641221 [==============================] - 0s 0us/step\n"
          ],
          "name": "stdout"
        }
      ]
    },
    {
      "cell_type": "code",
      "metadata": {
        "id": "FvdlXN64Losr",
        "colab_type": "code",
        "colab": {
          "base_uri": "https://localhost:8080/",
          "height": 54
        },
        "outputId": "c22cfca4-0651-48ce-d977-85587c1f9d05"
      },
      "source": [
        "decoded_review"
      ],
      "execution_count": 11,
      "outputs": [
        {
          "output_type": "execute_result",
          "data": {
            "text/plain": [
              "\"? this film was just brilliant casting location scenery story direction everyone's really suited the part they played and you could just imagine being there robert ? is an amazing actor and now the same being director ? father came from the same scottish island as myself so i loved the fact there was a real connection with this film the witty remarks throughout the film were great it was just brilliant so much that i bought the film as soon as it was released for ? and would recommend it to everyone to watch and the fly fishing was amazing really cried at the end it was so sad and you know what they say if you cry at a film it must have been good and this definitely was also ? to the two little boy's that played the ? of norman and paul they were just brilliant children are often left out of the ? list i think because the stars that play them all grown up are such a big profile for the whole film but these children are amazing and should be praised for what they have done don't you think the whole story was so lovely because it was true and was someone's life after all that was shared with us all\""
            ]
          },
          "metadata": {
            "tags": []
          },
          "execution_count": 11
        }
      ]
    },
    {
      "cell_type": "code",
      "metadata": {
        "id": "gQmBSGmOMn7l",
        "colab_type": "code",
        "colab": {
          "base_uri": "https://localhost:8080/",
          "height": 34
        },
        "outputId": "0c9875e1-0674-4c46-824c-08afc6f86d83"
      },
      "source": [
        "word_index['the']"
      ],
      "execution_count": 12,
      "outputs": [
        {
          "output_type": "execute_result",
          "data": {
            "text/plain": [
              "1"
            ]
          },
          "metadata": {
            "tags": []
          },
          "execution_count": 12
        }
      ]
    },
    {
      "cell_type": "code",
      "metadata": {
        "id": "LRHANu2HLya0",
        "colab_type": "code",
        "colab": {
          "base_uri": "https://localhost:8080/",
          "height": 34
        },
        "outputId": "73533944-11f1-462a-b07b-681e5aa7bfeb"
      },
      "source": [
        "reverse_word_index[1]"
      ],
      "execution_count": 13,
      "outputs": [
        {
          "output_type": "execute_result",
          "data": {
            "text/plain": [
              "'the'"
            ]
          },
          "metadata": {
            "tags": []
          },
          "execution_count": 13
        }
      ]
    },
    {
      "cell_type": "code",
      "metadata": {
        "id": "CgQhEK5-MUrP",
        "colab_type": "code",
        "colab": {
          "base_uri": "https://localhost:8080/",
          "height": 34
        },
        "outputId": "9bc79fe1-4eb5-427c-a934-595f1851a1ea"
      },
      "source": [
        "reverse_word_index.get(1,'?')"
      ],
      "execution_count": 14,
      "outputs": [
        {
          "output_type": "execute_result",
          "data": {
            "text/plain": [
              "'the'"
            ]
          },
          "metadata": {
            "tags": []
          },
          "execution_count": 14
        }
      ]
    },
    {
      "cell_type": "code",
      "metadata": {
        "id": "qyUDUWnPMueQ",
        "colab_type": "code",
        "colab": {}
      },
      "source": [
        "##Here we have varied number of words in each review, We need to standardize this by creating a vectorized sequence\n",
        "### First we create zero array of dimension (25000,10000) - 25k reviews and 10k words\n",
        "## Then we set the words which are present as 1.\n",
        "\n",
        "\n",
        "def vectorize_sequences(sequences,dimension=10000):\n",
        "  results = np.zeros((len(sequences),dimension))\n",
        "  for i,sequence in enumerate(sequences):\n",
        "    results[i,sequence] = 1\n",
        "  return results"
      ],
      "execution_count": 0,
      "outputs": []
    },
    {
      "cell_type": "code",
      "metadata": {
        "id": "TXuefDyNoFms",
        "colab_type": "code",
        "colab": {}
      },
      "source": [
        "X_train = vectorize_sequences(train_data)"
      ],
      "execution_count": 0,
      "outputs": []
    },
    {
      "cell_type": "code",
      "metadata": {
        "id": "Y7Ve04eDoK7Y",
        "colab_type": "code",
        "colab": {}
      },
      "source": [
        "X_test = vectorize_sequences(test_data)"
      ],
      "execution_count": 0,
      "outputs": []
    },
    {
      "cell_type": "code",
      "metadata": {
        "id": "K8s0UtjqxODZ",
        "colab_type": "code",
        "colab": {}
      },
      "source": [
        "y_train = train_labels.astype('float32')"
      ],
      "execution_count": 0,
      "outputs": []
    },
    {
      "cell_type": "code",
      "metadata": {
        "id": "shEVa1DwxZvd",
        "colab_type": "code",
        "colab": {}
      },
      "source": [
        "y_test = test_labels.astype('float32')"
      ],
      "execution_count": 0,
      "outputs": []
    },
    {
      "cell_type": "code",
      "metadata": {
        "id": "8tjTSUWJx2c_",
        "colab_type": "code",
        "colab": {
          "base_uri": "https://localhost:8080/",
          "height": 34
        },
        "outputId": "22a10380-639d-47b2-a536-76af131948de"
      },
      "source": [
        "y_train"
      ],
      "execution_count": 20,
      "outputs": [
        {
          "output_type": "execute_result",
          "data": {
            "text/plain": [
              "array([1., 0., 0., ..., 0., 1., 0.], dtype=float32)"
            ]
          },
          "metadata": {
            "tags": []
          },
          "execution_count": 20
        }
      ]
    },
    {
      "cell_type": "code",
      "metadata": {
        "id": "SVCqhxT0ZbMv",
        "colab_type": "code",
        "colab": {
          "base_uri": "https://localhost:8080/",
          "height": 34
        },
        "outputId": "2ab8d6ff-c697-4cfe-d101-a07ab18ac4fa"
      },
      "source": [
        "X_train[0][:15]"
      ],
      "execution_count": 73,
      "outputs": [
        {
          "output_type": "execute_result",
          "data": {
            "text/plain": [
              "array([0., 1., 1., 0., 1., 1., 1., 1., 1., 1., 0., 0., 1., 1., 1.])"
            ]
          },
          "metadata": {
            "tags": []
          },
          "execution_count": 73
        }
      ]
    },
    {
      "cell_type": "code",
      "metadata": {
        "id": "Lh0YrTeEY0PH",
        "colab_type": "code",
        "colab": {
          "base_uri": "https://localhost:8080/",
          "height": 2057
        },
        "outputId": "bbdf226c-0a5d-4fa9-9ae0-05413a87680a"
      },
      "source": [
        "set(sorted(train_data[0]))"
      ],
      "execution_count": 70,
      "outputs": [
        {
          "output_type": "execute_result",
          "data": {
            "text/plain": [
              "{1,\n",
              " 2,\n",
              " 4,\n",
              " 5,\n",
              " 6,\n",
              " 7,\n",
              " 8,\n",
              " 9,\n",
              " 12,\n",
              " 13,\n",
              " 14,\n",
              " 15,\n",
              " 16,\n",
              " 17,\n",
              " 18,\n",
              " 19,\n",
              " 21,\n",
              " 22,\n",
              " 25,\n",
              " 26,\n",
              " 28,\n",
              " 30,\n",
              " 32,\n",
              " 33,\n",
              " 35,\n",
              " 36,\n",
              " 38,\n",
              " 39,\n",
              " 43,\n",
              " 46,\n",
              " 48,\n",
              " 50,\n",
              " 51,\n",
              " 52,\n",
              " 56,\n",
              " 62,\n",
              " 65,\n",
              " 66,\n",
              " 71,\n",
              " 76,\n",
              " 77,\n",
              " 82,\n",
              " 87,\n",
              " 88,\n",
              " 92,\n",
              " 98,\n",
              " 100,\n",
              " 103,\n",
              " 104,\n",
              " 106,\n",
              " 107,\n",
              " 112,\n",
              " 113,\n",
              " 117,\n",
              " 124,\n",
              " 130,\n",
              " 134,\n",
              " 135,\n",
              " 141,\n",
              " 144,\n",
              " 147,\n",
              " 150,\n",
              " 167,\n",
              " 172,\n",
              " 173,\n",
              " 178,\n",
              " 192,\n",
              " 194,\n",
              " 215,\n",
              " 224,\n",
              " 226,\n",
              " 256,\n",
              " 283,\n",
              " 284,\n",
              " 297,\n",
              " 316,\n",
              " 317,\n",
              " 336,\n",
              " 381,\n",
              " 385,\n",
              " 386,\n",
              " 400,\n",
              " 407,\n",
              " 447,\n",
              " 458,\n",
              " 469,\n",
              " 476,\n",
              " 480,\n",
              " 515,\n",
              " 530,\n",
              " 546,\n",
              " 619,\n",
              " 626,\n",
              " 670,\n",
              " 723,\n",
              " 838,\n",
              " 973,\n",
              " 1029,\n",
              " 1111,\n",
              " 1247,\n",
              " 1334,\n",
              " 1385,\n",
              " 1415,\n",
              " 1622,\n",
              " 1920,\n",
              " 2025,\n",
              " 2071,\n",
              " 2223,\n",
              " 3766,\n",
              " 3785,\n",
              " 3941,\n",
              " 4468,\n",
              " 4472,\n",
              " 4536,\n",
              " 4613,\n",
              " 5244,\n",
              " 5345,\n",
              " 5535,\n",
              " 5952,\n",
              " 7486}"
            ]
          },
          "metadata": {
            "tags": []
          },
          "execution_count": 70
        }
      ]
    },
    {
      "cell_type": "code",
      "metadata": {
        "id": "zuh5WN0xx5cv",
        "colab_type": "code",
        "colab": {
          "base_uri": "https://localhost:8080/",
          "height": 88
        },
        "outputId": "0b8e1d1e-7bc2-4ee7-ecbd-d096b06ebda6"
      },
      "source": [
        "from keras import models,layers\n",
        "model = models.Sequential()\n",
        "model.add(layers.Dense(16,activation = 'relu', input_shape = (10000,)))\n",
        "model.add(layers.Dense(16,activation = 'relu'))\n",
        "model.add(layers.Dense(1,activation = 'sigmoid'))"
      ],
      "execution_count": 21,
      "outputs": [
        {
          "output_type": "stream",
          "text": [
            "WARNING:tensorflow:From /usr/local/lib/python3.6/dist-packages/tensorflow/python/framework/op_def_library.py:263: colocate_with (from tensorflow.python.framework.ops) is deprecated and will be removed in a future version.\n",
            "Instructions for updating:\n",
            "Colocations handled automatically by placer.\n"
          ],
          "name": "stdout"
        }
      ]
    },
    {
      "cell_type": "code",
      "metadata": {
        "id": "7T9RiPKYNiM_",
        "colab_type": "code",
        "colab": {}
      },
      "source": [
        "model.compile(optimizer = 'rmsprop', loss = 'binary_crossentropy', metrics = ['accuracy'])"
      ],
      "execution_count": 0,
      "outputs": []
    },
    {
      "cell_type": "code",
      "metadata": {
        "id": "hp8WnsfxNw58",
        "colab_type": "code",
        "colab": {}
      },
      "source": [
        "##Creating validation data sets \n",
        "x_val = X_train[:10000]\n",
        "partial_x_train = X_train[10000:]\n",
        "y_val = y_train[:10000]\n",
        "partial_y_train = y_train[10000:]"
      ],
      "execution_count": 0,
      "outputs": []
    },
    {
      "cell_type": "code",
      "metadata": {
        "id": "Ac_HuiLcOH5H",
        "colab_type": "code",
        "colab": {
          "base_uri": "https://localhost:8080/",
          "height": 34
        },
        "outputId": "a500c9da-58a3-4044-da64-29bf41fd6fc7"
      },
      "source": [
        "x_val.shape,partial_x_train.shape,y_val.shape,partial_y_train.shape"
      ],
      "execution_count": 25,
      "outputs": [
        {
          "output_type": "execute_result",
          "data": {
            "text/plain": [
              "((10000, 10000), (15000, 10000), (10000,), (15000,))"
            ]
          },
          "metadata": {
            "tags": []
          },
          "execution_count": 25
        }
      ]
    },
    {
      "cell_type": "code",
      "metadata": {
        "id": "qkRNCS0uORH4",
        "colab_type": "code",
        "colab": {
          "base_uri": "https://localhost:8080/",
          "height": 785
        },
        "outputId": "d22ee2ff-aac2-4370-adc7-1dfac8955cbf"
      },
      "source": [
        "history = model.fit(partial_x_train,partial_y_train,epochs = 20, batch_size = 512, validation_data = (x_val,y_val))"
      ],
      "execution_count": 26,
      "outputs": [
        {
          "output_type": "stream",
          "text": [
            "WARNING:tensorflow:From /usr/local/lib/python3.6/dist-packages/tensorflow/python/ops/math_ops.py:3066: to_int32 (from tensorflow.python.ops.math_ops) is deprecated and will be removed in a future version.\n",
            "Instructions for updating:\n",
            "Use tf.cast instead.\n",
            "Train on 15000 samples, validate on 10000 samples\n",
            "Epoch 1/20\n",
            "15000/15000 [==============================] - 3s 223us/step - loss: 0.5085 - acc: 0.7821 - val_loss: 0.3799 - val_acc: 0.8692\n",
            "Epoch 2/20\n",
            "15000/15000 [==============================] - 3s 180us/step - loss: 0.3005 - acc: 0.9047 - val_loss: 0.3004 - val_acc: 0.8899\n",
            "Epoch 3/20\n",
            "15000/15000 [==============================] - 3s 174us/step - loss: 0.2180 - acc: 0.9281 - val_loss: 0.3088 - val_acc: 0.8710\n",
            "Epoch 4/20\n",
            "15000/15000 [==============================] - 3s 172us/step - loss: 0.1751 - acc: 0.9436 - val_loss: 0.2838 - val_acc: 0.8833\n",
            "Epoch 5/20\n",
            "15000/15000 [==============================] - 3s 174us/step - loss: 0.1427 - acc: 0.9543 - val_loss: 0.2848 - val_acc: 0.8864\n",
            "Epoch 6/20\n",
            "15000/15000 [==============================] - 3s 173us/step - loss: 0.1151 - acc: 0.9652 - val_loss: 0.3154 - val_acc: 0.8773\n",
            "Epoch 7/20\n",
            "15000/15000 [==============================] - 3s 173us/step - loss: 0.0981 - acc: 0.9704 - val_loss: 0.3126 - val_acc: 0.8845\n",
            "Epoch 8/20\n",
            "15000/15000 [==============================] - 3s 172us/step - loss: 0.0809 - acc: 0.9763 - val_loss: 0.3858 - val_acc: 0.8650\n",
            "Epoch 9/20\n",
            "15000/15000 [==============================] - 3s 176us/step - loss: 0.0662 - acc: 0.9821 - val_loss: 0.3631 - val_acc: 0.8779\n",
            "Epoch 10/20\n",
            "15000/15000 [==============================] - 3s 172us/step - loss: 0.0564 - acc: 0.9851 - val_loss: 0.3839 - val_acc: 0.8791\n",
            "Epoch 11/20\n",
            "15000/15000 [==============================] - 3s 173us/step - loss: 0.0439 - acc: 0.9894 - val_loss: 0.4147 - val_acc: 0.8777\n",
            "Epoch 12/20\n",
            "15000/15000 [==============================] - 3s 172us/step - loss: 0.0382 - acc: 0.9917 - val_loss: 0.4536 - val_acc: 0.8684\n",
            "Epoch 13/20\n",
            "15000/15000 [==============================] - 3s 174us/step - loss: 0.0302 - acc: 0.9927 - val_loss: 0.4694 - val_acc: 0.8724\n",
            "Epoch 14/20\n",
            "15000/15000 [==============================] - 3s 173us/step - loss: 0.0249 - acc: 0.9945 - val_loss: 0.5025 - val_acc: 0.8718\n",
            "Epoch 15/20\n",
            "15000/15000 [==============================] - 3s 172us/step - loss: 0.0186 - acc: 0.9972 - val_loss: 0.5310 - val_acc: 0.8705\n",
            "Epoch 16/20\n",
            "15000/15000 [==============================] - 3s 174us/step - loss: 0.0180 - acc: 0.9961 - val_loss: 0.5639 - val_acc: 0.8701\n",
            "Epoch 17/20\n",
            "15000/15000 [==============================] - 3s 173us/step - loss: 0.0111 - acc: 0.9991 - val_loss: 0.6001 - val_acc: 0.8673\n",
            "Epoch 18/20\n",
            "15000/15000 [==============================] - 3s 173us/step - loss: 0.0130 - acc: 0.9973 - val_loss: 0.6312 - val_acc: 0.8670\n",
            "Epoch 19/20\n",
            "15000/15000 [==============================] - 3s 172us/step - loss: 0.0066 - acc: 0.9995 - val_loss: 0.7252 - val_acc: 0.8550\n",
            "Epoch 20/20\n",
            "15000/15000 [==============================] - 3s 173us/step - loss: 0.0052 - acc: 0.9998 - val_loss: 0.7079 - val_acc: 0.8619\n"
          ],
          "name": "stdout"
        }
      ]
    },
    {
      "cell_type": "code",
      "metadata": {
        "id": "AZuq5uGZOsO5",
        "colab_type": "code",
        "colab": {}
      },
      "source": [
        "accuracy = history.history['acc']\n",
        "loss = history.history['loss']\n",
        "val_accuracy = history.history['val_acc']\n",
        "val_loss = history.history['val_loss']\n",
        "epochs = list(range(1,21))"
      ],
      "execution_count": 0,
      "outputs": []
    },
    {
      "cell_type": "code",
      "metadata": {
        "id": "JVPDcpUTO7IP",
        "colab_type": "code",
        "colab": {
          "base_uri": "https://localhost:8080/",
          "height": 295
        },
        "outputId": "f32c679e-3dc4-4187-e526-65c21af4f8d2"
      },
      "source": [
        "###plotting the training and validation accuracy and losses on matplot lib\n",
        "plt.plot(epochs,loss,'bo',label = 'training_loss')\n",
        "plt.plot(epochs,val_loss,'b',label = 'validation_loss')\n",
        "plt.xlabel('Epochs')\n",
        "plt.ylabel('losses')\n",
        "plt.legend()\n",
        "plt.title('Training loss vs Validation Loss by Epochs')\n",
        "plt.show()"
      ],
      "execution_count": 44,
      "outputs": [
        {
          "output_type": "display_data",
          "data": {
            "image/png": "[encoded data removed]",
            "text/plain": [
              "<Figure size 432x288 with 1 Axes>"
            ]
          },
          "metadata": {
            "tags": []
          }
        }
      ]
    },
    {
      "cell_type": "code",
      "metadata": {
        "id": "MOtvdT7-Phfk",
        "colab_type": "code",
        "colab": {
          "base_uri": "https://localhost:8080/",
          "height": 295
        },
        "outputId": "6d7c64b1-08fe-4d49-aa93-480738f3bdc1"
      },
      "source": [
        "###plotting the training and validation accuracy and losses on matplot lib\n",
        "plt.plot(epochs,accuracy,'bo',label = 'training_accuracy')\n",
        "plt.plot(epochs,val_accuracy,'b',label = 'validation_accuracy')\n",
        "plt.xlabel('Epochs')\n",
        "plt.ylabel('accuracy')\n",
        "plt.legend()\n",
        "plt.title('Training loss vs Validation accuracy by Epochs')\n",
        "plt.show()"
      ],
      "execution_count": 45,
      "outputs": [
        {
          "output_type": "display_data",
          "data": {
            "image/png": "[encoded data removed]",
            "text/plain": [
              "<Figure size 432x288 with 1 Axes>"
            ]
          },
          "metadata": {
            "tags": []
          }
        }
      ]
    },
    {
      "cell_type": "code",
      "metadata": {
        "id": "tqhNAQCPQzH7",
        "colab_type": "code",
        "colab": {
          "base_uri": "https://localhost:8080/",
          "height": 136
        },
        "outputId": "5f4941c9-7390-4cdd-9d96-cbdf2d2be94b"
      },
      "source": [
        "model.fit(X_train,y_train,epochs=3,batch_size= 512)\n",
        "results = model.evaluate(X_test,y_test)"
      ],
      "execution_count": 48,
      "outputs": [
        {
          "output_type": "stream",
          "text": [
            "Epoch 1/3\n",
            "25000/25000 [==============================] - 3s 115us/step - loss: 0.0713 - acc: 0.9776\n",
            "Epoch 2/3\n",
            "25000/25000 [==============================] - 3s 129us/step - loss: 0.0562 - acc: 0.9834\n",
            "Epoch 3/3\n",
            "25000/25000 [==============================] - 3s 123us/step - loss: 0.0440 - acc: 0.9877\n",
            "25000/25000 [==============================] - 2s 86us/step\n"
          ],
          "name": "stdout"
        }
      ]
    },
    {
      "cell_type": "code",
      "metadata": {
        "id": "T6LiTJocSNDk",
        "colab_type": "code",
        "colab": {
          "base_uri": "https://localhost:8080/",
          "height": 34
        },
        "outputId": "182c1f9c-bf4a-4e8f-bd0f-06abc201bcf8"
      },
      "source": [
        "results"
      ],
      "execution_count": 49,
      "outputs": [
        {
          "output_type": "execute_result",
          "data": {
            "text/plain": [
              "[0.6630332601356507, 0.85492]"
            ]
          },
          "metadata": {
            "tags": []
          },
          "execution_count": 49
        }
      ]
    },
    {
      "cell_type": "code",
      "metadata": {
        "id": "N_ia7c2qSTDR",
        "colab_type": "code",
        "colab": {}
      },
      "source": [
        "output = model.predict(X_test)"
      ],
      "execution_count": 0,
      "outputs": []
    },
    {
      "cell_type": "code",
      "metadata": {
        "id": "iw5zdYNNSnnr",
        "colab_type": "code",
        "colab": {}
      },
      "source": [
        "func = lambda x : 1 if x >= 0.5 else 0\n"
      ],
      "execution_count": 0,
      "outputs": []
    },
    {
      "cell_type": "code",
      "metadata": {
        "id": "48_ybXCXXGBr",
        "colab_type": "code",
        "colab": {}
      },
      "source": [
        "output_0_1 = np.array(list(map(func,output) ))"
      ],
      "execution_count": 0,
      "outputs": []
    },
    {
      "cell_type": "code",
      "metadata": {
        "id": "AeIjoltBXVi3",
        "colab_type": "code",
        "colab": {
          "base_uri": "https://localhost:8080/",
          "height": 34
        },
        "outputId": "ab3763fb-b02a-4b2c-c88a-3fd648f9bb5b"
      },
      "source": [
        "output_0_1"
      ],
      "execution_count": 61,
      "outputs": [
        {
          "output_type": "execute_result",
          "data": {
            "text/plain": [
              "array([0, 1, 1, ..., 0, 0, 1])"
            ]
          },
          "metadata": {
            "tags": []
          },
          "execution_count": 61
        }
      ]
    },
    {
      "cell_type": "code",
      "metadata": {
        "id": "fK7xrI-FXabl",
        "colab_type": "code",
        "colab": {}
      },
      "source": [
        ""
      ],
      "execution_count": 0,
      "outputs": []
    }
  ]
}