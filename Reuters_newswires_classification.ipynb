{
  "nbformat": 4,
  "nbformat_minor": 0,
  "metadata": {
    "colab": {
      "name": "Reuters_newswires_classification.ipynb",
      "version": "0.3.2",
      "provenance": [],
      "include_colab_link": true
    },
    "kernelspec": {
      "name": "python3",
      "display_name": "Python 3"
    }
  },
  "cells": [
    {
      "cell_type": "markdown",
      "metadata": {
        "id": "view-in-github",
        "colab_type": "text"
      },
      "source": [
        "<a href=\"https://colab.research.google.com/github/RahulTechTutorials/Deep_learning/blob/master/Reuters_newswires_classification.ipynb\" target=\"_parent\"><img src=\"https://colab.research.google.com/assets/colab-badge.svg\" alt=\"Open In Colab\"/></a>"
      ]
    },
    {
      "cell_type": "code",
      "metadata": {
        "id": "zwBitbjJa7H0",
        "colab_type": "code",
        "colab": {}
      },
      "source": [
        "##Importing all the libraries, Keras, Matplotlib, Numpy \n",
        "import keras\n",
        "from keras.datasets import reuters\n",
        "import matplotlib.pyplot as plt\n",
        "from keras import models,layers\n",
        "import numpy as np\n",
        "import matplotlib.pyplot as plt"
      ],
      "execution_count": 0,
      "outputs": []
    },
    {
      "cell_type": "code",
      "metadata": {
        "id": "KSzeMEMva8TO",
        "colab_type": "code",
        "colab": {}
      },
      "source": [
        "(train_data,train_labels),(test_data,test_labels) = reuters.load_data(num_words=10000)"
      ],
      "execution_count": 0,
      "outputs": []
    },
    {
      "cell_type": "code",
      "metadata": {
        "id": "iatxDVBiAIVy",
        "colab_type": "code",
        "colab": {
          "base_uri": "https://localhost:8080/",
          "height": 34
        },
        "outputId": "0721f89a-38bb-4f94-a3ee-dc92bd03e3c4"
      },
      "source": [
        "train_data.shape,train_labels.shape,test_data.shape,test_labels.shape"
      ],
      "execution_count": 27,
      "outputs": [
        {
          "output_type": "execute_result",
          "data": {
            "text/plain": [
              "((8982,), (8982,), (2246,), (2246,))"
            ]
          },
          "metadata": {
            "tags": []
          },
          "execution_count": 27
        }
      ]
    },
    {
      "cell_type": "code",
      "metadata": {
        "id": "tptfXuhIAN_Y",
        "colab_type": "code",
        "colab": {}
      },
      "source": [
        "word_dict = reuters.get_word_index()"
      ],
      "execution_count": 0,
      "outputs": []
    },
    {
      "cell_type": "code",
      "metadata": {
        "id": "LF4ikATrASUD",
        "colab_type": "code",
        "colab": {}
      },
      "source": [
        "reverse_dict = dict([(key,word) for (word,key) in word_dict.items()])"
      ],
      "execution_count": 0,
      "outputs": []
    },
    {
      "cell_type": "code",
      "metadata": {
        "id": "fNuRZNwRAjy1",
        "colab_type": "code",
        "colab": {}
      },
      "source": [
        "news1 = ' '.join([reverse_dict.get(key - 3 , '?') for key in train_data[0]])"
      ],
      "execution_count": 0,
      "outputs": []
    },
    {
      "cell_type": "code",
      "metadata": {
        "id": "X59XK0V9A0Yg",
        "colab_type": "code",
        "colab": {
          "base_uri": "https://localhost:8080/",
          "height": 54
        },
        "outputId": "ce1022c4-48cf-4fb8-8cc5-c4b092cdfad9"
      },
      "source": [
        "news1"
      ],
      "execution_count": 31,
      "outputs": [
        {
          "output_type": "execute_result",
          "data": {
            "text/plain": [
              "'? ? ? said as a result of its december acquisition of space co it expects earnings per share in 1987 of 1 15 to 1 30 dlrs per share up from 70 cts in 1986 the company said pretax net should rise to nine to 10 mln dlrs from six mln dlrs in 1986 and rental operation revenues to 19 to 22 mln dlrs from 12 5 mln dlrs it said cash flow per share this year should be 2 50 to three dlrs reuter 3'"
            ]
          },
          "metadata": {
            "tags": []
          },
          "execution_count": 31
        }
      ]
    },
    {
      "cell_type": "code",
      "metadata": {
        "id": "G3-P1uqDBJKd",
        "colab_type": "code",
        "colab": {}
      },
      "source": [
        "def vectorize_sequences(sequences,dimension=10000):\n",
        "  results = np.zeros((len(sequences),dimension))\n",
        "  for i,sequence in enumerate(sequences):\n",
        "    results[i,sequence] = 1\n",
        "  return results"
      ],
      "execution_count": 0,
      "outputs": []
    },
    {
      "cell_type": "code",
      "metadata": {
        "id": "HDYXT2RFB_M7",
        "colab_type": "code",
        "colab": {}
      },
      "source": [
        "X_train = vectorize_sequences(train_data)\n",
        "X_test = vectorize_sequences(test_data)"
      ],
      "execution_count": 0,
      "outputs": []
    },
    {
      "cell_type": "code",
      "metadata": {
        "id": "05u7w79OCHB5",
        "colab_type": "code",
        "colab": {}
      },
      "source": [
        "def one_hot_encoding(labels):\n",
        "  result = np.zeros((len(labels),max(labels)+1))\n",
        "  for i,key in enumerate(labels):\n",
        "    result[i,key] = 1\n",
        "  return result"
      ],
      "execution_count": 0,
      "outputs": []
    },
    {
      "cell_type": "code",
      "metadata": {
        "id": "f2Hva0GKCd3G",
        "colab_type": "code",
        "colab": {}
      },
      "source": [
        "y_train = one_hot_encoding(train_labels)\n",
        "y_test = one_hot_encoding(test_labels)"
      ],
      "execution_count": 0,
      "outputs": []
    },
    {
      "cell_type": "code",
      "metadata": {
        "id": "jTzliey4Daf4",
        "colab_type": "code",
        "colab": {
          "base_uri": "https://localhost:8080/",
          "height": 34
        },
        "outputId": "ef1f5eac-fd3f-4e73-a2e6-3a5157bacc49"
      },
      "source": [
        "y_train.shape,y_test.shape"
      ],
      "execution_count": 67,
      "outputs": [
        {
          "output_type": "execute_result",
          "data": {
            "text/plain": [
              "((8982, 46), (2246, 46))"
            ]
          },
          "metadata": {
            "tags": []
          },
          "execution_count": 67
        }
      ]
    },
    {
      "cell_type": "code",
      "metadata": {
        "id": "JDQioxE8Dejj",
        "colab_type": "code",
        "colab": {}
      },
      "source": [
        "##automated way to do one hot encoding \n",
        "from keras.utils.np_utils import to_categorical\n",
        "one_hot_train_labels = to_categorical(train_labels)"
      ],
      "execution_count": 0,
      "outputs": []
    },
    {
      "cell_type": "code",
      "metadata": {
        "id": "dgjRSuFtFvWT",
        "colab_type": "code",
        "colab": {
          "base_uri": "https://localhost:8080/",
          "height": 34
        },
        "outputId": "dfc0dc89-4af1-452c-8bf9-14b0b35e1832"
      },
      "source": [
        "one_hot_train_labels.shape\n"
      ],
      "execution_count": 71,
      "outputs": [
        {
          "output_type": "execute_result",
          "data": {
            "text/plain": [
              "(8982, 46)"
            ]
          },
          "metadata": {
            "tags": []
          },
          "execution_count": 71
        }
      ]
    },
    {
      "cell_type": "code",
      "metadata": {
        "id": "UTYcKgFuFwjz",
        "colab_type": "code",
        "colab": {}
      },
      "source": [
        "x_val = X_train[:1000]\n",
        "partial_x_train = X_train[1000:]\n",
        "y_val = y_train[:1000]\n",
        "partial_y_train = y_train[1000:]"
      ],
      "execution_count": 0,
      "outputs": []
    },
    {
      "cell_type": "code",
      "metadata": {
        "id": "3JOfdhZpI4F4",
        "colab_type": "code",
        "colab": {}
      },
      "source": [
        "model = models.Sequential()\n",
        "model.add(layers.Dense(64,activation = 'relu', input_shape=(10000,)))\n",
        "model.add(layers.Dense(64,activation = 'relu'))\n",
        "model.add(layers.Dense(46,activation = 'softmax'))"
      ],
      "execution_count": 0,
      "outputs": []
    },
    {
      "cell_type": "code",
      "metadata": {
        "id": "QwF2RPf-Khnw",
        "colab_type": "code",
        "colab": {}
      },
      "source": [
        "model.compile(optimizer = 'rmsprop',loss = 'categorical_crossentropy',metrics = ['accuracy'])"
      ],
      "execution_count": 0,
      "outputs": []
    },
    {
      "cell_type": "code",
      "metadata": {
        "id": "dY0jSPXvK2MB",
        "colab_type": "code",
        "colab": {
          "base_uri": "https://localhost:8080/",
          "height": 714
        },
        "outputId": "32dcc828-eae9-4be5-8bbb-ff4c39de54d6"
      },
      "source": [
        "history = model.fit(partial_x_train,partial_y_train,epochs = 20, batch_size = 512,validation_data = (x_val,y_val))"
      ],
      "execution_count": 82,
      "outputs": [
        {
          "output_type": "stream",
          "text": [
            "Train on 7982 samples, validate on 1000 samples\n",
            "Epoch 1/20\n",
            "7982/7982 [==============================] - 2s 195us/step - loss: 2.7783 - acc: 0.5021 - val_loss: 1.8357 - val_acc: 0.6200\n",
            "Epoch 2/20\n",
            "7982/7982 [==============================] - 1s 184us/step - loss: 1.4835 - acc: 0.6922 - val_loss: 1.3450 - val_acc: 0.7000\n",
            "Epoch 3/20\n",
            "7982/7982 [==============================] - 1s 185us/step - loss: 1.0786 - acc: 0.7727 - val_loss: 1.1508 - val_acc: 0.7490\n",
            "Epoch 4/20\n",
            "7982/7982 [==============================] - 1s 186us/step - loss: 0.8463 - acc: 0.8222 - val_loss: 1.0430 - val_acc: 0.7740\n",
            "Epoch 5/20\n",
            "7982/7982 [==============================] - 1s 185us/step - loss: 0.6728 - acc: 0.8596 - val_loss: 0.9650 - val_acc: 0.8060\n",
            "Epoch 6/20\n",
            "7982/7982 [==============================] - 2s 188us/step - loss: 0.5374 - acc: 0.8884 - val_loss: 0.9397 - val_acc: 0.8040\n",
            "Epoch 7/20\n",
            "7982/7982 [==============================] - 1s 187us/step - loss: 0.4358 - acc: 0.9089 - val_loss: 0.8882 - val_acc: 0.8180\n",
            "Epoch 8/20\n",
            "7982/7982 [==============================] - 2s 191us/step - loss: 0.3527 - acc: 0.9272 - val_loss: 0.8897 - val_acc: 0.8190\n",
            "Epoch 9/20\n",
            "7982/7982 [==============================] - 1s 185us/step - loss: 0.2919 - acc: 0.9379 - val_loss: 0.8864 - val_acc: 0.8150\n",
            "Epoch 10/20\n",
            "7982/7982 [==============================] - 1s 185us/step - loss: 0.2473 - acc: 0.9426 - val_loss: 0.8938 - val_acc: 0.8170\n",
            "Epoch 11/20\n",
            "7982/7982 [==============================] - 1s 187us/step - loss: 0.2138 - acc: 0.9470 - val_loss: 0.9247 - val_acc: 0.8150\n",
            "Epoch 12/20\n",
            "7982/7982 [==============================] - 1s 186us/step - loss: 0.1887 - acc: 0.9496 - val_loss: 0.9097 - val_acc: 0.8200\n",
            "Epoch 13/20\n",
            "7982/7982 [==============================] - 1s 187us/step - loss: 0.1694 - acc: 0.9534 - val_loss: 0.9233 - val_acc: 0.8200\n",
            "Epoch 14/20\n",
            "7982/7982 [==============================] - 1s 186us/step - loss: 0.1524 - acc: 0.9550 - val_loss: 0.9544 - val_acc: 0.8080\n",
            "Epoch 15/20\n",
            "7982/7982 [==============================] - 2s 190us/step - loss: 0.1433 - acc: 0.9535 - val_loss: 0.9609 - val_acc: 0.8210\n",
            "Epoch 16/20\n",
            "7982/7982 [==============================] - 1s 184us/step - loss: 0.1305 - acc: 0.9569 - val_loss: 1.0722 - val_acc: 0.7890\n",
            "Epoch 17/20\n",
            "7982/7982 [==============================] - 1s 185us/step - loss: 0.1268 - acc: 0.9572 - val_loss: 0.9863 - val_acc: 0.8110\n",
            "Epoch 18/20\n",
            "7982/7982 [==============================] - 1s 185us/step - loss: 0.1179 - acc: 0.9560 - val_loss: 1.0067 - val_acc: 0.8050\n",
            "Epoch 19/20\n",
            "7982/7982 [==============================] - 1s 185us/step - loss: 0.1183 - acc: 0.9582 - val_loss: 1.0357 - val_acc: 0.8020\n",
            "Epoch 20/20\n",
            "7982/7982 [==============================] - 1s 183us/step - loss: 0.1091 - acc: 0.9575 - val_loss: 1.0782 - val_acc: 0.8070\n"
          ],
          "name": "stdout"
        }
      ]
    },
    {
      "cell_type": "code",
      "metadata": {
        "id": "IHwMtuxMLJOk",
        "colab_type": "code",
        "colab": {}
      },
      "source": [
        "accuracy = history.history['acc']\n",
        "loss = history.history['loss']\n",
        "val_accuracy = history.history['val_acc']\n",
        "val_loss = history.history['val_loss']\n",
        "epochs = list(range(1,21))"
      ],
      "execution_count": 0,
      "outputs": []
    },
    {
      "cell_type": "code",
      "metadata": {
        "id": "Cph4Eh9nNA-1",
        "colab_type": "code",
        "colab": {
          "base_uri": "https://localhost:8080/",
          "height": 295
        },
        "outputId": "58a301c1-2172-4843-ccad-f32eb23a3ac5"
      },
      "source": [
        "plt.plot(epochs,accuracy,'bo',label = 'train_accuracy')\n",
        "plt.plot(epochs,val_accuracy,'b',label = 'validation_accuracy')\n",
        "plt.xlabel('epochs')\n",
        "plt.ylabel('accuracy')\n",
        "plt.title('train vs val accuracy by epoch')\n",
        "plt.show()"
      ],
      "execution_count": 88,
      "outputs": [
        {
          "output_type": "display_data",
          "data": {
            "image/png": "[encoded data removed]",
            "text/plain": [
              "<Figure size 432x288 with 1 Axes>"
            ]
          },
          "metadata": {
            "tags": []
          }
        }
      ]
    },
    {
      "cell_type": "code",
      "metadata": {
        "id": "VRMnSfeuNcaK",
        "colab_type": "code",
        "colab": {
          "base_uri": "https://localhost:8080/",
          "height": 295
        },
        "outputId": "c147117f-cef9-4cd1-b6b1-950df70270f1"
      },
      "source": [
        "plt.plot(epochs,loss,'bo',label = 'train_loss')\n",
        "plt.plot(epochs,val_loss,'b',label = 'validation_loss')\n",
        "plt.xlabel('epochs')\n",
        "plt.ylabel('loss')\n",
        "plt.title('train vs val loss by epoch')\n",
        "plt.show()"
      ],
      "execution_count": 89,
      "outputs": [
        {
          "output_type": "display_data",
          "data": {
            "image/png": "[encoded data removed]",
            "text/plain": [
              "<Figure size 432x288 with 1 Axes>"
            ]
          },
          "metadata": {
            "tags": []
          }
        }
      ]
    },
    {
      "cell_type": "code",
      "metadata": {
        "id": "99YC40pON1H-",
        "colab_type": "code",
        "colab": {
          "base_uri": "https://localhost:8080/",
          "height": 340
        },
        "outputId": "d43ac3ab-0fac-44a6-f0f6-987883c63d98"
      },
      "source": [
        "## By looking at the plots, we can see that after 9 epochs, the model started getting overfit, so we will train our model for 9 epochs\n",
        "\n",
        "model = models.Sequential()\n",
        "model.add(layers.Dense(64,activation = 'relu', input_shape=(10000,)))\n",
        "model.add(layers.Dense(64,activation = 'relu'))\n",
        "model.add(layers.Dense(46,activation = 'softmax'))\n",
        "model.compile(optimizer = 'rmsprop',loss = 'categorical_crossentropy',metrics = ['accuracy'])\n",
        "history = model.fit(partial_x_train,partial_y_train,epochs = 9, batch_size = 512,validation_data = (x_val,y_val))"
      ],
      "execution_count": 90,
      "outputs": [
        {
          "output_type": "stream",
          "text": [
            "Train on 7982 samples, validate on 1000 samples\n",
            "Epoch 1/9\n",
            "7982/7982 [==============================] - 2s 200us/step - loss: 2.8535 - acc: 0.4022 - val_loss: 1.9506 - val_acc: 0.6340\n",
            "Epoch 2/9\n",
            "7982/7982 [==============================] - 1s 170us/step - loss: 1.5744 - acc: 0.6898 - val_loss: 1.3817 - val_acc: 0.7110\n",
            "Epoch 3/9\n",
            "7982/7982 [==============================] - 2s 188us/step - loss: 1.1286 - acc: 0.7676 - val_loss: 1.1845 - val_acc: 0.7390\n",
            "Epoch 4/9\n",
            "7982/7982 [==============================] - 2s 190us/step - loss: 0.8774 - acc: 0.8226 - val_loss: 1.0474 - val_acc: 0.7810\n",
            "Epoch 5/9\n",
            "7982/7982 [==============================] - 2s 189us/step - loss: 0.6982 - acc: 0.8559 - val_loss: 0.9800 - val_acc: 0.8030\n",
            "Epoch 6/9\n",
            "7982/7982 [==============================] - 2s 190us/step - loss: 0.5531 - acc: 0.8899 - val_loss: 0.9446 - val_acc: 0.7990\n",
            "Epoch 7/9\n",
            "7982/7982 [==============================] - 2s 190us/step - loss: 0.4479 - acc: 0.9100 - val_loss: 0.9432 - val_acc: 0.8090\n",
            "Epoch 8/9\n",
            "7982/7982 [==============================] - 2s 194us/step - loss: 0.3678 - acc: 0.9256 - val_loss: 0.9017 - val_acc: 0.8080\n",
            "Epoch 9/9\n",
            "7982/7982 [==============================] - 2s 190us/step - loss: 0.3041 - acc: 0.9356 - val_loss: 0.9124 - val_acc: 0.8160\n"
          ],
          "name": "stdout"
        }
      ]
    },
    {
      "cell_type": "code",
      "metadata": {
        "id": "Rs_XdIj2OkWE",
        "colab_type": "code",
        "colab": {
          "base_uri": "https://localhost:8080/",
          "height": 34
        },
        "outputId": "2ce4e273-3b08-4c85-fc23-8817834940cf"
      },
      "source": [
        "results = model.evaluate(X_test,y_test)"
      ],
      "execution_count": 92,
      "outputs": [
        {
          "output_type": "stream",
          "text": [
            "2246/2246 [==============================] - 0s 133us/step\n"
          ],
          "name": "stdout"
        }
      ]
    },
    {
      "cell_type": "code",
      "metadata": {
        "id": "FWjSChF4PBNY",
        "colab_type": "code",
        "colab": {
          "base_uri": "https://localhost:8080/",
          "height": 34
        },
        "outputId": "210f3293-4053-4a32-aa2f-63a921953b3c"
      },
      "source": [
        "results"
      ],
      "execution_count": 100,
      "outputs": [
        {
          "output_type": "execute_result",
          "data": {
            "text/plain": [
              "[0.9764160717159961, 0.7920747996703493]"
            ]
          },
          "metadata": {
            "tags": []
          },
          "execution_count": 100
        }
      ]
    },
    {
      "cell_type": "code",
      "metadata": {
        "id": "M3MRAmKqPFkf",
        "colab_type": "code",
        "colab": {}
      },
      "source": [
        "predictions = model.predict(X_test)"
      ],
      "execution_count": 0,
      "outputs": []
    },
    {
      "cell_type": "code",
      "metadata": {
        "id": "kpwk_80wSLES",
        "colab_type": "code",
        "colab": {
          "base_uri": "https://localhost:8080/",
          "height": 221
        },
        "outputId": "25663eef-aa0d-4956-e6d1-a5b9d0af2ca0"
      },
      "source": [
        "predictions[0]"
      ],
      "execution_count": 105,
      "outputs": [
        {
          "output_type": "execute_result",
          "data": {
            "text/plain": [
              "array([5.8378946e-06, 1.6278376e-04, 8.2622268e-05, 6.5313864e-01,\n",
              "       3.3258280e-01, 2.7940439e-06, 4.4886558e-05, 1.0245384e-05,\n",
              "       3.4673163e-03, 1.4303860e-05, 4.1804215e-05, 8.9201040e-04,\n",
              "       9.7792399e-05, 8.4639213e-04, 1.3177734e-05, 4.7693993e-05,\n",
              "       1.4548802e-03, 3.8567715e-04, 1.7637762e-05, 2.4410430e-03,\n",
              "       2.3547267e-03, 1.6151174e-04, 1.9043858e-06, 4.6159774e-05,\n",
              "       5.2084638e-06, 9.4833915e-05, 6.1489336e-06, 1.5740932e-06,\n",
              "       2.4453804e-04, 1.1418739e-04, 3.0849962e-05, 7.9712830e-05,\n",
              "       2.1582030e-04, 1.5677479e-05, 1.2814868e-05, 7.4484528e-06,\n",
              "       3.1020056e-04, 4.9422351e-06, 1.2923015e-05, 3.2144223e-04,\n",
              "       2.2132204e-05, 1.1627941e-04, 5.4149463e-05, 1.1431209e-05,\n",
              "       1.7739811e-06, 1.2259903e-06], dtype=float32)"
            ]
          },
          "metadata": {
            "tags": []
          },
          "execution_count": 105
        }
      ]
    },
    {
      "cell_type": "code",
      "metadata": {
        "id": "RzQMbrPfSN31",
        "colab_type": "code",
        "colab": {
          "base_uri": "https://localhost:8080/",
          "height": 34
        },
        "outputId": "7cfb44a7-1916-444b-a765-f08a0c876408"
      },
      "source": [
        "np.sum(predictions[0])"
      ],
      "execution_count": 106,
      "outputs": [
        {
          "output_type": "execute_result",
          "data": {
            "text/plain": [
              "1.0"
            ]
          },
          "metadata": {
            "tags": []
          },
          "execution_count": 106
        }
      ]
    },
    {
      "cell_type": "code",
      "metadata": {
        "id": "L67M3O_HSg0y",
        "colab_type": "code",
        "colab": {
          "base_uri": "https://localhost:8080/",
          "height": 34
        },
        "outputId": "672681fe-7d15-48e2-cba4-77668f511a82"
      },
      "source": [
        "np.argmax(predictions[0])"
      ],
      "execution_count": 107,
      "outputs": [
        {
          "output_type": "execute_result",
          "data": {
            "text/plain": [
              "3"
            ]
          },
          "metadata": {
            "tags": []
          },
          "execution_count": 107
        }
      ]
    },
    {
      "cell_type": "code",
      "metadata": {
        "id": "xjHiT3hLSimX",
        "colab_type": "code",
        "colab": {
          "base_uri": "https://localhost:8080/",
          "height": 34
        },
        "outputId": "762432ed-2b55-426a-f448-86e70ffd2564"
      },
      "source": [
        "train_labels[0]"
      ],
      "execution_count": 112,
      "outputs": [
        {
          "output_type": "execute_result",
          "data": {
            "text/plain": [
              "3"
            ]
          },
          "metadata": {
            "tags": []
          },
          "execution_count": 112
        }
      ]
    },
    {
      "cell_type": "code",
      "metadata": {
        "id": "rzMVrqb8Ssnf",
        "colab_type": "code",
        "colab": {}
      },
      "source": [
        "###one more thing to note, Since we had used categorical_corssentropy loss function, we had to use one hot encoding, if we had used sparse_categorical_crossentropy\n",
        "##then we dont need to do one_hot_encoding\n"
      ],
      "execution_count": 0,
      "outputs": []
    }
  ]
}