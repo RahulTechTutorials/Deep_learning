{
  "nbformat": 4,
  "nbformat_minor": 0,
  "metadata": {
    "colab": {
      "name": "Classification_NN_Dogs_cats.ipynb",
      "version": "0.3.2",
      "provenance": [],
      "include_colab_link": true
    },
    "kernelspec": {
      "name": "python3",
      "display_name": "Python 3"
    }
  },
  "cells": [
    {
      "cell_type": "markdown",
      "metadata": {
        "id": "view-in-github",
        "colab_type": "text"
      },
      "source": [
        "<a href=\"https://colab.research.google.com/github/RahulTechTutorials/Deep_learning/blob/master/Classification_NN_Dogs_cats.ipynb\" target=\"_parent\"><img src=\"https://colab.research.google.com/assets/colab-badge.svg\" alt=\"Open In Colab\"/></a>"
      ]
    },
    {
      "cell_type": "code",
      "metadata": {
        "id": "1uWgN2EEeGMn",
        "colab_type": "code",
        "colab": {
          "base_uri": "https://localhost:8080/",
          "height": 34
        },
        "outputId": "795051d2-38e6-41e6-c715-4eb78d35a85d"
      },
      "source": [
        "import os, shutil\n",
        "from keras import layers,models\n",
        "from keras import optimizers\n",
        "from keras.preprocessing.image import ImageDataGenerator\n",
        "from keras.preprocessing import image\n",
        "import numpy as np\n",
        "from keras.applications import VGG16"
      ],
      "execution_count": 1,
      "outputs": [
        {
          "output_type": "stream",
          "text": [
            "Using TensorFlow backend.\n"
          ],
          "name": "stderr"
        }
      ]
    },
    {
      "cell_type": "code",
      "metadata": {
        "id": "2rKMCcTKeOY0",
        "colab_type": "code",
        "colab": {
          "base_uri": "https://localhost:8080/",
          "height": 122
        },
        "outputId": "0e621b89-9b71-41c8-fa39-3e8f0aa5c160"
      },
      "source": [
        "from google.colab import drive\n",
        "drive.mount('/gdrive')"
      ],
      "execution_count": 4,
      "outputs": [
        {
          "output_type": "stream",
          "text": [
            "Go to this URL in a browser: https://accounts.google.com/o/oauth2/auth?client_id=947318989803-6bn6qk8qdgf4n4g3pfee6491hc0brc4i.apps.googleusercontent.com&redirect_uri=urn%3Aietf%3Awg%3Aoauth%3A2.0%3Aoob&scope=email%20https%3A%2F%2Fwww.googleapis.com%2Fauth%2Fdocs.test%20https%3A%2F%2Fwww.googleapis.com%2Fauth%2Fdrive%20https%3A%2F%2Fwww.googleapis.com%2Fauth%2Fdrive.photos.readonly%20https%3A%2F%2Fwww.googleapis.com%2Fauth%2Fpeopleapi.readonly&response_type=code\n",
            "\n",
            "Enter your authorization code:\n",
            "··········\n",
            "Mounted at /gdrive\n"
          ],
          "name": "stdout"
        }
      ]
    },
    {
      "cell_type": "code",
      "metadata": {
        "id": "cSeXEkYNerVg",
        "colab_type": "code",
        "colab": {}
      },
      "source": [
        "#%cd /gdrive\n",
        "#os.getcwd()\n",
        "#os.listdir()\n",
        "os.chdir('/gdrive/My Drive/colab_datasets/cat_dog')"
      ],
      "execution_count": 0,
      "outputs": []
    },
    {
      "cell_type": "code",
      "metadata": {
        "id": "4uG20xsYe-8H",
        "colab_type": "code",
        "colab": {
          "base_uri": "https://localhost:8080/",
          "height": 34
        },
        "outputId": "abc64124-5070-4664-e08c-ce063950139c"
      },
      "source": [
        "os.getcwd()"
      ],
      "execution_count": 2,
      "outputs": [
        {
          "output_type": "execute_result",
          "data": {
            "text/plain": [
              "'/content'"
            ]
          },
          "metadata": {
            "tags": []
          },
          "execution_count": 2
        }
      ]
    },
    {
      "cell_type": "code",
      "metadata": {
        "id": "pYrwZk4gfwUw",
        "colab_type": "code",
        "colab": {}
      },
      "source": [
        "original_dataset_dir = '/gdrive/My Drive/colab_datasets/cat_dog'\n",
        "base_dir = '/gdrive/My Drive/colab_datasets/base_dir'\n",
        "#os.mkdir(base_dir)\n",
        "train_dir = os.path.join(base_dir,'train')\n",
        "#os.mkdir(train_dir)\n",
        "validation_dir = os.path.join(base_dir,'validation')\n",
        "#os.mkdir(validation_dir)\n",
        "test_dir = os.path.join(base_dir,'test')\n",
        "#os.mkdir(test_dir)"
      ],
      "execution_count": 0,
      "outputs": []
    },
    {
      "cell_type": "code",
      "metadata": {
        "id": "3GOnAhpIhE6W",
        "colab_type": "code",
        "colab": {}
      },
      "source": [
        "train_cats_dir = os.path.join(train_dir,'cats')\n",
        "train_dogs_dir = os.path.join(train_dir,'dogs')\n",
        "#os.mkdir(train_cats_dir)\n",
        "#os.mkdir(train_dogs_dir)"
      ],
      "execution_count": 0,
      "outputs": []
    },
    {
      "cell_type": "code",
      "metadata": {
        "id": "L7wVMpxAhPw6",
        "colab_type": "code",
        "colab": {}
      },
      "source": [
        "validation_cats_dir = os.path.join(validation_dir,'cats')\n",
        "validation_dogs_dir = os.path.join(validation_dir,'dogs')\n",
        "#os.mkdir(validation_cats_dir)\n",
        "#os.mkdir(validation_dogs_dir)"
      ],
      "execution_count": 0,
      "outputs": []
    },
    {
      "cell_type": "code",
      "metadata": {
        "id": "EWx2pACNhVrG",
        "colab_type": "code",
        "colab": {}
      },
      "source": [
        "test_cats_dir = os.path.join(test_dir,'cats')\n",
        "test_dogs_dir = os.path.join(test_dir,'dogs')\n",
        "#os.mkdir(test_cats_dir)\n",
        "#os.mkdir(test_dogs_dir)"
      ],
      "execution_count": 0,
      "outputs": []
    },
    {
      "cell_type": "code",
      "metadata": {
        "id": "gFc_6da0hZ3Q",
        "colab_type": "code",
        "colab": {}
      },
      "source": [
        "#fnames = ['cat.{}.jpg'.format(i) for i in range(1000)]"
      ],
      "execution_count": 0,
      "outputs": []
    },
    {
      "cell_type": "code",
      "metadata": {
        "id": "O0lDdbgKiUGR",
        "colab_type": "code",
        "colab": {
          "base_uri": "https://localhost:8080/",
          "height": 187
        },
        "outputId": "21df432f-35b6-4c4a-fab8-6618734884a3"
      },
      "source": [
        "#fnames[:10]"
      ],
      "execution_count": 49,
      "outputs": [
        {
          "output_type": "execute_result",
          "data": {
            "text/plain": [
              "['cat.1.jpg',\n",
              " 'cat.2.jpg',\n",
              " 'cat.3.jpg',\n",
              " 'cat.4.jpg',\n",
              " 'cat.5.jpg',\n",
              " 'cat.6.jpg',\n",
              " 'cat.7.jpg',\n",
              " 'cat.8.jpg',\n",
              " 'cat.9.jpg',\n",
              " 'cat.10.jpg']"
            ]
          },
          "metadata": {
            "tags": []
          },
          "execution_count": 49
        }
      ]
    },
    {
      "cell_type": "code",
      "metadata": {
        "id": "C7V2Gi4biY9J",
        "colab_type": "code",
        "colab": {}
      },
      "source": [
        "'''\n",
        "for fname in fnames:\n",
        "  src = os.path.join(original_dataset_dir,fname)\n",
        "  dst = os.path.join(train_cats_dir,fname)\n",
        "  shutil.copyfile(src,dst)\n",
        "  '''"
      ],
      "execution_count": 0,
      "outputs": []
    },
    {
      "cell_type": "code",
      "metadata": {
        "id": "wv9sSmN2jV8b",
        "colab_type": "code",
        "colab": {}
      },
      "source": [
        "'''\n",
        "fnames = ['cat.{}.jpg'.format(i) for i in range(1000,1500)]\n",
        "for fname in fnames:\n",
        "  src = os.path.join(original_dataset_dir,fname)\n",
        "  dst = os.path.join(validation_cats_dir,fname)\n",
        "  shutil.copyfile(src,dst)\n",
        "'''  "
      ],
      "execution_count": 0,
      "outputs": []
    },
    {
      "cell_type": "code",
      "metadata": {
        "id": "1_-Q2X3Nj1fq",
        "colab_type": "code",
        "colab": {}
      },
      "source": [
        "'''fnames = ['cat.{}.jpg'.format(i) for i in range(1500,2000)]\n",
        "for fname in fnames:\n",
        "  src = os.path.join(original_dataset_dir,fname)\n",
        "  dst = os.path.join(test_cats_dir,fname)\n",
        "  shutil.copyfile(src,dst)\n",
        "  '''"
      ],
      "execution_count": 0,
      "outputs": []
    },
    {
      "cell_type": "code",
      "metadata": {
        "id": "l-ydGCiUj-Yv",
        "colab_type": "code",
        "colab": {}
      },
      "source": [
        "'''fnames = ['dog.{}.jpg'.format(i) for i in range(1000)]\n",
        "for fname in fnames:\n",
        "  src = os.path.join(original_dataset_dir,fname)\n",
        "  dst = os.path.join(train_dogs_dir,fname)\n",
        "  shutil.copyfile(src,dst)'''\n",
        "  "
      ],
      "execution_count": 0,
      "outputs": []
    },
    {
      "cell_type": "code",
      "metadata": {
        "id": "tATCBU88kFXy",
        "colab_type": "code",
        "colab": {}
      },
      "source": [
        "'''fnames = ['dog.{}.jpg'.format(i) for i in range(1000,1500)]\n",
        "for fname in fnames:\n",
        "  src = os.path.join(original_dataset_dir,fname)\n",
        "  dst = os.path.join(validation_dogs_dir,fname)\n",
        "  shutil.copyfile(src,dst)'''"
      ],
      "execution_count": 0,
      "outputs": []
    },
    {
      "cell_type": "code",
      "metadata": {
        "id": "kGx9RjOTkFcI",
        "colab_type": "code",
        "colab": {}
      },
      "source": [
        "'''fnames = ['dog.{}.jpg'.format(i) for i in range(1500,2000)]\n",
        "for fname in fnames:\n",
        "  src = os.path.join(original_dataset_dir,fname)\n",
        "  dst = os.path.join(test_dogs_dir,fname)\n",
        "  shutil.copyfile(src,dst)'''"
      ],
      "execution_count": 0,
      "outputs": []
    },
    {
      "cell_type": "code",
      "metadata": {
        "id": "04uFi-EJpkVl",
        "colab_type": "code",
        "colab": {}
      },
      "source": [
        "'''shutil.copyfile('/gdrive/My Drive/colab_datasets/cat_dog/cat.0.jpg','/gdrive/My Drive/colab_datasets/base_dir/train/cats/cat.0.jpg')\n",
        "   shutil.copyfile('/gdrive/My Drive/colab_datasets/cat_dog/dog.0.jpg','/gdrive/My Drive/colab_datasets/base_dir/train/dogs/dog.0.jpg')\n",
        "'''   "
      ],
      "execution_count": 0,
      "outputs": []
    },
    {
      "cell_type": "code",
      "metadata": {
        "id": "fSvJwAeEnlu6",
        "colab_type": "code",
        "colab": {
          "base_uri": "https://localhost:8080/",
          "height": 119
        },
        "outputId": "ac0c74cb-2323-4843-ad58-e2bbe8fee2d1"
      },
      "source": [
        "print('Total no of training cats',len(os.listdir(train_cats_dir)))\n",
        "print('Total no of validation cats',len(os.listdir(validation_cats_dir)))\n",
        "print('Total no of test cats',len(os.listdir(test_cats_dir)))\n",
        "print('Total no of training dog',len(os.listdir(train_dogs_dir)))\n",
        "print('Total no of validation dogs',len(os.listdir(validation_dogs_dir)))\n",
        "print('Total no of test dogs',len(os.listdir(test_dogs_dir)))\n"
      ],
      "execution_count": 9,
      "outputs": [
        {
          "output_type": "stream",
          "text": [
            "Total no of training cats 1000\n",
            "Total no of validation cats 500\n",
            "Total no of test cats 500\n",
            "Total no of training dog 1000\n",
            "Total no of validation dogs 500\n",
            "Total no of test dogs 500\n"
          ],
          "name": "stdout"
        }
      ]
    },
    {
      "cell_type": "markdown",
      "metadata": {
        "id": "ocOSI2iGptKW",
        "colab_type": "text"
      },
      "source": [
        "Network Creation - Convnet"
      ]
    },
    {
      "cell_type": "code",
      "metadata": {
        "id": "7F0_R9UPoJH1",
        "colab_type": "code",
        "colab": {
          "base_uri": "https://localhost:8080/",
          "height": 190
        },
        "outputId": "0222c52d-ce52-4f70-d725-4a92da5967c5"
      },
      "source": [
        "model = models.Sequential()\n",
        "model.add(layers.Conv2D(32,(3,3),activation = 'relu', input_shape = (150,150,3)))\n",
        "model.add(layers.MaxPooling2D((2,2)))\n",
        "model.add(layers.Conv2D(64,(3,3),activation = 'relu'))\n",
        "model.add(layers.MaxPooling2D((2,2)))\n",
        "model.add(layers.Conv2D(128,(3,3),activation = 'relu'))\n",
        "model.add(layers.MaxPooling2D((2,2)))\n",
        "model.add(layers.Conv2D(128,(3,3),activation = 'relu'))\n",
        "model.add(layers.MaxPooling2D((2,2)))\n",
        "model.add(layers.Flatten())\n",
        "model.add(layers.Dense(512,activation='relu'))\n",
        "model.add(layers.Dense(1,activation='sigmoid'))"
      ],
      "execution_count": 63,
      "outputs": [
        {
          "output_type": "stream",
          "text": [
            "WARNING: Logging before flag parsing goes to stderr.\n",
            "W0617 04:22:49.972796 139836576929664 deprecation_wrapper.py:119] From /usr/local/lib/python3.6/dist-packages/keras/backend/tensorflow_backend.py:74: The name tf.get_default_graph is deprecated. Please use tf.compat.v1.get_default_graph instead.\n",
            "\n",
            "W0617 04:22:50.024877 139836576929664 deprecation_wrapper.py:119] From /usr/local/lib/python3.6/dist-packages/keras/backend/tensorflow_backend.py:517: The name tf.placeholder is deprecated. Please use tf.compat.v1.placeholder instead.\n",
            "\n",
            "W0617 04:22:50.035111 139836576929664 deprecation_wrapper.py:119] From /usr/local/lib/python3.6/dist-packages/keras/backend/tensorflow_backend.py:4138: The name tf.random_uniform is deprecated. Please use tf.random.uniform instead.\n",
            "\n",
            "W0617 04:22:50.080311 139836576929664 deprecation_wrapper.py:119] From /usr/local/lib/python3.6/dist-packages/keras/backend/tensorflow_backend.py:3976: The name tf.nn.max_pool is deprecated. Please use tf.nn.max_pool2d instead.\n",
            "\n"
          ],
          "name": "stderr"
        }
      ]
    },
    {
      "cell_type": "code",
      "metadata": {
        "id": "G1N9E0gYpMok",
        "colab_type": "code",
        "colab": {
          "base_uri": "https://localhost:8080/",
          "height": 510
        },
        "outputId": "d3079449-a1c1-4b26-c238-aec0152c8dbf"
      },
      "source": [
        "###Printing the model summary\n",
        "model.summary()"
      ],
      "execution_count": 65,
      "outputs": [
        {
          "output_type": "stream",
          "text": [
            "_________________________________________________________________\n",
            "Layer (type)                 Output Shape              Param #   \n",
            "=================================================================\n",
            "conv2d_1 (Conv2D)            (None, 148, 148, 32)      896       \n",
            "_________________________________________________________________\n",
            "max_pooling2d_1 (MaxPooling2 (None, 74, 74, 32)        0         \n",
            "_________________________________________________________________\n",
            "conv2d_2 (Conv2D)            (None, 72, 72, 64)        18496     \n",
            "_________________________________________________________________\n",
            "max_pooling2d_2 (MaxPooling2 (None, 36, 36, 64)        0         \n",
            "_________________________________________________________________\n",
            "conv2d_3 (Conv2D)            (None, 34, 34, 128)       73856     \n",
            "_________________________________________________________________\n",
            "max_pooling2d_3 (MaxPooling2 (None, 17, 17, 128)       0         \n",
            "_________________________________________________________________\n",
            "conv2d_4 (Conv2D)            (None, 15, 15, 128)       147584    \n",
            "_________________________________________________________________\n",
            "max_pooling2d_4 (MaxPooling2 (None, 7, 7, 128)         0         \n",
            "_________________________________________________________________\n",
            "flatten_1 (Flatten)          (None, 6272)              0         \n",
            "_________________________________________________________________\n",
            "dense_1 (Dense)              (None, 512)               3211776   \n",
            "_________________________________________________________________\n",
            "dense_2 (Dense)              (None, 1)                 513       \n",
            "=================================================================\n",
            "Total params: 3,453,121\n",
            "Trainable params: 3,453,121\n",
            "Non-trainable params: 0\n",
            "_________________________________________________________________\n"
          ],
          "name": "stdout"
        }
      ]
    },
    {
      "cell_type": "code",
      "metadata": {
        "id": "wKkToGq3pUzD",
        "colab_type": "code",
        "colab": {
          "base_uri": "https://localhost:8080/",
          "height": 156
        },
        "outputId": "e4a01015-5cf2-40ef-df34-592aec6ae2b5"
      },
      "source": [
        "###Compiling the network\n",
        "\n",
        "model.compile(loss = 'binary_crossentropy', optimizer = optimizers.RMSprop(lr=1e-4),metrics=['acc'])"
      ],
      "execution_count": 66,
      "outputs": [
        {
          "output_type": "stream",
          "text": [
            "W0617 04:25:58.792720 139836576929664 deprecation_wrapper.py:119] From /usr/local/lib/python3.6/dist-packages/keras/optimizers.py:790: The name tf.train.Optimizer is deprecated. Please use tf.compat.v1.train.Optimizer instead.\n",
            "\n",
            "W0617 04:25:58.801005 139836576929664 deprecation_wrapper.py:119] From /usr/local/lib/python3.6/dist-packages/keras/backend/tensorflow_backend.py:3376: The name tf.log is deprecated. Please use tf.math.log instead.\n",
            "\n",
            "W0617 04:25:58.807543 139836576929664 deprecation.py:323] From /usr/local/lib/python3.6/dist-packages/tensorflow/python/ops/nn_impl.py:180: add_dispatch_support.<locals>.wrapper (from tensorflow.python.ops.array_ops) is deprecated and will be removed in a future version.\n",
            "Instructions for updating:\n",
            "Use tf.where in 2.0, which has the same broadcast rule as np.where\n"
          ],
          "name": "stderr"
        }
      ]
    },
    {
      "cell_type": "code",
      "metadata": {
        "id": "Y-WlYbJtr0FJ",
        "colab_type": "code",
        "colab": {
          "base_uri": "https://localhost:8080/",
          "height": 51
        },
        "outputId": "19209a4c-2fca-4b5a-d2e1-e4be6917a356"
      },
      "source": [
        "###As you know, we need to feed in the tensor data to the Deep NNs, we need to conver the images to Tensors. Luckily keras\n",
        "###provides a package which does it for us.\n",
        "\n",
        "train_datagen = ImageDataGenerator(rescale=1./255)\n",
        "test_datagen = ImageDataGenerator(rescale=1./255)\n",
        "\n",
        "train_generator = train_datagen.flow_from_directory(train_dir,target_size=(150,150),batch_size = 20, class_mode='binary')\n",
        "validation_generator = test_datagen.flow_from_directory(validation_dir,target_size=(150,150),batch_size = 20, class_mode='binary')"
      ],
      "execution_count": 67,
      "outputs": [
        {
          "output_type": "stream",
          "text": [
            "Found 2000 images belonging to 2 classes.\n",
            "Found 1000 images belonging to 2 classes.\n"
          ],
          "name": "stdout"
        }
      ]
    },
    {
      "cell_type": "code",
      "metadata": {
        "id": "fD-pwTT5tR2y",
        "colab_type": "code",
        "colab": {
          "base_uri": "https://localhost:8080/",
          "height": 51
        },
        "outputId": "e2ffc232-0d9f-42c5-ba7d-fed51ed1ad37"
      },
      "source": [
        "###While pulling the data from generator, please see that it generates batches of 20 tensors of shape (150,150,3). The output\n",
        "###is a tuple of data and label.\n",
        "\n",
        "for index,item in enumerate(train_generator):\n",
        "  if index == 0 :\n",
        "    print('data shape: ',item[0].shape)\n",
        "    print('label shape:',item[1].shape)\n",
        "  else:\n",
        "    break"
      ],
      "execution_count": 74,
      "outputs": [
        {
          "output_type": "stream",
          "text": [
            "data shape:  (20, 150, 150, 3)\n",
            "label shape: (20,)\n"
          ],
          "name": "stdout"
        }
      ]
    },
    {
      "cell_type": "code",
      "metadata": {
        "id": "WrTBfVmYtfiK",
        "colab_type": "code",
        "colab": {
          "base_uri": "https://localhost:8080/",
          "height": 1091
        },
        "outputId": "d856554d-1b30-449d-d9f0-be1923e36722"
      },
      "source": [
        "##Fitting the model from the fit_generator method, which will take batches of data. We will specify who many batches for\n",
        "##one epoch, after which the gradient descent will kcik in. We can do the same with validation data set as well.\n",
        "'''\n",
        "history = model.fit_generator(train_generator,steps_per_epoch=100,epochs=30,\n",
        "                             validation_data = validation_generator,validation_steps=50)\n",
        "                             '''"
      ],
      "execution_count": 76,
      "outputs": [
        {
          "output_type": "stream",
          "text": [
            "W0617 04:42:04.756911 139836576929664 deprecation_wrapper.py:119] From /usr/local/lib/python3.6/dist-packages/keras/backend/tensorflow_backend.py:986: The name tf.assign_add is deprecated. Please use tf.compat.v1.assign_add instead.\n",
            "\n"
          ],
          "name": "stderr"
        },
        {
          "output_type": "stream",
          "text": [
            "Epoch 1/30\n",
            "100/100 [==============================] - 114s 1s/step - loss: 0.6871 - acc: 0.5365 - val_loss: 0.6675 - val_acc: 0.6080\n",
            "Epoch 2/30\n",
            "100/100 [==============================] - 112s 1s/step - loss: 0.6523 - acc: 0.6170 - val_loss: 0.6293 - val_acc: 0.6430\n",
            "Epoch 3/30\n",
            "100/100 [==============================] - 112s 1s/step - loss: 0.6007 - acc: 0.6610 - val_loss: 0.6129 - val_acc: 0.6520\n",
            "Epoch 4/30\n",
            "100/100 [==============================] - 112s 1s/step - loss: 0.5639 - acc: 0.7010 - val_loss: 0.5943 - val_acc: 0.6770\n",
            "Epoch 5/30\n",
            "100/100 [==============================] - 113s 1s/step - loss: 0.5274 - acc: 0.7410 - val_loss: 0.5906 - val_acc: 0.6920\n",
            "Epoch 6/30\n",
            "100/100 [==============================] - 113s 1s/step - loss: 0.5063 - acc: 0.7575 - val_loss: 0.5842 - val_acc: 0.6930\n",
            "Epoch 7/30\n",
            "100/100 [==============================] - 113s 1s/step - loss: 0.4799 - acc: 0.7715 - val_loss: 0.6205 - val_acc: 0.6640\n",
            "Epoch 8/30\n",
            "100/100 [==============================] - 113s 1s/step - loss: 0.4574 - acc: 0.7855 - val_loss: 0.5704 - val_acc: 0.7060\n",
            "Epoch 9/30\n",
            "100/100 [==============================] - 113s 1s/step - loss: 0.4229 - acc: 0.8135 - val_loss: 0.6283 - val_acc: 0.6990\n",
            "Epoch 10/30\n",
            "100/100 [==============================] - 113s 1s/step - loss: 0.4118 - acc: 0.8135 - val_loss: 0.5801 - val_acc: 0.6970\n",
            "Epoch 11/30\n",
            "100/100 [==============================] - 113s 1s/step - loss: 0.3774 - acc: 0.8305 - val_loss: 0.5782 - val_acc: 0.7090\n",
            "Epoch 12/30\n",
            "100/100 [==============================] - 113s 1s/step - loss: 0.3545 - acc: 0.8440 - val_loss: 0.5950 - val_acc: 0.7140\n",
            "Epoch 13/30\n",
            "100/100 [==============================] - 113s 1s/step - loss: 0.3213 - acc: 0.8680 - val_loss: 0.5898 - val_acc: 0.7240\n",
            "Epoch 14/30\n",
            "100/100 [==============================] - 113s 1s/step - loss: 0.3134 - acc: 0.8780 - val_loss: 0.5999 - val_acc: 0.7070\n",
            "Epoch 15/30\n",
            "100/100 [==============================] - 113s 1s/step - loss: 0.2720 - acc: 0.8925 - val_loss: 0.5920 - val_acc: 0.7480\n",
            "Epoch 16/30\n",
            "100/100 [==============================] - 113s 1s/step - loss: 0.2617 - acc: 0.8915 - val_loss: 0.6090 - val_acc: 0.7260\n",
            "Epoch 17/30\n",
            "100/100 [==============================] - 114s 1s/step - loss: 0.2389 - acc: 0.9080 - val_loss: 0.6975 - val_acc: 0.7160\n",
            "Epoch 18/30\n",
            "100/100 [==============================] - 114s 1s/step - loss: 0.2186 - acc: 0.9105 - val_loss: 0.6486 - val_acc: 0.7320\n",
            "Epoch 19/30\n",
            "100/100 [==============================] - 114s 1s/step - loss: 0.1866 - acc: 0.9355 - val_loss: 0.7868 - val_acc: 0.7140\n",
            "Epoch 20/30\n",
            "100/100 [==============================] - 114s 1s/step - loss: 0.1824 - acc: 0.9320 - val_loss: 0.6948 - val_acc: 0.7250\n",
            "Epoch 21/30\n",
            "100/100 [==============================] - 114s 1s/step - loss: 0.1579 - acc: 0.9435 - val_loss: 0.7759 - val_acc: 0.7280\n",
            "Epoch 22/30\n",
            "100/100 [==============================] - 114s 1s/step - loss: 0.1333 - acc: 0.9575 - val_loss: 0.7666 - val_acc: 0.7250\n",
            "Epoch 23/30\n",
            "100/100 [==============================] - 114s 1s/step - loss: 0.1255 - acc: 0.9575 - val_loss: 0.8854 - val_acc: 0.7140\n",
            "Epoch 24/30\n",
            "100/100 [==============================] - 113s 1s/step - loss: 0.1062 - acc: 0.9660 - val_loss: 0.8115 - val_acc: 0.7320\n",
            "Epoch 25/30\n",
            "100/100 [==============================] - 112s 1s/step - loss: 0.0937 - acc: 0.9705 - val_loss: 0.8543 - val_acc: 0.7310\n",
            "Epoch 26/30\n",
            "100/100 [==============================] - 113s 1s/step - loss: 0.0797 - acc: 0.9730 - val_loss: 0.9052 - val_acc: 0.7200\n",
            "Epoch 27/30\n",
            "100/100 [==============================] - 112s 1s/step - loss: 0.0688 - acc: 0.9765 - val_loss: 0.8794 - val_acc: 0.7320\n",
            "Epoch 28/30\n",
            "100/100 [==============================] - 112s 1s/step - loss: 0.0557 - acc: 0.9865 - val_loss: 0.9967 - val_acc: 0.7350\n",
            "Epoch 29/30\n",
            "100/100 [==============================] - 112s 1s/step - loss: 0.0556 - acc: 0.9860 - val_loss: 1.2797 - val_acc: 0.7020\n",
            "Epoch 30/30\n",
            "100/100 [==============================] - 112s 1s/step - loss: 0.0448 - acc: 0.9865 - val_loss: 1.1090 - val_acc: 0.7220\n"
          ],
          "name": "stdout"
        }
      ]
    },
    {
      "cell_type": "code",
      "metadata": {
        "id": "6I8uw1x578eO",
        "colab_type": "code",
        "colab": {}
      },
      "source": [
        "#os.getcwd()\n",
        "#model_dir = os.path.join(base_dir,'saved_model')\n",
        "#os.mkdir(model_dir)\n",
        "#os.chdir(model_dir)\n",
        "#os.getcwd()\n",
        "model.save('cats_and_dogs_1.h5')\n"
      ],
      "execution_count": 0,
      "outputs": []
    },
    {
      "cell_type": "markdown",
      "metadata": {
        "id": "0_DxuEwt9UVq",
        "colab_type": "text"
      },
      "source": [
        "Lets visualize our Training and Validation Accuracy and Losses"
      ]
    },
    {
      "cell_type": "code",
      "metadata": {
        "id": "5LeBoCAAveRu",
        "colab_type": "code",
        "colab": {
          "base_uri": "https://localhost:8080/",
          "height": 573
        },
        "outputId": "aaa7a6f3-557b-4a48-dedb-436948d3f6ab"
      },
      "source": [
        "import matplotlib.pyplot as plt\n",
        "acc = history.history['acc']\n",
        "val_acc = history.history['val_acc']\n",
        "loss = history.history['loss']\n",
        "val_loss = history.history['val_loss']\n",
        "epochs = list(range(1,len(acc)+1))\n",
        "plt.plot(epochs,acc,'bo',label='Training accuracy')\n",
        "plt.plot(epochs,val_acc,'b',label='Validation accuracy')\n",
        "plt.xlabel('Epochs')\n",
        "plt.ylabel('Accuracy')\n",
        "plt.title('Training vs Validation Accuracy')\n",
        "plt.legend()\n",
        "\n",
        "plt.figure()\n",
        "\n",
        "plt.plot(epochs,loss,'bo',label='Training loss')\n",
        "plt.plot(epochs,val_loss,'b',label='Validation loss')\n",
        "plt.xlabel('Epochs')\n",
        "plt.ylabel('Loss')\n",
        "plt.title('Training vs Validation Loss')\n",
        "plt.legend()\n",
        "\n",
        "plt.show()"
      ],
      "execution_count": 83,
      "outputs": [
        {
          "output_type": "display_data",
          "data": {
            "image/png": "[encoded data removed]",
            "text/plain": [
              "<Figure size 432x288 with 1 Axes>"
            ]
          },
          "metadata": {
            "tags": []
          }
        },
        {
          "output_type": "display_data",
          "data": {
            "image/png": "[encoded data removed]",
            "text/plain": [
              "<Figure size 432x288 with 1 Axes>"
            ]
          },
          "metadata": {
            "tags": []
          }
        }
      ]
    },
    {
      "cell_type": "markdown",
      "metadata": {
        "id": "Zf1ARMSnwjAZ",
        "colab_type": "text"
      },
      "source": [
        "# **Accuracy Achieved - 72%**"
      ]
    },
    {
      "cell_type": "markdown",
      "metadata": {
        "id": "P52Z4KPu3oQw",
        "colab_type": "text"
      },
      "source": [
        "We see that after 5 epochs, the validation loss starts increasing and validation accuracy starts decreasing. The best accuracy we get here is close to 70% and the best loss is close to ~0.6"
      ]
    },
    {
      "cell_type": "markdown",
      "metadata": {
        "id": "fJZD7erW4Ear",
        "colab_type": "text"
      },
      "source": [
        "This is a typical case of overfitting and we need to do regularization. We have various techniques for that, like Dropout layers, L2 regulerisation(Weight decay). But next we would use Data augmentation which is universally used in Computer Vision problems"
      ]
    },
    {
      "cell_type": "markdown",
      "metadata": {
        "id": "3AsJE8in5Axy",
        "colab_type": "text"
      },
      "source": [
        "Here data augmentation will take the original images and will perform various operations on it like Rotate, width shift, height shift, sheer, zoom etc to make new input data. This increases the input data and we get better generalized model which works better on the validation data."
      ]
    },
    {
      "cell_type": "code",
      "metadata": {
        "id": "1Z0mK3Wi4Csc",
        "colab_type": "code",
        "colab": {}
      },
      "source": [
        "datagen = ImageDataGenerator(\n",
        "rotation_range=40,\n",
        "width_shift_range=0.2,\n",
        "height_shift_range=0.2,\n",
        "shear_range=0.2,\n",
        "zoom_range=0.2,\n",
        "horizontal_flip=True,\n",
        "fill_mode='nearest')\n"
      ],
      "execution_count": 0,
      "outputs": []
    },
    {
      "cell_type": "markdown",
      "metadata": {
        "id": "WineJOU658Ll",
        "colab_type": "text"
      },
      "source": [
        "Now lets display few images which are newly created through Data Augmentation"
      ]
    },
    {
      "cell_type": "code",
      "metadata": {
        "id": "WZZR4J2c6A_o",
        "colab_type": "code",
        "colab": {
          "base_uri": "https://localhost:8080/",
          "height": 232
        },
        "outputId": "38c6534a-76a9-4355-9d1b-ef993538ae0e"
      },
      "source": [
        "from keras.preprocessing import image\n",
        "fnames = [os.path.join(train_cats_dir,fname) for fname in os.listdir(train_cats_dir)]\n",
        "\n",
        "img_path = fnames[3]\n",
        "img = image.load_img(img_path, target_size=(150,150))\n",
        "x = image.img_to_array(img)\n",
        "x = x.reshape((1,) + x.shape)\n",
        "i = 0 \n",
        "for batch in datagen.flow(x,batch_size= 1):\n",
        "  plt.figure(i)\n",
        "  imgplot = plt.imshow(image.array_to_img(batch[0]))\n",
        "  i +=1\n",
        "  if i % 4 == 0:\n",
        "    break\n",
        "plt.show()"
      ],
      "execution_count": 11,
      "outputs": [
        {
          "output_type": "error",
          "ename": "NameError",
          "evalue": "ignored",
          "traceback": [
            "\u001b[0;31m---------------------------------------------------------------------------\u001b[0m",
            "\u001b[0;31mNameError\u001b[0m                                 Traceback (most recent call last)",
            "\u001b[0;32m<ipython-input-11-3ea5fb4c5570>\u001b[0m in \u001b[0;36m<module>\u001b[0;34m()\u001b[0m\n\u001b[1;32m      7\u001b[0m \u001b[0mx\u001b[0m \u001b[0;34m=\u001b[0m \u001b[0mx\u001b[0m\u001b[0;34m.\u001b[0m\u001b[0mreshape\u001b[0m\u001b[0;34m(\u001b[0m\u001b[0;34m(\u001b[0m\u001b[0;36m1\u001b[0m\u001b[0;34m,\u001b[0m\u001b[0;34m)\u001b[0m \u001b[0;34m+\u001b[0m \u001b[0mx\u001b[0m\u001b[0;34m.\u001b[0m\u001b[0mshape\u001b[0m\u001b[0;34m)\u001b[0m\u001b[0;34m\u001b[0m\u001b[0;34m\u001b[0m\u001b[0m\n\u001b[1;32m      8\u001b[0m \u001b[0mi\u001b[0m \u001b[0;34m=\u001b[0m \u001b[0;36m0\u001b[0m\u001b[0;34m\u001b[0m\u001b[0;34m\u001b[0m\u001b[0m\n\u001b[0;32m----> 9\u001b[0;31m \u001b[0;32mfor\u001b[0m \u001b[0mbatch\u001b[0m \u001b[0;32min\u001b[0m \u001b[0mdatagen\u001b[0m\u001b[0;34m.\u001b[0m\u001b[0mflow\u001b[0m\u001b[0;34m(\u001b[0m\u001b[0mx\u001b[0m\u001b[0;34m,\u001b[0m\u001b[0mbatch_size\u001b[0m\u001b[0;34m=\u001b[0m \u001b[0;36m1\u001b[0m\u001b[0;34m)\u001b[0m\u001b[0;34m:\u001b[0m\u001b[0;34m\u001b[0m\u001b[0;34m\u001b[0m\u001b[0m\n\u001b[0m\u001b[1;32m     10\u001b[0m   \u001b[0mplt\u001b[0m\u001b[0;34m.\u001b[0m\u001b[0mfigure\u001b[0m\u001b[0;34m(\u001b[0m\u001b[0mi\u001b[0m\u001b[0;34m)\u001b[0m\u001b[0;34m\u001b[0m\u001b[0;34m\u001b[0m\u001b[0m\n\u001b[1;32m     11\u001b[0m   \u001b[0mimgplot\u001b[0m \u001b[0;34m=\u001b[0m \u001b[0mplt\u001b[0m\u001b[0;34m.\u001b[0m\u001b[0mimshow\u001b[0m\u001b[0;34m(\u001b[0m\u001b[0mimage\u001b[0m\u001b[0;34m.\u001b[0m\u001b[0marray_to_img\u001b[0m\u001b[0;34m(\u001b[0m\u001b[0mbatch\u001b[0m\u001b[0;34m[\u001b[0m\u001b[0;36m0\u001b[0m\u001b[0;34m]\u001b[0m\u001b[0;34m)\u001b[0m\u001b[0;34m)\u001b[0m\u001b[0;34m\u001b[0m\u001b[0;34m\u001b[0m\u001b[0m\n",
            "\u001b[0;31mNameError\u001b[0m: name 'datagen' is not defined"
          ]
        }
      ]
    },
    {
      "cell_type": "markdown",
      "metadata": {
        "id": "RdCz8170dwQT",
        "colab_type": "text"
      },
      "source": [
        "Now lets add drop out layer to tackle overfitting "
      ]
    },
    {
      "cell_type": "code",
      "metadata": {
        "id": "RIJpZkRP9p2K",
        "colab_type": "code",
        "colab": {
          "base_uri": "https://localhost:8080/",
          "height": 275
        },
        "outputId": "60b54e05-6c65-4d0b-c758-7dd569280eaa"
      },
      "source": [
        "model2 = models.Sequential()\n",
        "model2.add(layers.Conv2D(32,(3,3),activation='relu', input_shape = (150,150,3)))\n",
        "model2.add(layers.MaxPooling2D((2,2)))\n",
        "model2.add(layers.Conv2D(64,(3,3),activation='relu'))\n",
        "model2.add(layers.MaxPooling2D((2,2)))\n",
        "model2.add(layers.Conv2D(128,(3,3),activation='relu'))\n",
        "model2.add(layers.MaxPooling2D((2,2)))\n",
        "model2.add(layers.Conv2D(128,(3,3),activation='relu'))\n",
        "model2.add(layers.MaxPooling2D((2,2)))\n",
        "model2.add(layers.Flatten())\n",
        "model2.add(layers.Dropout(0.5))\n",
        "model2.add(layers.Dense(512,activation='relu'))\n",
        "model2.add(layers.Dense(1,activation='sigmoid'))\n",
        "\n"
      ],
      "execution_count": 13,
      "outputs": [
        {
          "output_type": "stream",
          "text": [
            "WARNING: Logging before flag parsing goes to stderr.\n",
            "W0618 00:42:48.440403 140274993592192 deprecation_wrapper.py:119] From /usr/local/lib/python3.6/dist-packages/keras/backend/tensorflow_backend.py:74: The name tf.get_default_graph is deprecated. Please use tf.compat.v1.get_default_graph instead.\n",
            "\n",
            "W0618 00:42:48.491289 140274993592192 deprecation_wrapper.py:119] From /usr/local/lib/python3.6/dist-packages/keras/backend/tensorflow_backend.py:517: The name tf.placeholder is deprecated. Please use tf.compat.v1.placeholder instead.\n",
            "\n",
            "W0618 00:42:48.500118 140274993592192 deprecation_wrapper.py:119] From /usr/local/lib/python3.6/dist-packages/keras/backend/tensorflow_backend.py:4138: The name tf.random_uniform is deprecated. Please use tf.random.uniform instead.\n",
            "\n",
            "W0618 00:42:48.555341 140274993592192 deprecation_wrapper.py:119] From /usr/local/lib/python3.6/dist-packages/keras/backend/tensorflow_backend.py:3976: The name tf.nn.max_pool is deprecated. Please use tf.nn.max_pool2d instead.\n",
            "\n",
            "W0618 00:42:48.614523 140274993592192 deprecation_wrapper.py:119] From /usr/local/lib/python3.6/dist-packages/keras/backend/tensorflow_backend.py:133: The name tf.placeholder_with_default is deprecated. Please use tf.compat.v1.placeholder_with_default instead.\n",
            "\n",
            "W0618 00:42:48.624366 140274993592192 deprecation.py:506] From /usr/local/lib/python3.6/dist-packages/keras/backend/tensorflow_backend.py:3445: calling dropout (from tensorflow.python.ops.nn_ops) with keep_prob is deprecated and will be removed in a future version.\n",
            "Instructions for updating:\n",
            "Please use `rate` instead of `keep_prob`. Rate should be set to `rate = 1 - keep_prob`.\n"
          ],
          "name": "stderr"
        }
      ]
    },
    {
      "cell_type": "code",
      "metadata": {
        "id": "jbJ90iXVfd7Z",
        "colab_type": "code",
        "colab": {
          "base_uri": "https://localhost:8080/",
          "height": 156
        },
        "outputId": "9320ef69-1fea-45ef-e023-6135be143b3f"
      },
      "source": [
        "from keras import optimizers\n",
        "model2.compile(loss = 'binary_crossentropy', optimizer = optimizers.RMSprop(lr=1e-4),metrics=['acc'])\n"
      ],
      "execution_count": 14,
      "outputs": [
        {
          "output_type": "stream",
          "text": [
            "W0618 00:42:53.524114 140274993592192 deprecation_wrapper.py:119] From /usr/local/lib/python3.6/dist-packages/keras/optimizers.py:790: The name tf.train.Optimizer is deprecated. Please use tf.compat.v1.train.Optimizer instead.\n",
            "\n",
            "W0618 00:42:53.532595 140274993592192 deprecation_wrapper.py:119] From /usr/local/lib/python3.6/dist-packages/keras/backend/tensorflow_backend.py:3376: The name tf.log is deprecated. Please use tf.math.log instead.\n",
            "\n",
            "W0618 00:42:53.539227 140274993592192 deprecation.py:323] From /usr/local/lib/python3.6/dist-packages/tensorflow/python/ops/nn_impl.py:180: add_dispatch_support.<locals>.wrapper (from tensorflow.python.ops.array_ops) is deprecated and will be removed in a future version.\n",
            "Instructions for updating:\n",
            "Use tf.where in 2.0, which has the same broadcast rule as np.where\n"
          ],
          "name": "stderr"
        }
      ]
    },
    {
      "cell_type": "code",
      "metadata": {
        "id": "2su60Jilf7M4",
        "colab_type": "code",
        "colab": {
          "base_uri": "https://localhost:8080/",
          "height": 51
        },
        "outputId": "ade9c1a5-89a0-405b-d12a-ba246a4fb49e"
      },
      "source": [
        "from keras.preprocessing.image import ImageDataGenerator\n",
        "train_datagen = ImageDataGenerator(rescale=1./255,\n",
        "                                   rotation_range= 40,\n",
        "                                   width_shift_range = 0.2,\n",
        "                                   height_shift_range=0.2,\n",
        "                                   shear_range = 0.2,\n",
        "                                   zoom_range = 0.2,\n",
        "                                  horizontal_flip = True, \n",
        "                                  )\n",
        "test_datagen =       ImageDataGenerator(rescale=1./255)\n",
        "\n",
        "train_generator = train_datagen.flow_from_directory(train_dir,target_size = (150,150),batch_size=32,class_mode='binary')\n",
        "validation_generator = test_datagen.flow_from_directory(validation_dir,target_size = (150,150),batch_size=32,class_mode='binary' )"
      ],
      "execution_count": 15,
      "outputs": [
        {
          "output_type": "stream",
          "text": [
            "Found 2000 images belonging to 2 classes.\n",
            "Found 1000 images belonging to 2 classes.\n"
          ],
          "name": "stdout"
        }
      ]
    },
    {
      "cell_type": "code",
      "metadata": {
        "id": "ahcckSyZgOAu",
        "colab_type": "code",
        "colab": {
          "base_uri": "https://localhost:8080/",
          "height": 3437
        },
        "outputId": "7124b8a6-d3ec-4754-85e1-22dcb71eb125"
      },
      "source": [
        "history = model2.fit_generator(train_generator,steps_per_epoch = 50, epochs=100,validation_data = validation_generator, validation_steps= 50 )\n",
        "model2.save('cats_and_dogs_2.h5')"
      ],
      "execution_count": 16,
      "outputs": [
        {
          "output_type": "stream",
          "text": [
            "Epoch 1/100\n",
            "50/50 [==============================] - 930s 19s/step - loss: 0.6956 - acc: 0.5006 - val_loss: 0.6877 - val_acc: 0.5070\n",
            "Epoch 2/100\n",
            "50/50 [==============================] - 127s 3s/step - loss: 0.6917 - acc: 0.5318 - val_loss: 0.6824 - val_acc: 0.6089\n",
            "Epoch 3/100\n",
            "50/50 [==============================] - 106s 2s/step - loss: 0.6880 - acc: 0.5531 - val_loss: 0.6739 - val_acc: 0.5920\n",
            "Epoch 4/100\n",
            "50/50 [==============================] - 104s 2s/step - loss: 0.6760 - acc: 0.5675 - val_loss: 0.6559 - val_acc: 0.6044\n",
            "Epoch 5/100\n",
            "50/50 [==============================] - 105s 2s/step - loss: 0.6749 - acc: 0.5894 - val_loss: 0.6583 - val_acc: 0.5977\n",
            "Epoch 6/100\n",
            "50/50 [==============================] - 104s 2s/step - loss: 0.6636 - acc: 0.5931 - val_loss: 0.6691 - val_acc: 0.5702\n",
            "Epoch 7/100\n",
            "50/50 [==============================] - 103s 2s/step - loss: 0.6601 - acc: 0.6006 - val_loss: 0.7467 - val_acc: 0.5076\n",
            "Epoch 8/100\n",
            "50/50 [==============================] - 103s 2s/step - loss: 0.6629 - acc: 0.5988 - val_loss: 0.6385 - val_acc: 0.6256\n",
            "Epoch 9/100\n",
            "50/50 [==============================] - 102s 2s/step - loss: 0.6459 - acc: 0.6156 - val_loss: 0.6527 - val_acc: 0.5992\n",
            "Epoch 10/100\n",
            "50/50 [==============================] - 104s 2s/step - loss: 0.6408 - acc: 0.6375 - val_loss: 0.6106 - val_acc: 0.6688\n",
            "Epoch 11/100\n",
            "50/50 [==============================] - 102s 2s/step - loss: 0.6272 - acc: 0.6337 - val_loss: 0.5881 - val_acc: 0.6785\n",
            "Epoch 12/100\n",
            "50/50 [==============================] - 105s 2s/step - loss: 0.6175 - acc: 0.6407 - val_loss: 0.5900 - val_acc: 0.6891\n",
            "Epoch 13/100\n",
            "50/50 [==============================] - 106s 2s/step - loss: 0.6116 - acc: 0.6638 - val_loss: 0.5776 - val_acc: 0.6804\n",
            "Epoch 14/100\n",
            "50/50 [==============================] - 105s 2s/step - loss: 0.6079 - acc: 0.6813 - val_loss: 0.5686 - val_acc: 0.6872\n",
            "Epoch 15/100\n",
            "50/50 [==============================] - 103s 2s/step - loss: 0.5932 - acc: 0.6844 - val_loss: 0.5474 - val_acc: 0.7294\n",
            "Epoch 16/100\n",
            "50/50 [==============================] - 102s 2s/step - loss: 0.6013 - acc: 0.6869 - val_loss: 0.5706 - val_acc: 0.6927\n",
            "Epoch 17/100\n",
            "50/50 [==============================] - 103s 2s/step - loss: 0.5966 - acc: 0.6706 - val_loss: 0.5557 - val_acc: 0.6973\n",
            "Epoch 18/100\n",
            "50/50 [==============================] - 104s 2s/step - loss: 0.5855 - acc: 0.6756 - val_loss: 0.5501 - val_acc: 0.7249\n",
            "Epoch 19/100\n",
            "50/50 [==============================] - 104s 2s/step - loss: 0.5955 - acc: 0.6919 - val_loss: 0.5457 - val_acc: 0.7138\n",
            "Epoch 20/100\n",
            "50/50 [==============================] - 106s 2s/step - loss: 0.5704 - acc: 0.6969 - val_loss: 0.5426 - val_acc: 0.7139\n",
            "Epoch 21/100\n",
            "50/50 [==============================] - 105s 2s/step - loss: 0.5856 - acc: 0.7000 - val_loss: 0.6681 - val_acc: 0.6402\n",
            "Epoch 22/100\n",
            "50/50 [==============================] - 105s 2s/step - loss: 0.5723 - acc: 0.6981 - val_loss: 0.5274 - val_acc: 0.7210\n",
            "Epoch 23/100\n",
            "50/50 [==============================] - 107s 2s/step - loss: 0.5748 - acc: 0.6950 - val_loss: 0.5356 - val_acc: 0.7214\n",
            "Epoch 24/100\n",
            "50/50 [==============================] - 106s 2s/step - loss: 0.5649 - acc: 0.7150 - val_loss: 0.5379 - val_acc: 0.7223\n",
            "Epoch 25/100\n",
            "50/50 [==============================] - 106s 2s/step - loss: 0.5525 - acc: 0.7156 - val_loss: 0.5154 - val_acc: 0.7281\n",
            "Epoch 26/100\n",
            "50/50 [==============================] - 105s 2s/step - loss: 0.5644 - acc: 0.7188 - val_loss: 0.5178 - val_acc: 0.7240\n",
            "Epoch 27/100\n",
            "50/50 [==============================] - 106s 2s/step - loss: 0.5543 - acc: 0.7037 - val_loss: 0.5383 - val_acc: 0.7049\n",
            "Epoch 28/100\n",
            "50/50 [==============================] - 106s 2s/step - loss: 0.5605 - acc: 0.7131 - val_loss: 0.5145 - val_acc: 0.7278\n",
            "Epoch 29/100\n",
            "50/50 [==============================] - 106s 2s/step - loss: 0.5538 - acc: 0.7156 - val_loss: 0.5384 - val_acc: 0.7113\n",
            "Epoch 30/100\n",
            "50/50 [==============================] - 106s 2s/step - loss: 0.5550 - acc: 0.7113 - val_loss: 0.5031 - val_acc: 0.7506\n",
            "Epoch 31/100\n",
            "50/50 [==============================] - 106s 2s/step - loss: 0.5249 - acc: 0.7206 - val_loss: 0.5065 - val_acc: 0.7365\n",
            "Epoch 32/100\n",
            "50/50 [==============================] - 106s 2s/step - loss: 0.5538 - acc: 0.7213 - val_loss: 0.5239 - val_acc: 0.7410\n",
            "Epoch 33/100\n",
            "50/50 [==============================] - 106s 2s/step - loss: 0.5371 - acc: 0.7319 - val_loss: 0.5258 - val_acc: 0.7322\n",
            "Epoch 34/100\n",
            "50/50 [==============================] - 107s 2s/step - loss: 0.5352 - acc: 0.7281 - val_loss: 0.4966 - val_acc: 0.7474\n",
            "Epoch 35/100\n",
            "50/50 [==============================] - 106s 2s/step - loss: 0.5315 - acc: 0.7325 - val_loss: 0.5236 - val_acc: 0.7195\n",
            "Epoch 36/100\n",
            "50/50 [==============================] - 105s 2s/step - loss: 0.5390 - acc: 0.7418 - val_loss: 0.5077 - val_acc: 0.7326\n",
            "Epoch 37/100\n",
            "50/50 [==============================] - 106s 2s/step - loss: 0.5399 - acc: 0.7325 - val_loss: 0.6028 - val_acc: 0.6745\n",
            "Epoch 38/100\n",
            "50/50 [==============================] - 106s 2s/step - loss: 0.5225 - acc: 0.7363 - val_loss: 0.5263 - val_acc: 0.7133\n",
            "Epoch 39/100\n",
            "50/50 [==============================] - 107s 2s/step - loss: 0.5268 - acc: 0.7356 - val_loss: 0.5092 - val_acc: 0.7398\n",
            "Epoch 40/100\n",
            "50/50 [==============================] - 105s 2s/step - loss: 0.5207 - acc: 0.7381 - val_loss: 0.5618 - val_acc: 0.7030\n",
            "Epoch 41/100\n",
            "50/50 [==============================] - 104s 2s/step - loss: 0.5168 - acc: 0.7387 - val_loss: 0.4987 - val_acc: 0.7455\n",
            "Epoch 42/100\n",
            "50/50 [==============================] - 105s 2s/step - loss: 0.5185 - acc: 0.7387 - val_loss: 0.6013 - val_acc: 0.6967\n",
            "Epoch 43/100\n",
            "50/50 [==============================] - 104s 2s/step - loss: 0.5185 - acc: 0.7338 - val_loss: 0.4899 - val_acc: 0.7532\n",
            "Epoch 44/100\n",
            "50/50 [==============================] - 106s 2s/step - loss: 0.5108 - acc: 0.7388 - val_loss: 0.5335 - val_acc: 0.7278\n",
            "Epoch 45/100\n",
            "50/50 [==============================] - 106s 2s/step - loss: 0.5059 - acc: 0.7575 - val_loss: 0.5167 - val_acc: 0.7455\n",
            "Epoch 46/100\n",
            "50/50 [==============================] - 104s 2s/step - loss: 0.4990 - acc: 0.7587 - val_loss: 0.4951 - val_acc: 0.7405\n",
            "Epoch 47/100\n",
            "50/50 [==============================] - 105s 2s/step - loss: 0.5033 - acc: 0.7463 - val_loss: 0.4878 - val_acc: 0.7584\n",
            "Epoch 48/100\n",
            "50/50 [==============================] - 104s 2s/step - loss: 0.5074 - acc: 0.7350 - val_loss: 0.5669 - val_acc: 0.7055\n",
            "Epoch 49/100\n",
            "50/50 [==============================] - 106s 2s/step - loss: 0.4969 - acc: 0.7500 - val_loss: 0.5156 - val_acc: 0.7335\n",
            "Epoch 50/100\n",
            "50/50 [==============================] - 105s 2s/step - loss: 0.5027 - acc: 0.7494 - val_loss: 0.4811 - val_acc: 0.7674\n",
            "Epoch 51/100\n",
            "50/50 [==============================] - 106s 2s/step - loss: 0.4896 - acc: 0.7675 - val_loss: 0.4703 - val_acc: 0.7602\n",
            "Epoch 52/100\n",
            "50/50 [==============================] - 104s 2s/step - loss: 0.4982 - acc: 0.7450 - val_loss: 0.4666 - val_acc: 0.7500\n",
            "Epoch 53/100\n",
            "50/50 [==============================] - 105s 2s/step - loss: 0.5109 - acc: 0.7525 - val_loss: 0.5096 - val_acc: 0.7519\n",
            "Epoch 54/100\n",
            "50/50 [==============================] - 105s 2s/step - loss: 0.4960 - acc: 0.7631 - val_loss: 0.4774 - val_acc: 0.7642\n",
            "Epoch 55/100\n",
            "50/50 [==============================] - 104s 2s/step - loss: 0.5051 - acc: 0.7469 - val_loss: 0.4853 - val_acc: 0.7506\n",
            "Epoch 56/100\n",
            "50/50 [==============================] - 102s 2s/step - loss: 0.5068 - acc: 0.7581 - val_loss: 0.5656 - val_acc: 0.7159\n",
            "Epoch 57/100\n",
            "50/50 [==============================] - 105s 2s/step - loss: 0.4798 - acc: 0.7612 - val_loss: 0.4830 - val_acc: 0.7584\n",
            "Epoch 58/100\n",
            "50/50 [==============================] - 103s 2s/step - loss: 0.4872 - acc: 0.7650 - val_loss: 0.4865 - val_acc: 0.7582\n",
            "Epoch 59/100\n",
            "50/50 [==============================] - 104s 2s/step - loss: 0.4943 - acc: 0.7500 - val_loss: 0.4650 - val_acc: 0.7790\n",
            "Epoch 60/100\n",
            "50/50 [==============================] - 104s 2s/step - loss: 0.4883 - acc: 0.7687 - val_loss: 0.4561 - val_acc: 0.7722\n",
            "Epoch 61/100\n",
            "50/50 [==============================] - 104s 2s/step - loss: 0.4918 - acc: 0.7663 - val_loss: 0.5250 - val_acc: 0.7500\n",
            "Epoch 62/100\n",
            "50/50 [==============================] - 104s 2s/step - loss: 0.4877 - acc: 0.7682 - val_loss: 0.4929 - val_acc: 0.7525\n",
            "Epoch 63/100\n",
            "50/50 [==============================] - 105s 2s/step - loss: 0.4860 - acc: 0.7607 - val_loss: 0.5571 - val_acc: 0.7139\n",
            "Epoch 64/100\n",
            "50/50 [==============================] - 104s 2s/step - loss: 0.4745 - acc: 0.7694 - val_loss: 0.4634 - val_acc: 0.7784\n",
            "Epoch 65/100\n",
            "50/50 [==============================] - 104s 2s/step - loss: 0.4921 - acc: 0.7581 - val_loss: 0.5168 - val_acc: 0.7411\n",
            "Epoch 66/100\n",
            "50/50 [==============================] - 104s 2s/step - loss: 0.4509 - acc: 0.7925 - val_loss: 0.4493 - val_acc: 0.7861\n",
            "Epoch 67/100\n",
            "50/50 [==============================] - 105s 2s/step - loss: 0.4866 - acc: 0.7663 - val_loss: 0.4629 - val_acc: 0.7805\n",
            "Epoch 68/100\n",
            "50/50 [==============================] - 107s 2s/step - loss: 0.4764 - acc: 0.7700 - val_loss: 0.4619 - val_acc: 0.7784\n",
            "Epoch 69/100\n",
            "50/50 [==============================] - 105s 2s/step - loss: 0.4725 - acc: 0.7775 - val_loss: 0.4667 - val_acc: 0.7766\n",
            "Epoch 70/100\n",
            "50/50 [==============================] - 105s 2s/step - loss: 0.4548 - acc: 0.7737 - val_loss: 0.4771 - val_acc: 0.7674\n",
            "Epoch 71/100\n",
            "50/50 [==============================] - 106s 2s/step - loss: 0.4946 - acc: 0.7613 - val_loss: 0.4444 - val_acc: 0.7944\n",
            "Epoch 72/100\n",
            "50/50 [==============================] - 106s 2s/step - loss: 0.4562 - acc: 0.7794 - val_loss: 0.4553 - val_acc: 0.7899\n",
            "Epoch 73/100\n",
            "50/50 [==============================] - 105s 2s/step - loss: 0.4636 - acc: 0.7869 - val_loss: 0.4704 - val_acc: 0.7648\n",
            "Epoch 74/100\n",
            "50/50 [==============================] - 105s 2s/step - loss: 0.4633 - acc: 0.7743 - val_loss: 0.4539 - val_acc: 0.7811\n",
            "Epoch 75/100\n",
            "50/50 [==============================] - 105s 2s/step - loss: 0.4631 - acc: 0.7788 - val_loss: 0.4573 - val_acc: 0.7726\n",
            "Epoch 76/100\n",
            "50/50 [==============================] - 104s 2s/step - loss: 0.4526 - acc: 0.7869 - val_loss: 0.5322 - val_acc: 0.7329\n",
            "Epoch 77/100\n",
            "50/50 [==============================] - 105s 2s/step - loss: 0.4748 - acc: 0.7806 - val_loss: 0.4467 - val_acc: 0.7848\n",
            "Epoch 78/100\n",
            "50/50 [==============================] - 105s 2s/step - loss: 0.4590 - acc: 0.7800 - val_loss: 0.4489 - val_acc: 0.7874\n",
            "Epoch 79/100\n",
            "50/50 [==============================] - 105s 2s/step - loss: 0.4690 - acc: 0.7819 - val_loss: 0.4338 - val_acc: 0.8003\n",
            "Epoch 80/100\n",
            "50/50 [==============================] - 106s 2s/step - loss: 0.4665 - acc: 0.7775 - val_loss: 0.4466 - val_acc: 0.7861\n",
            "Epoch 81/100\n",
            "50/50 [==============================] - 107s 2s/step - loss: 0.4513 - acc: 0.7731 - val_loss: 0.4771 - val_acc: 0.7773\n",
            "Epoch 82/100\n",
            "50/50 [==============================] - 106s 2s/step - loss: 0.4547 - acc: 0.7875 - val_loss: 0.4396 - val_acc: 0.7880\n",
            "Epoch 83/100\n",
            "50/50 [==============================] - 107s 2s/step - loss: 0.4423 - acc: 0.7944 - val_loss: 0.4390 - val_acc: 0.8008\n",
            "Epoch 84/100\n",
            "50/50 [==============================] - 106s 2s/step - loss: 0.4512 - acc: 0.7781 - val_loss: 0.5020 - val_acc: 0.7519\n",
            "Epoch 85/100\n",
            "50/50 [==============================] - 106s 2s/step - loss: 0.4501 - acc: 0.7913 - val_loss: 0.4610 - val_acc: 0.7830\n",
            "Epoch 86/100\n",
            "50/50 [==============================] - 106s 2s/step - loss: 0.4674 - acc: 0.7750 - val_loss: 0.4667 - val_acc: 0.7771\n",
            "Epoch 87/100\n",
            "50/50 [==============================] - 107s 2s/step - loss: 0.4375 - acc: 0.7931 - val_loss: 0.4594 - val_acc: 0.7862\n",
            "Epoch 88/100\n",
            "50/50 [==============================] - 108s 2s/step - loss: 0.4660 - acc: 0.7756 - val_loss: 0.4765 - val_acc: 0.7906\n",
            "Epoch 89/100\n",
            "50/50 [==============================] - 106s 2s/step - loss: 0.4480 - acc: 0.7887 - val_loss: 0.4512 - val_acc: 0.7899\n",
            "Epoch 90/100\n",
            "50/50 [==============================] - 106s 2s/step - loss: 0.4625 - acc: 0.7788 - val_loss: 0.4438 - val_acc: 0.7951\n",
            "Epoch 91/100\n",
            "50/50 [==============================] - 106s 2s/step - loss: 0.4389 - acc: 0.7956 - val_loss: 0.4983 - val_acc: 0.7552\n",
            "Epoch 92/100\n",
            "50/50 [==============================] - 107s 2s/step - loss: 0.4479 - acc: 0.7763 - val_loss: 0.4654 - val_acc: 0.7919\n",
            "Epoch 93/100\n",
            "50/50 [==============================] - 108s 2s/step - loss: 0.4559 - acc: 0.7863 - val_loss: 0.4683 - val_acc: 0.7751\n",
            "Epoch 94/100\n",
            "50/50 [==============================] - 107s 2s/step - loss: 0.4573 - acc: 0.7800 - val_loss: 0.4536 - val_acc: 0.7874\n",
            "Epoch 95/100\n",
            "50/50 [==============================] - 106s 2s/step - loss: 0.4435 - acc: 0.7925 - val_loss: 0.4768 - val_acc: 0.7564\n",
            "Epoch 96/100\n",
            "50/50 [==============================] - 106s 2s/step - loss: 0.4386 - acc: 0.8025 - val_loss: 0.4438 - val_acc: 0.7726\n",
            "Epoch 97/100\n",
            "50/50 [==============================] - 106s 2s/step - loss: 0.4411 - acc: 0.7975 - val_loss: 0.4543 - val_acc: 0.7830\n",
            "Epoch 98/100\n",
            "50/50 [==============================] - 105s 2s/step - loss: 0.4488 - acc: 0.7863 - val_loss: 0.4607 - val_acc: 0.7880\n",
            "Epoch 99/100\n",
            "50/50 [==============================] - 105s 2s/step - loss: 0.4417 - acc: 0.8012 - val_loss: 0.4285 - val_acc: 0.7900\n",
            "Epoch 100/100\n",
            "50/50 [==============================] - 106s 2s/step - loss: 0.4268 - acc: 0.7969 - val_loss: 0.5719 - val_acc: 0.7216\n"
          ],
          "name": "stdout"
        }
      ]
    },
    {
      "cell_type": "code",
      "metadata": {
        "id": "7VEZfNKEt1A_",
        "colab_type": "code",
        "colab": {}
      },
      "source": [
        "#os.getcwd()\n",
        "#os.chdir('/gdrive/My Drive/colab_datasets/base_dir/saved_model')\n",
        "model2.save('cats_and_dogs_2.h5')\n"
      ],
      "execution_count": 0,
      "outputs": []
    },
    {
      "cell_type": "code",
      "metadata": {
        "id": "4JFn-cwFBlCC",
        "colab_type": "code",
        "colab": {
          "base_uri": "https://localhost:8080/",
          "height": 573
        },
        "outputId": "e2d0066b-5a1e-4263-86c5-b5695c3ef06c"
      },
      "source": [
        "import matplotlib.pyplot as plt\n",
        "acc = history.history['acc']\n",
        "val_acc = history.history['val_acc']\n",
        "loss = history.history['loss']\n",
        "val_loss = history.history['val_loss']\n",
        "epochs = list(range(1,len(acc)+1))\n",
        "plt.plot(epochs,acc,'bo',label='Training accuracy')\n",
        "plt.plot(epochs,val_acc,'b',label='Validation accuracy')\n",
        "plt.xlabel('Epochs')\n",
        "plt.ylabel('Accuracy')\n",
        "plt.title('Training vs Validation Accuracy')\n",
        "plt.legend()\n",
        "\n",
        "plt.figure()\n",
        "\n",
        "plt.plot(epochs,loss,'bo',label='Training loss')\n",
        "plt.plot(epochs,val_loss,'b',label='Validation loss')\n",
        "plt.xlabel('Epochs')\n",
        "plt.ylabel('Loss')\n",
        "plt.title('Training vs Validation Loss')\n",
        "plt.legend()\n",
        "\n",
        "plt.show()"
      ],
      "execution_count": 21,
      "outputs": [
        {
          "output_type": "display_data",
          "data": {
            "image/png": "[encoded data removed]",
            "text/plain": [
              "<Figure size 432x288 with 1 Axes>"
            ]
          },
          "metadata": {
            "tags": []
          }
        },
        {
          "output_type": "display_data",
          "data": {
            "image/png": "[encoded data removed]",
            "text/plain": [
              "<Figure size 432x288 with 1 Axes>"
            ]
          },
          "metadata": {
            "tags": []
          }
        }
      ]
    },
    {
      "cell_type": "markdown",
      "metadata": {
        "id": "GIUWp0jMwX0v",
        "colab_type": "text"
      },
      "source": [
        "# **Accuracy Achieved - 80%**"
      ]
    },
    {
      "cell_type": "markdown",
      "metadata": {
        "id": "C_3o8OXDuagW",
        "colab_type": "text"
      },
      "source": [
        "We see that, what does using dropout layer do to our model fitting. See how closely, the Training and validation losses and Accuracy clings. Which is a great sign, as we have got rid of Overfitting, However this is still not the best performance we can get. We have received approximately 80% accuracy after 100 epochs. Also, would like to add that the training time has increased significantly after adding the drop out layer, It took me close to 2.5 hours to train this network."
      ]
    },
    {
      "cell_type": "markdown",
      "metadata": {
        "id": "n7mNvN7GvCk2",
        "colab_type": "text"
      },
      "source": [
        "What are our next steps to increase the accuracy without overfitting:\n",
        "So far we have been training a network from scratch. Now we are going to try a Pretrained model which has been already trained on similar kind of class images. Here we have two options:\n",
        "1. Either we take the existing model, Use its convolutional layer, predict the output , feed it in our own dense layer and predict the final classes, But wait here we cant use the Data augmentation as the existing model will go through input images only once.\n",
        "2. Second method is to make a combined model with Convolutional layer of existing model and our own Dense layer. We can use Data Augmentation in this case as we have one big model combining both."
      ]
    },
    {
      "cell_type": "markdown",
      "metadata": {
        "id": "KqKyYsEhxduR",
        "colab_type": "text"
      },
      "source": [
        "### **Lets check out Step 1**"
      ]
    },
    {
      "cell_type": "markdown",
      "metadata": {
        "id": "oJWAd0IDwBbb",
        "colab_type": "text"
      },
      "source": [
        "Here we will use VGG16 architecture, which has been trained in Imagenet dataset which does include animal images as input so we should get some useful features extracted from the same. We will then use them as input features for our Dense layers."
      ]
    },
    {
      "cell_type": "code",
      "metadata": {
        "id": "U7e4IQ_quWNw",
        "colab_type": "code",
        "colab": {}
      },
      "source": [
        "from keras.applications import VGG16\n",
        "conv_base = VGG16(weights='imagenet', include_top = False, input_shape = (150,150,3))"
      ],
      "execution_count": 0,
      "outputs": []
    },
    {
      "cell_type": "markdown",
      "metadata": {
        "id": "ZhT4JHg7w_lD",
        "colab_type": "text"
      },
      "source": [
        "Note, Here we mentioned for weights, imagenet weight checkpoint to initialize the weights. We said include_top as False to not consider the dense layers in top, so that we can get the output of the convolutional layers only. and then mentioned th input shape of our images."
      ]
    },
    {
      "cell_type": "code",
      "metadata": {
        "id": "oMd4io-pxumm",
        "colab_type": "code",
        "colab": {
          "base_uri": "https://localhost:8080/",
          "height": 972
        },
        "outputId": "b7b3a487-3b37-42e4-9afd-4fa8297fbb5a"
      },
      "source": [
        "VGG16().summary()"
      ],
      "execution_count": 27,
      "outputs": [
        {
          "output_type": "stream",
          "text": [
            "Downloading data from https://github.com/fchollet/deep-learning-models/releases/download/v0.1/vgg16_weights_tf_dim_ordering_tf_kernels.h5\n",
            "553467904/553467096 [==============================] - 6s 0us/step\n",
            "_________________________________________________________________\n",
            "Layer (type)                 Output Shape              Param #   \n",
            "=================================================================\n",
            "input_2 (InputLayer)         (None, 224, 224, 3)       0         \n",
            "_________________________________________________________________\n",
            "block1_conv1 (Conv2D)        (None, 224, 224, 64)      1792      \n",
            "_________________________________________________________________\n",
            "block1_conv2 (Conv2D)        (None, 224, 224, 64)      36928     \n",
            "_________________________________________________________________\n",
            "block1_pool (MaxPooling2D)   (None, 112, 112, 64)      0         \n",
            "_________________________________________________________________\n",
            "block2_conv1 (Conv2D)        (None, 112, 112, 128)     73856     \n",
            "_________________________________________________________________\n",
            "block2_conv2 (Conv2D)        (None, 112, 112, 128)     147584    \n",
            "_________________________________________________________________\n",
            "block2_pool (MaxPooling2D)   (None, 56, 56, 128)       0         \n",
            "_________________________________________________________________\n",
            "block3_conv1 (Conv2D)        (None, 56, 56, 256)       295168    \n",
            "_________________________________________________________________\n",
            "block3_conv2 (Conv2D)        (None, 56, 56, 256)       590080    \n",
            "_________________________________________________________________\n",
            "block3_conv3 (Conv2D)        (None, 56, 56, 256)       590080    \n",
            "_________________________________________________________________\n",
            "block3_pool (MaxPooling2D)   (None, 28, 28, 256)       0         \n",
            "_________________________________________________________________\n",
            "block4_conv1 (Conv2D)        (None, 28, 28, 512)       1180160   \n",
            "_________________________________________________________________\n",
            "block4_conv2 (Conv2D)        (None, 28, 28, 512)       2359808   \n",
            "_________________________________________________________________\n",
            "block4_conv3 (Conv2D)        (None, 28, 28, 512)       2359808   \n",
            "_________________________________________________________________\n",
            "block4_pool (MaxPooling2D)   (None, 14, 14, 512)       0         \n",
            "_________________________________________________________________\n",
            "block5_conv1 (Conv2D)        (None, 14, 14, 512)       2359808   \n",
            "_________________________________________________________________\n",
            "block5_conv2 (Conv2D)        (None, 14, 14, 512)       2359808   \n",
            "_________________________________________________________________\n",
            "block5_conv3 (Conv2D)        (None, 14, 14, 512)       2359808   \n",
            "_________________________________________________________________\n",
            "block5_pool (MaxPooling2D)   (None, 7, 7, 512)         0         \n",
            "_________________________________________________________________\n",
            "flatten (Flatten)            (None, 25088)             0         \n",
            "_________________________________________________________________\n",
            "fc1 (Dense)                  (None, 4096)              102764544 \n",
            "_________________________________________________________________\n",
            "fc2 (Dense)                  (None, 4096)              16781312  \n",
            "_________________________________________________________________\n",
            "predictions (Dense)          (None, 1000)              4097000   \n",
            "=================================================================\n",
            "Total params: 138,357,544\n",
            "Trainable params: 138,357,544\n",
            "Non-trainable params: 0\n",
            "_________________________________________________________________\n"
          ],
          "name": "stdout"
        }
      ]
    },
    {
      "cell_type": "code",
      "metadata": {
        "id": "gDljituZx2bU",
        "colab_type": "code",
        "colab": {
          "base_uri": "https://localhost:8080/",
          "height": 782
        },
        "outputId": "0e255ec2-9ae3-4fc4-9316-8e23f5fcb667"
      },
      "source": [
        "conv_base.summary()"
      ],
      "execution_count": 28,
      "outputs": [
        {
          "output_type": "stream",
          "text": [
            "_________________________________________________________________\n",
            "Layer (type)                 Output Shape              Param #   \n",
            "=================================================================\n",
            "input_1 (InputLayer)         (None, 150, 150, 3)       0         \n",
            "_________________________________________________________________\n",
            "block1_conv1 (Conv2D)        (None, 150, 150, 64)      1792      \n",
            "_________________________________________________________________\n",
            "block1_conv2 (Conv2D)        (None, 150, 150, 64)      36928     \n",
            "_________________________________________________________________\n",
            "block1_pool (MaxPooling2D)   (None, 75, 75, 64)        0         \n",
            "_________________________________________________________________\n",
            "block2_conv1 (Conv2D)        (None, 75, 75, 128)       73856     \n",
            "_________________________________________________________________\n",
            "block2_conv2 (Conv2D)        (None, 75, 75, 128)       147584    \n",
            "_________________________________________________________________\n",
            "block2_pool (MaxPooling2D)   (None, 37, 37, 128)       0         \n",
            "_________________________________________________________________\n",
            "block3_conv1 (Conv2D)        (None, 37, 37, 256)       295168    \n",
            "_________________________________________________________________\n",
            "block3_conv2 (Conv2D)        (None, 37, 37, 256)       590080    \n",
            "_________________________________________________________________\n",
            "block3_conv3 (Conv2D)        (None, 37, 37, 256)       590080    \n",
            "_________________________________________________________________\n",
            "block3_pool (MaxPooling2D)   (None, 18, 18, 256)       0         \n",
            "_________________________________________________________________\n",
            "block4_conv1 (Conv2D)        (None, 18, 18, 512)       1180160   \n",
            "_________________________________________________________________\n",
            "block4_conv2 (Conv2D)        (None, 18, 18, 512)       2359808   \n",
            "_________________________________________________________________\n",
            "block4_conv3 (Conv2D)        (None, 18, 18, 512)       2359808   \n",
            "_________________________________________________________________\n",
            "block4_pool (MaxPooling2D)   (None, 9, 9, 512)         0         \n",
            "_________________________________________________________________\n",
            "block5_conv1 (Conv2D)        (None, 9, 9, 512)         2359808   \n",
            "_________________________________________________________________\n",
            "block5_conv2 (Conv2D)        (None, 9, 9, 512)         2359808   \n",
            "_________________________________________________________________\n",
            "block5_conv3 (Conv2D)        (None, 9, 9, 512)         2359808   \n",
            "_________________________________________________________________\n",
            "block5_pool (MaxPooling2D)   (None, 4, 4, 512)         0         \n",
            "=================================================================\n",
            "Total params: 14,714,688\n",
            "Trainable params: 14,714,688\n",
            "Non-trainable params: 0\n",
            "_________________________________________________________________\n"
          ],
          "name": "stdout"
        }
      ]
    },
    {
      "cell_type": "markdown",
      "metadata": {
        "id": "Wj6-JahtzgSA",
        "colab_type": "text"
      },
      "source": [
        "If you can see, there are two major differences in the original trained model summary and our model. The input shape is different and the Dense layers are absent in our model."
      ]
    },
    {
      "cell_type": "markdown",
      "metadata": {
        "id": "e9QLrUQMzEEl",
        "colab_type": "text"
      },
      "source": [
        "Now for feature extraction and converting them into batches of data to feed in our Dense layer, we will need to create a generator, which will pick up sample with batch size from ImageDataGenerator, feeds that into the Pretrained model, get the batch of output features and then makes it available for our Dense layer model"
      ]
    },
    {
      "cell_type": "code",
      "metadata": {
        "id": "15tJmh51y4wJ",
        "colab_type": "code",
        "colab": {}
      },
      "source": [
        "datagen = ImageDataGenerator(rescale = 1./255)\n",
        "def extract_features(directory, sample_size):\n",
        "  features = np.zeros(shape = (sample_size, 4,4,512)) ## Since we see in our model above, the output shape is 4,4,512\n",
        "  labels   = np.zeros(shape = (sample_size))\n",
        "  generator = datagen.flow_from_directory (directory, target_size = (150,150), batch_size = 20 , class_mode = 'binary')\n",
        "  i = 0 \n",
        "  for feature_batch, label_batch in generator:\n",
        "    features[i* 20 : (i+1) * 20] = conv_base.predict(feature_batch)\n",
        "    labels[i* 20 : (i+1) * 20] = label_batch\n",
        "    i +=1\n",
        "    if i*20 >= sample_size:\n",
        "      break\n",
        "  return features, labels\n",
        "  "
      ],
      "execution_count": 0,
      "outputs": []
    },
    {
      "cell_type": "code",
      "metadata": {
        "id": "CM1wmqfQ1fz0",
        "colab_type": "code",
        "colab": {
          "base_uri": "https://localhost:8080/",
          "height": 68
        },
        "outputId": "a789771d-679a-4f26-ab26-8c3addd74428"
      },
      "source": [
        "train_features, train_labels = extract_features(train_dir,2000)\n",
        "validation_features, validation_labels = extract_features(validation_dir,1000)\n",
        "test_features, test_labels = extract_features(test_dir,1000)"
      ],
      "execution_count": 37,
      "outputs": [
        {
          "output_type": "stream",
          "text": [
            "Found 2000 images belonging to 2 classes.\n",
            "Found 1000 images belonging to 2 classes.\n",
            "Found 1000 images belonging to 2 classes.\n"
          ],
          "name": "stdout"
        }
      ]
    },
    {
      "cell_type": "markdown",
      "metadata": {
        "id": "R_13RhGP37tX",
        "colab_type": "text"
      },
      "source": [
        "Now we need to flatten this layer output "
      ]
    },
    {
      "cell_type": "code",
      "metadata": {
        "id": "SrEn6LDM3_TU",
        "colab_type": "code",
        "colab": {}
      },
      "source": [
        "train_features = np.reshape(train_features, (2000 , 4 * 4 * 512))\n",
        "validation_features = np.reshape(validation_features, (1000 , 4 * 4 * 512))\n",
        "test_features = np.reshape(test_features, (1000 , 4 * 4 * 512))"
      ],
      "execution_count": 0,
      "outputs": []
    },
    {
      "cell_type": "code",
      "metadata": {
        "id": "Xz-kLXlR_gPe",
        "colab_type": "code",
        "colab": {
          "base_uri": "https://localhost:8080/",
          "height": 68
        },
        "outputId": "c11acf04-01eb-4196-c07e-8cb82a20a278"
      },
      "source": [
        "print(train_features.shape)\n",
        "print(validation_features.shape)\n",
        "print(test_features.shape)"
      ],
      "execution_count": 50,
      "outputs": [
        {
          "output_type": "stream",
          "text": [
            "(2000, 8192)\n",
            "(1000, 8192)\n",
            "(1000, 8192)\n"
          ],
          "name": "stdout"
        }
      ]
    },
    {
      "cell_type": "markdown",
      "metadata": {
        "id": "bm6ukRb73cQ6",
        "colab_type": "text"
      },
      "source": [
        "Now we are going to add our Model with Dense layers and feed these features into that."
      ]
    },
    {
      "cell_type": "code",
      "metadata": {
        "id": "VMd3tM9o3axv",
        "colab_type": "code",
        "colab": {}
      },
      "source": [
        "model3 = models.Sequential()\n",
        "model3.add(layers.Dense(256, activation='relu', input_dim = (4*4*512)))\n",
        "model3.add(layers.Dropout(0.5))\n",
        "model3.add(layers.Dense(1,activation='sigmoid'))\n",
        "\n",
        "model3.compile(loss = 'binary_crossentropy', optimizer = optimizers.RMSprop(lr = 2e-5), metrics=['acc'])\n"
      ],
      "execution_count": 0,
      "outputs": []
    },
    {
      "cell_type": "code",
      "metadata": {
        "id": "wGMyBL5X_ISL",
        "colab_type": "code",
        "colab": {
          "base_uri": "https://localhost:8080/",
          "height": 238
        },
        "outputId": "9e24e1bf-5fc2-4873-a737-04ffa9183a6c"
      },
      "source": [
        "model3.summary()"
      ],
      "execution_count": 40,
      "outputs": [
        {
          "output_type": "stream",
          "text": [
            "_________________________________________________________________\n",
            "Layer (type)                 Output Shape              Param #   \n",
            "=================================================================\n",
            "dense_3 (Dense)              (None, 256)               2097408   \n",
            "_________________________________________________________________\n",
            "dropout_2 (Dropout)          (None, 256)               0         \n",
            "_________________________________________________________________\n",
            "dense_4 (Dense)              (None, 1)                 257       \n",
            "=================================================================\n",
            "Total params: 2,097,665\n",
            "Trainable params: 2,097,665\n",
            "Non-trainable params: 0\n",
            "_________________________________________________________________\n"
          ],
          "name": "stdout"
        }
      ]
    },
    {
      "cell_type": "code",
      "metadata": {
        "id": "Q04s0n2554jy",
        "colab_type": "code",
        "colab": {
          "base_uri": "https://localhost:8080/",
          "height": 1074
        },
        "outputId": "0c2b9e8b-0b24-4eb4-9c21-8a7c7c4edb4c"
      },
      "source": [
        "history = model3.fit(train_features, train_labels, epochs=30, batch_size = 20,\n",
        "                     validation_data = (validation_features, validation_labels))"
      ],
      "execution_count": 51,
      "outputs": [
        {
          "output_type": "stream",
          "text": [
            "Train on 2000 samples, validate on 1000 samples\n",
            "Epoch 1/30\n",
            "2000/2000 [==============================] - 4s 2ms/step - loss: 0.6047 - acc: 0.6720 - val_loss: 0.4642 - val_acc: 0.7820\n",
            "Epoch 2/30\n",
            "2000/2000 [==============================] - 4s 2ms/step - loss: 0.4254 - acc: 0.8050 - val_loss: 0.3688 - val_acc: 0.8420\n",
            "Epoch 3/30\n",
            "2000/2000 [==============================] - 4s 2ms/step - loss: 0.3587 - acc: 0.8485 - val_loss: 0.3199 - val_acc: 0.8700\n",
            "Epoch 4/30\n",
            "2000/2000 [==============================] - 4s 2ms/step - loss: 0.3186 - acc: 0.8675 - val_loss: 0.2962 - val_acc: 0.8870\n",
            "Epoch 5/30\n",
            "2000/2000 [==============================] - 4s 2ms/step - loss: 0.2766 - acc: 0.8915 - val_loss: 0.2810 - val_acc: 0.8900\n",
            "Epoch 6/30\n",
            "2000/2000 [==============================] - 4s 2ms/step - loss: 0.2617 - acc: 0.8985 - val_loss: 0.2831 - val_acc: 0.8790\n",
            "Epoch 7/30\n",
            "2000/2000 [==============================] - 4s 2ms/step - loss: 0.2470 - acc: 0.8970 - val_loss: 0.2624 - val_acc: 0.8940\n",
            "Epoch 8/30\n",
            "2000/2000 [==============================] - 4s 2ms/step - loss: 0.2283 - acc: 0.9095 - val_loss: 0.2545 - val_acc: 0.8990\n",
            "Epoch 9/30\n",
            "2000/2000 [==============================] - 4s 2ms/step - loss: 0.2151 - acc: 0.9220 - val_loss: 0.2517 - val_acc: 0.9010\n",
            "Epoch 10/30\n",
            "2000/2000 [==============================] - 4s 2ms/step - loss: 0.1991 - acc: 0.9265 - val_loss: 0.2488 - val_acc: 0.8980\n",
            "Epoch 11/30\n",
            "2000/2000 [==============================] - 4s 2ms/step - loss: 0.1924 - acc: 0.9300 - val_loss: 0.2441 - val_acc: 0.9020\n",
            "Epoch 12/30\n",
            "2000/2000 [==============================] - 4s 2ms/step - loss: 0.1827 - acc: 0.9345 - val_loss: 0.2439 - val_acc: 0.9010\n",
            "Epoch 13/30\n",
            "2000/2000 [==============================] - 4s 2ms/step - loss: 0.1732 - acc: 0.9395 - val_loss: 0.2403 - val_acc: 0.9040\n",
            "Epoch 14/30\n",
            "2000/2000 [==============================] - 4s 2ms/step - loss: 0.1703 - acc: 0.9365 - val_loss: 0.2408 - val_acc: 0.9040\n",
            "Epoch 15/30\n",
            "2000/2000 [==============================] - 4s 2ms/step - loss: 0.1575 - acc: 0.9490 - val_loss: 0.2373 - val_acc: 0.9060\n",
            "Epoch 16/30\n",
            "2000/2000 [==============================] - 4s 2ms/step - loss: 0.1531 - acc: 0.9460 - val_loss: 0.2385 - val_acc: 0.9040\n",
            "Epoch 17/30\n",
            "2000/2000 [==============================] - 4s 2ms/step - loss: 0.1408 - acc: 0.9500 - val_loss: 0.2376 - val_acc: 0.9040\n",
            "Epoch 18/30\n",
            "2000/2000 [==============================] - 4s 2ms/step - loss: 0.1410 - acc: 0.9525 - val_loss: 0.2373 - val_acc: 0.9070\n",
            "Epoch 19/30\n",
            "2000/2000 [==============================] - 4s 2ms/step - loss: 0.1331 - acc: 0.9575 - val_loss: 0.2365 - val_acc: 0.9050\n",
            "Epoch 20/30\n",
            "2000/2000 [==============================] - 4s 2ms/step - loss: 0.1289 - acc: 0.9520 - val_loss: 0.2366 - val_acc: 0.9060\n",
            "Epoch 21/30\n",
            "2000/2000 [==============================] - 4s 2ms/step - loss: 0.1212 - acc: 0.9600 - val_loss: 0.2442 - val_acc: 0.9040\n",
            "Epoch 22/30\n",
            "2000/2000 [==============================] - 4s 2ms/step - loss: 0.1204 - acc: 0.9595 - val_loss: 0.2374 - val_acc: 0.9020\n",
            "Epoch 23/30\n",
            "2000/2000 [==============================] - 4s 2ms/step - loss: 0.1121 - acc: 0.9640 - val_loss: 0.2363 - val_acc: 0.9080\n",
            "Epoch 24/30\n",
            "2000/2000 [==============================] - 4s 2ms/step - loss: 0.1094 - acc: 0.9645 - val_loss: 0.2399 - val_acc: 0.9010\n",
            "Epoch 25/30\n",
            "2000/2000 [==============================] - 4s 2ms/step - loss: 0.1067 - acc: 0.9680 - val_loss: 0.2362 - val_acc: 0.9080\n",
            "Epoch 26/30\n",
            "2000/2000 [==============================] - 4s 2ms/step - loss: 0.0975 - acc: 0.9675 - val_loss: 0.2370 - val_acc: 0.9050\n",
            "Epoch 27/30\n",
            "2000/2000 [==============================] - 4s 2ms/step - loss: 0.0943 - acc: 0.9740 - val_loss: 0.2464 - val_acc: 0.9020\n",
            "Epoch 28/30\n",
            "2000/2000 [==============================] - 4s 2ms/step - loss: 0.0871 - acc: 0.9715 - val_loss: 0.2441 - val_acc: 0.9020\n",
            "Epoch 29/30\n",
            "2000/2000 [==============================] - 4s 2ms/step - loss: 0.0847 - acc: 0.9745 - val_loss: 0.2413 - val_acc: 0.9010\n",
            "Epoch 30/30\n",
            "2000/2000 [==============================] - 4s 2ms/step - loss: 0.0839 - acc: 0.9775 - val_loss: 0.2426 - val_acc: 0.9030\n"
          ],
          "name": "stdout"
        }
      ]
    },
    {
      "cell_type": "code",
      "metadata": {
        "id": "DdPlxiwS6VeL",
        "colab_type": "code",
        "colab": {}
      },
      "source": [
        "#os.getcwd()\n",
        "#os.chdir('/gdrive/My Drive/colab_datasets/base_dir/saved_model')\n",
        "model3.save('cats_and_dogs_3.h5')"
      ],
      "execution_count": 0,
      "outputs": []
    },
    {
      "cell_type": "code",
      "metadata": {
        "id": "9iYiXoWF_2-O",
        "colab_type": "code",
        "colab": {
          "base_uri": "https://localhost:8080/",
          "height": 573
        },
        "outputId": "1e76c030-f92a-4f9b-fd6d-297fa115ed4d"
      },
      "source": [
        "import matplotlib.pyplot as plt\n",
        "acc = history.history['acc']\n",
        "val_acc = history.history['val_acc']\n",
        "loss = history.history['loss']\n",
        "val_loss = history.history['val_loss']\n",
        "epochs = list(range(1,len(acc)+1))\n",
        "plt.plot(epochs,acc,'bo',label='Training accuracy')\n",
        "plt.plot(epochs,val_acc,'b',label='Validation accuracy')\n",
        "plt.xlabel('Epochs')\n",
        "plt.ylabel('Accuracy')\n",
        "plt.title('Training vs Validation Accuracy')\n",
        "plt.legend()\n",
        "\n",
        "plt.figure()\n",
        "\n",
        "plt.plot(epochs,loss,'bo',label='Training loss')\n",
        "plt.plot(epochs,val_loss,'b',label='Validation loss')\n",
        "plt.xlabel('Epochs')\n",
        "plt.ylabel('Loss')\n",
        "plt.title('Training vs Validation Loss')\n",
        "plt.legend()\n",
        "\n",
        "plt.show()"
      ],
      "execution_count": 53,
      "outputs": [
        {
          "output_type": "display_data",
          "data": {
            "image/png": "[encoded data removed]",
            "text/plain": [
              "<Figure size 432x288 with 1 Axes>"
            ]
          },
          "metadata": {
            "tags": []
          }
        },
        {
          "output_type": "display_data",
          "data": {
            "image/png": "[encoded data removed]",
            "text/plain": [
              "<Figure size 432x288 with 1 Axes>"
            ]
          },
          "metadata": {
            "tags": []
          }
        }
      ]
    },
    {
      "cell_type": "markdown",
      "metadata": {
        "id": "u1KP_LuNAWUC",
        "colab_type": "text"
      },
      "source": [
        "# ***Accuracy Achived - 90%***"
      ]
    },
    {
      "cell_type": "markdown",
      "metadata": {
        "id": "ewd4l23CAoin",
        "colab_type": "text"
      },
      "source": [
        "###**Next Step :  Step 2 : Will Build one model with Pretrained model's convolutional layer and our Dense layer\n",
        "### We can use Data Augmentation with this approach **"
      ]
    },
    {
      "cell_type": "code",
      "metadata": {
        "id": "QKno-IipBTAd",
        "colab_type": "code",
        "colab": {
          "base_uri": "https://localhost:8080/",
          "height": 292
        },
        "outputId": "87e49984-34bc-407a-ea33-49c93f14a683"
      },
      "source": [
        "conv_base = VGG16(weights='imagenet', include_top = False, input_shape = (150,150,3))\n",
        "model4 = models.Sequential()\n",
        "model4.add(conv_base)\n",
        "model4.add(layers.Flatten())\n",
        "model4.add(layers.Dense(256,activation = 'relu'))\n",
        "model4.add(layers.Dense(1,activation = 'sigmoid'))"
      ],
      "execution_count": 10,
      "outputs": [
        {
          "output_type": "stream",
          "text": [
            "WARNING: Logging before flag parsing goes to stderr.\n",
            "W0619 03:21:35.991194 139994646865792 deprecation_wrapper.py:119] From /usr/local/lib/python3.6/dist-packages/keras/backend/tensorflow_backend.py:74: The name tf.get_default_graph is deprecated. Please use tf.compat.v1.get_default_graph instead.\n",
            "\n",
            "W0619 03:21:36.063498 139994646865792 deprecation_wrapper.py:119] From /usr/local/lib/python3.6/dist-packages/keras/backend/tensorflow_backend.py:517: The name tf.placeholder is deprecated. Please use tf.compat.v1.placeholder instead.\n",
            "\n",
            "W0619 03:21:36.077652 139994646865792 deprecation_wrapper.py:119] From /usr/local/lib/python3.6/dist-packages/keras/backend/tensorflow_backend.py:4138: The name tf.random_uniform is deprecated. Please use tf.random.uniform instead.\n",
            "\n",
            "W0619 03:21:36.150031 139994646865792 deprecation_wrapper.py:119] From /usr/local/lib/python3.6/dist-packages/keras/backend/tensorflow_backend.py:3976: The name tf.nn.max_pool is deprecated. Please use tf.nn.max_pool2d instead.\n",
            "\n"
          ],
          "name": "stderr"
        },
        {
          "output_type": "stream",
          "text": [
            "Downloading data from https://github.com/fchollet/deep-learning-models/releases/download/v0.1/vgg16_weights_tf_dim_ordering_tf_kernels_notop.h5\n",
            "58892288/58889256 [==============================] - 2s 0us/step\n"
          ],
          "name": "stdout"
        },
        {
          "output_type": "stream",
          "text": [
            "W0619 03:21:39.188840 139994646865792 deprecation_wrapper.py:119] From /usr/local/lib/python3.6/dist-packages/keras/backend/tensorflow_backend.py:174: The name tf.get_default_session is deprecated. Please use tf.compat.v1.get_default_session instead.\n",
            "\n",
            "W0619 03:21:39.190333 139994646865792 deprecation_wrapper.py:119] From /usr/local/lib/python3.6/dist-packages/keras/backend/tensorflow_backend.py:181: The name tf.ConfigProto is deprecated. Please use tf.compat.v1.ConfigProto instead.\n",
            "\n"
          ],
          "name": "stderr"
        }
      ]
    },
    {
      "cell_type": "code",
      "metadata": {
        "id": "jya0vluSBvPL",
        "colab_type": "code",
        "colab": {
          "base_uri": "https://localhost:8080/",
          "height": 272
        },
        "outputId": "1659f156-ec8c-4af1-a766-145d1254abfc"
      },
      "source": [
        "model4.summary()"
      ],
      "execution_count": 11,
      "outputs": [
        {
          "output_type": "stream",
          "text": [
            "_________________________________________________________________\n",
            "Layer (type)                 Output Shape              Param #   \n",
            "=================================================================\n",
            "vgg16 (Model)                (None, 4, 4, 512)         14714688  \n",
            "_________________________________________________________________\n",
            "flatten_1 (Flatten)          (None, 8192)              0         \n",
            "_________________________________________________________________\n",
            "dense_1 (Dense)              (None, 256)               2097408   \n",
            "_________________________________________________________________\n",
            "dense_2 (Dense)              (None, 1)                 257       \n",
            "=================================================================\n",
            "Total params: 16,812,353\n",
            "Trainable params: 16,812,353\n",
            "Non-trainable params: 0\n",
            "_________________________________________________________________\n"
          ],
          "name": "stdout"
        }
      ]
    },
    {
      "cell_type": "markdown",
      "metadata": {
        "id": "iJT4WF-mDCym",
        "colab_type": "text"
      },
      "source": [
        "###**Now one thing to give heed towards is the number of trainable weights are 16Mn. We need to make sure that the weights of Conv_base doesnt get updated. As we dont want that. We can freeze those weigths by setting the model.trainable = False, \n",
        "Lets see that happening **"
      ]
    },
    {
      "cell_type": "code",
      "metadata": {
        "id": "fBAjmcIXBzX_",
        "colab_type": "code",
        "colab": {
          "base_uri": "https://localhost:8080/",
          "height": 51
        },
        "outputId": "37253db5-76ef-49a5-ae47-f23dcaee5fe5"
      },
      "source": [
        "print('Trainable weights before freezing', len(model4.trainable_weights))\n",
        "conv_base.trainable = False\n",
        "print('Trainable weights after freezing', len(model4.trainable_weights))"
      ],
      "execution_count": 12,
      "outputs": [
        {
          "output_type": "stream",
          "text": [
            "Trainable weights before freezing 30\n",
            "Trainable weights after freezing 4\n"
          ],
          "name": "stdout"
        }
      ]
    },
    {
      "cell_type": "code",
      "metadata": {
        "id": "S13VbqSrDXiA",
        "colab_type": "code",
        "colab": {
          "base_uri": "https://localhost:8080/",
          "height": 156
        },
        "outputId": "152e36de-3bbe-4b88-db7c-1957a3fba8d2"
      },
      "source": [
        "train_datagen = ImageDataGenerator(rescale = 1./255,rotation_range = 40, width_shift_range = 0.2,\n",
        "                                   height_shift_range = 0.2, shear_range = 0.2, zoom_range = 0.2,\n",
        "                                   horizontal_flip = True, fill_mode = 'nearest'\n",
        "                                  )\n",
        "test_datagen = ImageDataGenerator(rescale = 1./255)\n",
        "\n",
        "train_generator = train_datagen.flow_from_directory(train_dir, batch_size = 20, target_size = (150,150), class_mode = 'binary')\n",
        "validation_generator = test_datagen.flow_from_directory(validation_dir, batch_size = 20, target_size = (150,150), class_mode = 'binary')\n",
        "\n",
        "model4.compile(loss = 'binary_crossentropy', optimizer = optimizers.RMSprop(lr = 2e-5), metrics = ['acc'])"
      ],
      "execution_count": 13,
      "outputs": [
        {
          "output_type": "stream",
          "text": [
            "Found 2000 images belonging to 2 classes.\n"
          ],
          "name": "stdout"
        },
        {
          "output_type": "stream",
          "text": [
            "W0619 03:22:05.398960 139994646865792 deprecation_wrapper.py:119] From /usr/local/lib/python3.6/dist-packages/keras/optimizers.py:790: The name tf.train.Optimizer is deprecated. Please use tf.compat.v1.train.Optimizer instead.\n",
            "\n",
            "W0619 03:22:05.413228 139994646865792 deprecation.py:323] From /usr/local/lib/python3.6/dist-packages/tensorflow/python/ops/nn_impl.py:180: add_dispatch_support.<locals>.wrapper (from tensorflow.python.ops.array_ops) is deprecated and will be removed in a future version.\n",
            "Instructions for updating:\n",
            "Use tf.where in 2.0, which has the same broadcast rule as np.where\n"
          ],
          "name": "stderr"
        },
        {
          "output_type": "stream",
          "text": [
            "Found 1000 images belonging to 2 classes.\n"
          ],
          "name": "stdout"
        }
      ]
    },
    {
      "cell_type": "code",
      "metadata": {
        "id": "eYqT14XEE3D0",
        "colab_type": "code",
        "colab": {
          "base_uri": "https://localhost:8080/",
          "height": 717
        },
        "outputId": "7887f051-2f61-4c81-846c-2dbc90c16dcd"
      },
      "source": [
        "history = model4.fit_generator(train_generator, steps_per_epoch = 100, epochs = 20 ,\n",
        "                              validation_data = validation_generator, validation_steps = 50)\n"
      ],
      "execution_count": 14,
      "outputs": [
        {
          "output_type": "stream",
          "text": [
            "Epoch 1/20\n",
            "100/100 [==============================] - 861s 9s/step - loss: 0.5719 - acc: 0.7215 - val_loss: 0.4531 - val_acc: 0.8100\n",
            "Epoch 2/20\n",
            "100/100 [==============================] - 670s 7s/step - loss: 0.4803 - acc: 0.7850 - val_loss: 0.3703 - val_acc: 0.8510\n",
            "Epoch 3/20\n",
            "100/100 [==============================] - 671s 7s/step - loss: 0.4313 - acc: 0.8105 - val_loss: 0.3266 - val_acc: 0.8740\n",
            "Epoch 4/20\n",
            "100/100 [==============================] - 671s 7s/step - loss: 0.4152 - acc: 0.8160 - val_loss: 0.3253 - val_acc: 0.8590\n",
            "Epoch 5/20\n",
            "100/100 [==============================] - 670s 7s/step - loss: 0.3763 - acc: 0.8415 - val_loss: 0.3204 - val_acc: 0.8600\n",
            "Epoch 6/20\n",
            "100/100 [==============================] - 668s 7s/step - loss: 0.3671 - acc: 0.8395 - val_loss: 0.2802 - val_acc: 0.8910\n",
            "Epoch 7/20\n",
            "100/100 [==============================] - 667s 7s/step - loss: 0.3536 - acc: 0.8505 - val_loss: 0.2756 - val_acc: 0.8850\n",
            "Epoch 8/20\n",
            "100/100 [==============================] - 670s 7s/step - loss: 0.3445 - acc: 0.8460 - val_loss: 0.2664 - val_acc: 0.8930\n",
            "Epoch 9/20\n",
            "100/100 [==============================] - 671s 7s/step - loss: 0.3362 - acc: 0.8525 - val_loss: 0.2644 - val_acc: 0.8880\n",
            "Epoch 10/20\n",
            "100/100 [==============================] - 669s 7s/step - loss: 0.3449 - acc: 0.8475 - val_loss: 0.2679 - val_acc: 0.8870\n",
            "Epoch 11/20\n",
            "100/100 [==============================] - 667s 7s/step - loss: 0.3357 - acc: 0.8460 - val_loss: 0.2569 - val_acc: 0.8950\n",
            "Epoch 12/20\n",
            "100/100 [==============================] - 671s 7s/step - loss: 0.3255 - acc: 0.8665 - val_loss: 0.2540 - val_acc: 0.8980\n",
            "Epoch 13/20\n",
            "100/100 [==============================] - 673s 7s/step - loss: 0.3218 - acc: 0.8580 - val_loss: 0.2540 - val_acc: 0.8940\n",
            "Epoch 14/20\n",
            "100/100 [==============================] - 672s 7s/step - loss: 0.3115 - acc: 0.8660 - val_loss: 0.2586 - val_acc: 0.8950\n",
            "Epoch 15/20\n",
            "100/100 [==============================] - 672s 7s/step - loss: 0.3189 - acc: 0.8615 - val_loss: 0.2577 - val_acc: 0.8880\n",
            "Epoch 16/20\n",
            "100/100 [==============================] - 671s 7s/step - loss: 0.3206 - acc: 0.8635 - val_loss: 0.2467 - val_acc: 0.8970\n",
            "Epoch 17/20\n",
            "100/100 [==============================] - 670s 7s/step - loss: 0.3104 - acc: 0.8615 - val_loss: 0.2470 - val_acc: 0.9000\n",
            "Epoch 18/20\n",
            "100/100 [==============================] - 669s 7s/step - loss: 0.2980 - acc: 0.8740 - val_loss: 0.2601 - val_acc: 0.8930\n",
            "Epoch 19/20\n",
            "100/100 [==============================] - 667s 7s/step - loss: 0.3015 - acc: 0.8710 - val_loss: 0.2443 - val_acc: 0.8990\n",
            "Epoch 20/20\n",
            "100/100 [==============================] - 668s 7s/step - loss: 0.2948 - acc: 0.8740 - val_loss: 0.2417 - val_acc: 0.9020\n"
          ],
          "name": "stdout"
        }
      ]
    },
    {
      "cell_type": "code",
      "metadata": {
        "id": "7IoODdFGjybn",
        "colab_type": "code",
        "colab": {}
      },
      "source": [
        "model4.save('cats_and_dogs_4.h5')"
      ],
      "execution_count": 0,
      "outputs": []
    },
    {
      "cell_type": "code",
      "metadata": {
        "id": "_VHikxJJIuk4",
        "colab_type": "code",
        "colab": {
          "base_uri": "https://localhost:8080/",
          "height": 573
        },
        "outputId": "aa5b8c28-6851-4a31-806e-be0d538d5201"
      },
      "source": [
        "import matplotlib.pyplot as plt\n",
        "acc = history.history['acc']\n",
        "val_acc = history.history['val_acc']\n",
        "loss = history.history['loss']\n",
        "val_loss = history.history['val_loss']\n",
        "epochs = list(range(1,len(acc)+1))\n",
        "plt.plot(epochs,acc,'bo',label='Training accuracy')\n",
        "plt.plot(epochs,val_acc,'b',label='Validation accuracy')\n",
        "plt.xlabel('Epochs')\n",
        "plt.ylabel('Accuracy')\n",
        "plt.title('Training vs Validation Accuracy')\n",
        "plt.legend()\n",
        "\n",
        "plt.figure()\n",
        "\n",
        "plt.plot(epochs,loss,'bo',label='Training loss')\n",
        "plt.plot(epochs,val_loss,'b',label='Validation loss')\n",
        "plt.xlabel('Epochs')\n",
        "plt.ylabel('Loss')\n",
        "plt.title('Training vs Validation Loss')\n",
        "plt.legend()\n",
        "\n",
        "plt.show()"
      ],
      "execution_count": 16,
      "outputs": [
        {
          "output_type": "display_data",
          "data": {
            "image/png": "[encoded data removed]",
            "text/plain": [
              "<Figure size 432x288 with 1 Axes>"
            ]
          },
          "metadata": {
            "tags": []
          }
        },
        {
          "output_type": "display_data",
          "data": {
            "image/png": "[encoded data removed]",
            "text/plain": [
              "<Figure size 432x288 with 1 Axes>"
            ]
          },
          "metadata": {
            "tags": []
          }
        }
      ]
    },
    {
      "cell_type": "markdown",
      "metadata": {
        "id": "t9w2COXfuZfu",
        "colab_type": "text"
      },
      "source": [
        ""
      ]
    }
  ]
}