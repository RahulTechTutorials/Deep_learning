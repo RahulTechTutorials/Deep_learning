{
  "nbformat": 4,
  "nbformat_minor": 0,
  "metadata": {
    "colab": {
      "name": "IMDB_Classification_word_embedding.ipynb",
      "version": "0.3.2",
      "provenance": [],
      "collapsed_sections": [],
      "toc_visible": true,
      "include_colab_link": true
    },
    "kernelspec": {
      "name": "python3",
      "display_name": "Python 3"
    },
    "accelerator": "GPU"
  },
  "cells": [
    {
      "cell_type": "markdown",
      "metadata": {
        "id": "view-in-github",
        "colab_type": "text"
      },
      "source": [
        "<a href=\"https://colab.research.google.com/github/RahulTechTutorials/Deep_learning/blob/master/IMDB_Classification_word_embedding.ipynb\" target=\"_parent\"><img src=\"https://colab.research.google.com/assets/colab-badge.svg\" alt=\"Open In Colab\"/></a>"
      ]
    },
    {
      "cell_type": "code",
      "metadata": {
        "id": "Ti9xZhMPZWLl",
        "colab_type": "code",
        "outputId": "5af9eefc-56fb-4874-eb15-870bd0de3e7f",
        "colab": {
          "base_uri": "https://localhost:8080/",
          "height": 34
        }
      },
      "source": [
        "from keras.datasets import imdb\n",
        "from keras import preprocessing\n",
        "\n",
        "max_features = 1000\n",
        "maxlen = 20\n",
        "\n",
        "\n",
        "\n"
      ],
      "execution_count": 1,
      "outputs": [
        {
          "output_type": "stream",
          "text": [
            "Using TensorFlow backend.\n"
          ],
          "name": "stderr"
        }
      ]
    },
    {
      "cell_type": "code",
      "metadata": {
        "id": "KucNDJUIaK8k",
        "colab_type": "code",
        "colab": {}
      },
      "source": [
        "#!pip install numpy==1.16.1"
      ],
      "execution_count": 0,
      "outputs": []
    },
    {
      "cell_type": "code",
      "metadata": {
        "id": "wVpjX58taNnF",
        "colab_type": "code",
        "outputId": "a8d8124f-d4d1-4de7-ec41-b2a2956cada3",
        "colab": {
          "base_uri": "https://localhost:8080/",
          "height": 51
        }
      },
      "source": [
        "(x_train, y_train), (x_test,y_test) = imdb.load_data(num_words = max_features)"
      ],
      "execution_count": 3,
      "outputs": [
        {
          "output_type": "stream",
          "text": [
            "Downloading data from https://s3.amazonaws.com/text-datasets/imdb.npz\n",
            "17465344/17464789 [==============================] - 3s 0us/step\n"
          ],
          "name": "stdout"
        }
      ]
    },
    {
      "cell_type": "code",
      "metadata": {
        "id": "u3g7zl8vZ8I5",
        "colab_type": "code",
        "outputId": "06bff77a-e7ea-435a-8bd5-cc2f6f10c80b",
        "colab": {
          "base_uri": "https://localhost:8080/",
          "height": 34
        }
      },
      "source": [
        "x_train.shape, x_test.shape"
      ],
      "execution_count": 4,
      "outputs": [
        {
          "output_type": "execute_result",
          "data": {
            "text/plain": [
              "((25000,), (25000,))"
            ]
          },
          "metadata": {
            "tags": []
          },
          "execution_count": 4
        }
      ]
    },
    {
      "cell_type": "code",
      "metadata": {
        "id": "GM50S5axZ7mg",
        "colab_type": "code",
        "outputId": "76118a68-ff29-4899-c555-e9456ebf3bc3",
        "colab": {
          "base_uri": "https://localhost:8080/",
          "height": 204
        }
      },
      "source": [
        "for i,seq in enumerate(x_train):\n",
        "  if i > 10:\n",
        "    break\n",
        "  else:\n",
        "    print(i,':', len(seq))"
      ],
      "execution_count": 5,
      "outputs": [
        {
          "output_type": "stream",
          "text": [
            "0 : 218\n",
            "1 : 189\n",
            "2 : 141\n",
            "3 : 550\n",
            "4 : 147\n",
            "5 : 43\n",
            "6 : 123\n",
            "7 : 562\n",
            "8 : 233\n",
            "9 : 130\n",
            "10 : 450\n"
          ],
          "name": "stdout"
        }
      ]
    },
    {
      "cell_type": "code",
      "metadata": {
        "id": "u7wAIfRba9p5",
        "colab_type": "code",
        "outputId": "1738e817-7eea-4cc3-9945-c39b7fc70c34",
        "colab": {
          "base_uri": "https://localhost:8080/",
          "height": 204
        }
      },
      "source": [
        "for i,seq in enumerate(x_test):\n",
        "  if i > 10:\n",
        "    break\n",
        "  else:\n",
        "    print(i,':', len(seq))"
      ],
      "execution_count": 7,
      "outputs": [
        {
          "output_type": "stream",
          "text": [
            "0 : 68\n",
            "1 : 260\n",
            "2 : 603\n",
            "3 : 181\n",
            "4 : 108\n",
            "5 : 132\n",
            "6 : 761\n",
            "7 : 180\n",
            "8 : 134\n",
            "9 : 370\n",
            "10 : 209\n"
          ],
          "name": "stdout"
        }
      ]
    },
    {
      "cell_type": "code",
      "metadata": {
        "id": "JYbl8XoIa778",
        "colab_type": "code",
        "colab": {}
      },
      "source": [
        "x_train = preprocessing.sequence.pad_sequences(x_train,maxlen=maxlen)\n",
        "x_test = preprocessing.sequence.pad_sequences(x_test,maxlen=maxlen)"
      ],
      "execution_count": 0,
      "outputs": []
    },
    {
      "cell_type": "code",
      "metadata": {
        "id": "hSlVRxdmbCfD",
        "colab_type": "code",
        "outputId": "176a420f-1825-4665-8aa5-631b867f2460",
        "colab": {
          "base_uri": "https://localhost:8080/",
          "height": 204
        }
      },
      "source": [
        "for i,seq in enumerate(x_train):\n",
        "  if i > 10:\n",
        "    break\n",
        "  else:\n",
        "    print(i,':', len(seq))"
      ],
      "execution_count": 9,
      "outputs": [
        {
          "output_type": "stream",
          "text": [
            "0 : 20\n",
            "1 : 20\n",
            "2 : 20\n",
            "3 : 20\n",
            "4 : 20\n",
            "5 : 20\n",
            "6 : 20\n",
            "7 : 20\n",
            "8 : 20\n",
            "9 : 20\n",
            "10 : 20\n"
          ],
          "name": "stdout"
        }
      ]
    },
    {
      "cell_type": "code",
      "metadata": {
        "id": "NsiPqmpybCiC",
        "colab_type": "code",
        "outputId": "c6bddd51-0fbb-443f-a205-75eee2752164",
        "colab": {
          "base_uri": "https://localhost:8080/",
          "height": 204
        }
      },
      "source": [
        "for i,seq in enumerate(x_test):\n",
        "  if i > 10:\n",
        "    break\n",
        "  else:\n",
        "    print(i,':', len(seq))"
      ],
      "execution_count": 10,
      "outputs": [
        {
          "output_type": "stream",
          "text": [
            "0 : 20\n",
            "1 : 20\n",
            "2 : 20\n",
            "3 : 20\n",
            "4 : 20\n",
            "5 : 20\n",
            "6 : 20\n",
            "7 : 20\n",
            "8 : 20\n",
            "9 : 20\n",
            "10 : 20\n"
          ],
          "name": "stdout"
        }
      ]
    },
    {
      "cell_type": "code",
      "metadata": {
        "id": "ZB1U9qGQjp-0",
        "colab_type": "code",
        "outputId": "73718680-6241-4c47-f6f2-29b41ace7c7f",
        "colab": {
          "base_uri": "https://localhost:8080/",
          "height": 34
        }
      },
      "source": [
        "x_train.shape, x_test.shape"
      ],
      "execution_count": 11,
      "outputs": [
        {
          "output_type": "execute_result",
          "data": {
            "text/plain": [
              "((25000, 20), (25000, 20))"
            ]
          },
          "metadata": {
            "tags": []
          },
          "execution_count": 11
        }
      ]
    },
    {
      "cell_type": "code",
      "metadata": {
        "id": "HlFdbyhFbKn9",
        "colab_type": "code",
        "outputId": "8696b176-7a9f-4413-8fe0-b3210eb80f6d",
        "colab": {
          "base_uri": "https://localhost:8080/",
          "height": 51
        }
      },
      "source": [
        "\n",
        "word_index = imdb.get_word_index()\n",
        "reverse_word_index = dict([(value,key) for (key,value) in word_index.items()])\n",
        "decoded_review = ' '.join([reverse_word_index.get(i-3,'?') for i in x_train[0]])\n",
        "  "
      ],
      "execution_count": 12,
      "outputs": [
        {
          "output_type": "stream",
          "text": [
            "Downloading data from https://s3.amazonaws.com/text-datasets/imdb_word_index.json\n",
            "1646592/1641221 [==============================] - 2s 1us/step\n"
          ],
          "name": "stdout"
        }
      ]
    },
    {
      "cell_type": "code",
      "metadata": {
        "id": "iuP2A25hblVK",
        "colab_type": "code",
        "outputId": "c89e1e03-1045-4915-8cde-98b43dc55585",
        "colab": {
          "base_uri": "https://localhost:8080/",
          "height": 34
        }
      },
      "source": [
        "decoded_review"
      ],
      "execution_count": 13,
      "outputs": [
        {
          "output_type": "execute_result",
          "data": {
            "text/plain": [
              "'story was so ? because it was true and was ? life after all that was ? with us all'"
            ]
          },
          "metadata": {
            "tags": []
          },
          "execution_count": 13
        }
      ]
    },
    {
      "cell_type": "code",
      "metadata": {
        "id": "mOCUL5EdbqpV",
        "colab_type": "code",
        "colab": {}
      },
      "source": [
        "decoded_review = ' '.join([reverse_word_index.get(i-3,'?') for i in x_train[1]])"
      ],
      "execution_count": 0,
      "outputs": []
    },
    {
      "cell_type": "markdown",
      "metadata": {
        "id": "hHDZBoPyZa0a",
        "colab_type": "text"
      },
      "source": [
        ""
      ]
    },
    {
      "cell_type": "code",
      "metadata": {
        "id": "cZDZKNY-bsgE",
        "colab_type": "code",
        "outputId": "ad79b39e-aae5-46e2-84f7-03a02ba328d1",
        "colab": {
          "base_uri": "https://localhost:8080/",
          "height": 34
        }
      },
      "source": [
        "decoded_review"
      ],
      "execution_count": 15,
      "outputs": [
        {
          "output_type": "execute_result",
          "data": {
            "text/plain": [
              "'on the ? that was the ? and have a good old laugh at how bad everything was back then'"
            ]
          },
          "metadata": {
            "tags": []
          },
          "execution_count": 15
        }
      ]
    },
    {
      "cell_type": "markdown",
      "metadata": {
        "id": "IYfUjdS_SgFz",
        "colab_type": "text"
      },
      "source": [
        "# Model 1 : Using a simple embedding layer (with 8 dimensional vectors) and a Dense Layer "
      ]
    },
    {
      "cell_type": "code",
      "metadata": {
        "id": "FggaVQ9rbszc",
        "colab_type": "code",
        "outputId": "0824f631-e2f4-4395-d507-7c746579e61a",
        "colab": {
          "base_uri": "https://localhost:8080/",
          "height": 275
        }
      },
      "source": [
        "from keras.models import Sequential\n",
        "from keras.layers import Flatten, Dense, Embedding\n",
        "\n",
        "model = Sequential()\n",
        "model.add(Embedding(10000, 8, input_length=maxlen))\n",
        "model.add(Flatten())\n",
        "model.add(Dense(1,activation='sigmoid'))\n",
        "\n",
        "model.compile(optimizer = 'rmsprop', loss = 'binary_crossentropy', metrics = ['acc'])\n"
      ],
      "execution_count": 16,
      "outputs": [
        {
          "output_type": "stream",
          "text": [
            "WARNING: Logging before flag parsing goes to stderr.\n",
            "W0720 08:38:45.276958 140255298971520 deprecation_wrapper.py:119] From /usr/local/lib/python3.6/dist-packages/keras/backend/tensorflow_backend.py:74: The name tf.get_default_graph is deprecated. Please use tf.compat.v1.get_default_graph instead.\n",
            "\n",
            "W0720 08:38:45.311868 140255298971520 deprecation_wrapper.py:119] From /usr/local/lib/python3.6/dist-packages/keras/backend/tensorflow_backend.py:517: The name tf.placeholder is deprecated. Please use tf.compat.v1.placeholder instead.\n",
            "\n",
            "W0720 08:38:45.320942 140255298971520 deprecation_wrapper.py:119] From /usr/local/lib/python3.6/dist-packages/keras/backend/tensorflow_backend.py:4138: The name tf.random_uniform is deprecated. Please use tf.random.uniform instead.\n",
            "\n",
            "W0720 08:38:45.358243 140255298971520 deprecation_wrapper.py:119] From /usr/local/lib/python3.6/dist-packages/keras/optimizers.py:790: The name tf.train.Optimizer is deprecated. Please use tf.compat.v1.train.Optimizer instead.\n",
            "\n",
            "W0720 08:38:45.375517 140255298971520 deprecation_wrapper.py:119] From /usr/local/lib/python3.6/dist-packages/keras/backend/tensorflow_backend.py:3376: The name tf.log is deprecated. Please use tf.math.log instead.\n",
            "\n",
            "W0720 08:38:45.381262 140255298971520 deprecation.py:323] From /usr/local/lib/python3.6/dist-packages/tensorflow/python/ops/nn_impl.py:180: add_dispatch_support.<locals>.wrapper (from tensorflow.python.ops.array_ops) is deprecated and will be removed in a future version.\n",
            "Instructions for updating:\n",
            "Use tf.where in 2.0, which has the same broadcast rule as np.where\n"
          ],
          "name": "stderr"
        }
      ]
    },
    {
      "cell_type": "code",
      "metadata": {
        "id": "x4NNq_uUdxKZ",
        "colab_type": "code",
        "outputId": "934cc512-764e-419c-f9f3-70c6683e8abf",
        "colab": {
          "base_uri": "https://localhost:8080/",
          "height": 238
        }
      },
      "source": [
        "model.summary()"
      ],
      "execution_count": 17,
      "outputs": [
        {
          "output_type": "stream",
          "text": [
            "_________________________________________________________________\n",
            "Layer (type)                 Output Shape              Param #   \n",
            "=================================================================\n",
            "embedding_1 (Embedding)      (None, 20, 8)             80000     \n",
            "_________________________________________________________________\n",
            "flatten_1 (Flatten)          (None, 160)               0         \n",
            "_________________________________________________________________\n",
            "dense_1 (Dense)              (None, 1)                 161       \n",
            "=================================================================\n",
            "Total params: 80,161\n",
            "Trainable params: 80,161\n",
            "Non-trainable params: 0\n",
            "_________________________________________________________________\n"
          ],
          "name": "stdout"
        }
      ]
    },
    {
      "cell_type": "code",
      "metadata": {
        "id": "h8fuiCQDeFLm",
        "colab_type": "code",
        "outputId": "5b0e998f-b803-4685-a318-3acc39116797",
        "colab": {
          "base_uri": "https://localhost:8080/",
          "height": 428
        }
      },
      "source": [
        "history = model.fit(x_train,y_train, epochs = 10, batch_size = 32, validation_split = 0.2)"
      ],
      "execution_count": 18,
      "outputs": [
        {
          "output_type": "stream",
          "text": [
            "W0720 08:38:45.599284 140255298971520 deprecation_wrapper.py:119] From /usr/local/lib/python3.6/dist-packages/keras/backend/tensorflow_backend.py:986: The name tf.assign_add is deprecated. Please use tf.compat.v1.assign_add instead.\n",
            "\n"
          ],
          "name": "stderr"
        },
        {
          "output_type": "stream",
          "text": [
            "Train on 20000 samples, validate on 5000 samples\n",
            "Epoch 1/10\n",
            "20000/20000 [==============================] - 5s 259us/step - loss: 0.6772 - acc: 0.6006 - val_loss: 0.6448 - val_acc: 0.6704\n",
            "Epoch 2/10\n",
            "20000/20000 [==============================] - 2s 88us/step - loss: 0.5830 - acc: 0.7188 - val_loss: 0.5629 - val_acc: 0.7046\n",
            "Epoch 3/10\n",
            "20000/20000 [==============================] - 2s 88us/step - loss: 0.5152 - acc: 0.7464 - val_loss: 0.5362 - val_acc: 0.7208\n",
            "Epoch 4/10\n",
            "20000/20000 [==============================] - 2s 88us/step - loss: 0.4879 - acc: 0.7607 - val_loss: 0.5299 - val_acc: 0.7292\n",
            "Epoch 5/10\n",
            "20000/20000 [==============================] - 2s 88us/step - loss: 0.4731 - acc: 0.7694 - val_loss: 0.5290 - val_acc: 0.7334\n",
            "Epoch 6/10\n",
            "20000/20000 [==============================] - 2s 89us/step - loss: 0.4633 - acc: 0.7773 - val_loss: 0.5317 - val_acc: 0.7344\n",
            "Epoch 7/10\n",
            "20000/20000 [==============================] - 2s 89us/step - loss: 0.4548 - acc: 0.7819 - val_loss: 0.5333 - val_acc: 0.7318\n",
            "Epoch 8/10\n",
            "20000/20000 [==============================] - 2s 88us/step - loss: 0.4471 - acc: 0.7870 - val_loss: 0.5377 - val_acc: 0.7288\n",
            "Epoch 9/10\n",
            "20000/20000 [==============================] - 2s 88us/step - loss: 0.4399 - acc: 0.7924 - val_loss: 0.5422 - val_acc: 0.7278\n",
            "Epoch 10/10\n",
            "20000/20000 [==============================] - 2s 87us/step - loss: 0.4328 - acc: 0.7957 - val_loss: 0.5458 - val_acc: 0.7290\n"
          ],
          "name": "stdout"
        }
      ]
    },
    {
      "cell_type": "markdown",
      "metadata": {
        "id": "PrIxz2JWel21",
        "colab_type": "text"
      },
      "source": [
        ""
      ]
    },
    {
      "cell_type": "code",
      "metadata": {
        "id": "VJZ-7L-oecvr",
        "colab_type": "code",
        "outputId": "7a8cfc49-eae6-4c84-d94e-a347c34f55c2",
        "colab": {
          "base_uri": "https://localhost:8080/",
          "height": 573
        }
      },
      "source": [
        "import matplotlib.pyplot as plt\n",
        "acc = history.history['acc']\n",
        "val_acc = history.history['val_acc']\n",
        "loss = history.history['loss']\n",
        "val_loss = history.history['val_loss']\n",
        "epochs = list(range(1,len(acc)+1))\n",
        "plt.plot(epochs,acc,'bo',label='Training accuracy')\n",
        "plt.plot(epochs,val_acc,'b',label='Validation accuracy')\n",
        "plt.xlabel('Epochs')\n",
        "plt.ylabel('Accuracy')\n",
        "plt.title('Training vs Validation Accuracy')\n",
        "plt.legend()\n",
        "\n",
        "plt.figure()\n",
        "\n",
        "plt.plot(epochs,loss,'bo',label='Training loss')\n",
        "plt.plot(epochs,val_loss,'b',label='Validation loss')\n",
        "plt.xlabel('Epochs')\n",
        "plt.ylabel('Loss')\n",
        "plt.title('Training vs Validation Loss')\n",
        "plt.legend()\n",
        "\n",
        "plt.show()"
      ],
      "execution_count": 19,
      "outputs": [
        {
          "output_type": "display_data",
          "data": {
            "image/png": "[encoded data removed]",
            "text/plain": [
              "<Figure size 432x288 with 1 Axes>"
            ]
          },
          "metadata": {
            "tags": []
          }
        },
        {
          "output_type": "display_data",
          "data": {
            "image/png": "[encoded data removed]",
            "text/plain": [
              "<Figure size 432x288 with 1 Axes>"
            ]
          },
          "metadata": {
            "tags": []
          }
        }
      ]
    },
    {
      "cell_type": "markdown",
      "metadata": {
        "id": "o0E33fjMfHsK",
        "colab_type": "text"
      },
      "source": [
        "# **Accuracy Achieved - 72%**\n",
        "## **(with Embedding and one Dense layer )**"
      ]
    },
    {
      "cell_type": "markdown",
      "metadata": {
        "id": "ZTInNLsxfVgc",
        "colab_type": "text"
      },
      "source": [
        "We have achived 72% with just one embedding and dense layer which is not bad, however we should make use of RNN here so as to understand the embedding more thoroughly"
      ]
    },
    {
      "cell_type": "markdown",
      "metadata": {
        "id": "ShJawdhonGIr",
        "colab_type": "text"
      },
      "source": [
        "Now lets use the raw IMDB dataset and then we will be using Word2Vec or Glove"
      ]
    },
    {
      "cell_type": "markdown",
      "metadata": {
        "id": "pQJJvrxSnCg1",
        "colab_type": "text"
      },
      "source": [
        ""
      ]
    },
    {
      "cell_type": "markdown",
      "metadata": {
        "id": "FsonxOMK81kJ",
        "colab_type": "text"
      },
      "source": [
        "#Model 2 : Using Word embedding layer from Glove word vectorization, and two Dense layers"
      ]
    },
    {
      "cell_type": "code",
      "metadata": {
        "id": "1P4XQcVwnEIe",
        "colab_type": "code",
        "colab": {}
      },
      "source": [
        "import os, shutil\n",
        "from google.colab import drive\n",
        "from tqdm import tqdm\n",
        "import pickle"
      ],
      "execution_count": 0,
      "outputs": []
    },
    {
      "cell_type": "code",
      "metadata": {
        "id": "s8JH9TVInupP",
        "colab_type": "code",
        "outputId": "2741e416-2733-4e6e-b6be-277ccae2e7ae",
        "colab": {
          "base_uri": "https://localhost:8080/",
          "height": 139
        }
      },
      "source": [
        "drive.mount('/gdrive')\n",
        "%cd /gdrive"
      ],
      "execution_count": 21,
      "outputs": [
        {
          "output_type": "stream",
          "text": [
            "Go to this URL in a browser: https://accounts.google.com/o/oauth2/auth?client_id=947318989803-6bn6qk8qdgf4n4g3pfee6491hc0brc4i.apps.googleusercontent.com&redirect_uri=urn%3Aietf%3Awg%3Aoauth%3A2.0%3Aoob&scope=email%20https%3A%2F%2Fwww.googleapis.com%2Fauth%2Fdocs.test%20https%3A%2F%2Fwww.googleapis.com%2Fauth%2Fdrive%20https%3A%2F%2Fwww.googleapis.com%2Fauth%2Fdrive.photos.readonly%20https%3A%2F%2Fwww.googleapis.com%2Fauth%2Fpeopleapi.readonly&response_type=code\n",
            "\n",
            "Enter your authorization code:\n",
            "··········\n",
            "Mounted at /gdrive\n",
            "/gdrive\n"
          ],
          "name": "stdout"
        }
      ]
    },
    {
      "cell_type": "code",
      "metadata": {
        "id": "UetpX9qxn7Cy",
        "colab_type": "code",
        "outputId": "1d6e3939-dc88-43d6-a465-2196cd336d6f",
        "colab": {
          "base_uri": "https://localhost:8080/",
          "height": 34
        }
      },
      "source": [
        "os.getcwd()"
      ],
      "execution_count": 22,
      "outputs": [
        {
          "output_type": "execute_result",
          "data": {
            "text/plain": [
              "'/gdrive'"
            ]
          },
          "metadata": {
            "tags": []
          },
          "execution_count": 22
        }
      ]
    },
    {
      "cell_type": "code",
      "metadata": {
        "id": "iiCCFBK8n8q9",
        "colab_type": "code",
        "colab": {}
      },
      "source": [
        "os.chdir('/gdrive/My Drive/colab_datasets/base_dir_imdb/aclImdb')"
      ],
      "execution_count": 0,
      "outputs": []
    },
    {
      "cell_type": "code",
      "metadata": {
        "id": "Z6xHMyz_oDeU",
        "colab_type": "code",
        "colab": {}
      },
      "source": [
        "base_dir = '/gdrive/My Drive/colab_datasets/base_dir_imdb/aclImdb'"
      ],
      "execution_count": 0,
      "outputs": []
    },
    {
      "cell_type": "markdown",
      "metadata": {
        "id": "FnsKdrvRVD97",
        "colab_type": "text"
      },
      "source": [
        "Preprocessing the input data. The review data is such that each review is kept in a txt file. Hence there are 25000 txt files with 25k reviews. There are two folders namely neg and pos, for negative and positive sentiments respectively. What we are doing below is going to individual folder, getting the file text, appending the same in the texts list , putting the corresponding sentiment classification (1 if coming from neg folder and pos if coming from pos folder) and getting the input data ready to be consumed."
      ]
    },
    {
      "cell_type": "code",
      "metadata": {
        "id": "-q00lW5TpCIm",
        "colab_type": "code",
        "outputId": "46ba1245-188e-4737-f6fb-d8bfbd428244",
        "colab": {
          "base_uri": "https://localhost:8080/",
          "height": 54
        }
      },
      "source": [
        "'''\n",
        "train_dir = os.path.join(base_dir,'train')\n",
        "test_dir = os.path.join(base_dir,'test')\n",
        "\n",
        "texts = []\n",
        "labels = []\n",
        "\n",
        "for label_type in ['neg','pos']:\n",
        "  dir_name = os.path.join(train_dir,label_type)\n",
        "  print(dir_name)\n",
        "  for file in tqdm(os.listdir(dir_name)):\n",
        "    if file.endswith('.txt'):\n",
        "      file_path = os.path.join(dir_name,file)\n",
        "      with open(file_path) as f_name:\n",
        "        texts.append(f_name.read())\n",
        "        if label_type == 'neg':\n",
        "          labels.append(0)\n",
        "        else:\n",
        "          labels.append(1)\n",
        "'''"
      ],
      "execution_count": 25,
      "outputs": [
        {
          "output_type": "execute_result",
          "data": {
            "text/plain": [
              "\"\\ntrain_dir = os.path.join(base_dir,'train')\\ntest_dir = os.path.join(base_dir,'test')\\n\\ntexts = []\\nlabels = []\\n\\nfor label_type in ['neg','pos']:\\n  dir_name = os.path.join(train_dir,label_type)\\n  print(dir_name)\\n  for file in tqdm(os.listdir(dir_name)):\\n    if file.endswith('.txt'):\\n      file_path = os.path.join(dir_name,file)\\n      with open(file_path) as f_name:\\n        texts.append(f_name.read())\\n        if label_type == 'neg':\\n          labels.append(0)\\n        else:\\n          labels.append(1)\\n\""
            ]
          },
          "metadata": {
            "tags": []
          },
          "execution_count": 25
        }
      ]
    },
    {
      "cell_type": "markdown",
      "metadata": {
        "id": "aZOA7TCiVt0k",
        "colab_type": "text"
      },
      "source": [
        "Since the above process takes time, I have pickled the texts and labels files onto drive, which could be reused everytime i want to rerun the code"
      ]
    },
    {
      "cell_type": "code",
      "metadata": {
        "id": "BhhfPhYr-w1w",
        "colab_type": "code",
        "colab": {
          "base_uri": "https://localhost:8080/",
          "height": 54
        },
        "outputId": "ff775a78-4df4-4037-ea8a-8ec21319c472"
      },
      "source": [
        "'''\n",
        "import pickle\n",
        "os.chdir('/gdrive/My Drive/colab_datasets/base_dir_imdb/aclImdb/saved_models')\n",
        "filename1 = open('texts_serialized.pkl','wb')\n",
        "pickle.dump(texts,filename1)\n",
        "filename1.close()\n",
        "filename2 = open('labels_serialized.pkl','wb')\n",
        "pickle.dump(labels,filename2)\n",
        "filename2.close()\n",
        "'''\n"
      ],
      "execution_count": 26,
      "outputs": [
        {
          "output_type": "execute_result",
          "data": {
            "text/plain": [
              "\"\\nimport pickle\\nos.chdir('/gdrive/My Drive/colab_datasets/base_dir_imdb/aclImdb/saved_models')\\nfilename1 = open('texts_serialized.pkl','wb')\\npickle.dump(texts,filename1)\\nfilename1.close()\\nfilename2 = open('labels_serialized.pkl','wb')\\npickle.dump(labels,filename2)\\nfilename2.close()\\n\""
            ]
          },
          "metadata": {
            "tags": []
          },
          "execution_count": 26
        }
      ]
    },
    {
      "cell_type": "markdown",
      "metadata": {
        "id": "UjmaVnWsV7Mc",
        "colab_type": "text"
      },
      "source": [
        "Below code is used to reload the serialized file"
      ]
    },
    {
      "cell_type": "code",
      "metadata": {
        "id": "nPMpMddlEUSo",
        "colab_type": "code",
        "colab": {}
      },
      "source": [
        "texts = []\n",
        "labels = []\n",
        "import pickle\n",
        "os.chdir('/gdrive/My Drive/colab_datasets/base_dir_imdb/aclImdb/saved_models')\n",
        "filename1 = open('texts_serialized.pkl','rb')\n",
        "texts = pickle.load(filename1)\n",
        "filename1.close()\n",
        "filename2 = open('labels_serialized.pkl','rb')\n",
        "labels = pickle.load(filename2)\n",
        "filename2.close()\n"
      ],
      "execution_count": 0,
      "outputs": []
    },
    {
      "cell_type": "code",
      "metadata": {
        "id": "BVWWwAMQqUEc",
        "colab_type": "code",
        "outputId": "e6686ce3-67a0-4b60-aabf-22a9565dd12a",
        "colab": {
          "base_uri": "https://localhost:8080/",
          "height": 34
        }
      },
      "source": [
        "len(labels), len(texts)"
      ],
      "execution_count": 28,
      "outputs": [
        {
          "output_type": "execute_result",
          "data": {
            "text/plain": [
              "(25000, 25000)"
            ]
          },
          "metadata": {
            "tags": []
          },
          "execution_count": 28
        }
      ]
    },
    {
      "cell_type": "code",
      "metadata": {
        "id": "Mtf9J9m_F7JB",
        "colab_type": "code",
        "colab": {
          "base_uri": "https://localhost:8080/",
          "height": 54
        },
        "outputId": "8f5fdf08-0964-4a18-98af-0041f1538b39"
      },
      "source": [
        "texts[0]"
      ],
      "execution_count": 29,
      "outputs": [
        {
          "output_type": "execute_result",
          "data": {
            "text/plain": [
              "'Good Deaths. Good Mask. Cool Axe. Good Looking Girls....But Watch Out!!! No Plot and Little Scares Completely lower it\\'s Standards. They Tried to make an \"I Know what you Did Last Summer\", but ended up making A \"Scream\". But Hey, What do people Expect From a Horror Movie? Answers Totally Vary. Rent It If You Want, but I Regret Ever Seeing It.'"
            ]
          },
          "metadata": {
            "tags": []
          },
          "execution_count": 29
        }
      ]
    },
    {
      "cell_type": "code",
      "metadata": {
        "id": "7mrTv88mFo1F",
        "colab_type": "code",
        "colab": {
          "base_uri": "https://localhost:8080/",
          "height": 34
        },
        "outputId": "b99677f4-6397-411a-e00c-493a85a4c317"
      },
      "source": [
        "labels[24990:]"
      ],
      "execution_count": 30,
      "outputs": [
        {
          "output_type": "execute_result",
          "data": {
            "text/plain": [
              "[1, 1, 1, 1, 1, 1, 1, 1, 1, 1]"
            ]
          },
          "metadata": {
            "tags": []
          },
          "execution_count": 30
        }
      ]
    },
    {
      "cell_type": "markdown",
      "metadata": {
        "id": "V6686fdAWiPb",
        "colab_type": "text"
      },
      "source": [
        "What we are going to do here is. We will be using the exising word embedding Glove, which is nothing but a 100 dimensional vector representation for each word. We will restrict our training Samples to 200, since the external word embedding is usually useful when you have less training data, else pipeline (using our own embedding) embedding is better. We will take 200 training records and 10000 validation records. We will take the max 10000 most frequent words from the dictionary. Below is what we are going to do\n",
        "We have "
      ]
    },
    {
      "cell_type": "code",
      "metadata": {
        "id": "aIhSzVO7pK7U",
        "colab_type": "code",
        "colab": {}
      },
      "source": [
        "from keras.preprocessing.text import Tokenizer\n",
        "from keras.preprocessing.sequence import pad_sequences\n",
        "\n",
        "maxlength = 100\n",
        "training_samples = 200\n",
        "validation_samples = 10000\n",
        "max_words = 10000\n",
        "tokenizer = Tokenizer(num_words = max_words )\n"
      ],
      "execution_count": 0,
      "outputs": []
    },
    {
      "cell_type": "code",
      "metadata": {
        "id": "n7PqShCUysRR",
        "colab_type": "code",
        "outputId": "1b0f87e9-1d4d-49c2-c524-216ba6f4e021",
        "colab": {
          "base_uri": "https://localhost:8080/",
          "height": 34
        }
      },
      "source": [
        "tokenizer.word_index"
      ],
      "execution_count": 32,
      "outputs": [
        {
          "output_type": "execute_result",
          "data": {
            "text/plain": [
              "{}"
            ]
          },
          "metadata": {
            "tags": []
          },
          "execution_count": 32
        }
      ]
    },
    {
      "cell_type": "markdown",
      "metadata": {
        "id": "a2PlCSOAX4Gm",
        "colab_type": "text"
      },
      "source": [
        "When we fit_on_text, the tokenizer takes all the words in the texts, gives each word a index and create a dictionary as { WORD : INDEX }"
      ]
    },
    {
      "cell_type": "code",
      "metadata": {
        "id": "FkaSh0CZyuwm",
        "colab_type": "code",
        "colab": {}
      },
      "source": [
        "tokenizer.fit_on_texts(texts)"
      ],
      "execution_count": 0,
      "outputs": []
    },
    {
      "cell_type": "markdown",
      "metadata": {
        "id": "B9sxoQ6KZumb",
        "colab_type": "text"
      },
      "source": [
        "Lets look at how many words did it tokenized all together and created a dictionary"
      ]
    },
    {
      "cell_type": "code",
      "metadata": {
        "id": "kNXuNAZ3YCeQ",
        "colab_type": "code",
        "colab": {
          "base_uri": "https://localhost:8080/",
          "height": 34
        },
        "outputId": "7bb3902f-5dd1-4bba-f71a-a15cb0bcb580"
      },
      "source": [
        "len(tokenizer.word_index)"
      ],
      "execution_count": 34,
      "outputs": [
        {
          "output_type": "execute_result",
          "data": {
            "text/plain": [
              "88582"
            ]
          },
          "metadata": {
            "tags": []
          },
          "execution_count": 34
        }
      ]
    },
    {
      "cell_type": "markdown",
      "metadata": {
        "id": "HbyOvjNUZ3Zn",
        "colab_type": "text"
      },
      "source": [
        "Lets looka at a few of them"
      ]
    },
    {
      "cell_type": "code",
      "metadata": {
        "id": "I5-DpIWZy3PX",
        "colab_type": "code",
        "outputId": "92607c0f-7636-4ca2-eeb6-bc4f5ce3d749",
        "colab": {
          "base_uri": "https://localhost:8080/",
          "height": 187
        }
      },
      "source": [
        "for i,j in tokenizer.word_index.items():\n",
        "  if j > 10:\n",
        "    break\n",
        "  else:\n",
        "    print(i,j)"
      ],
      "execution_count": 35,
      "outputs": [
        {
          "output_type": "stream",
          "text": [
            "the 1\n",
            "and 2\n",
            "a 3\n",
            "of 4\n",
            "to 5\n",
            "is 6\n",
            "br 7\n",
            "in 8\n",
            "it 9\n",
            "i 10\n"
          ],
          "name": "stdout"
        }
      ]
    },
    {
      "cell_type": "markdown",
      "metadata": {
        "id": "GySYueNhZ6pP",
        "colab_type": "text"
      },
      "source": [
        "what text_to_sequence will do is, It will tokenize the sentense into words, and give each word an index, referencing the word_index."
      ]
    },
    {
      "cell_type": "code",
      "metadata": {
        "id": "PnbHn3XRy3-z",
        "colab_type": "code",
        "colab": {}
      },
      "source": [
        "sequences = tokenizer.texts_to_sequences(texts)"
      ],
      "execution_count": 0,
      "outputs": []
    },
    {
      "cell_type": "markdown",
      "metadata": {
        "id": "XGaRg2jWaUC4",
        "colab_type": "text"
      },
      "source": [
        "Lets verify that, Lets see if we have the same number of reviews/records, same number of words in the sentense and same number of index sequence."
      ]
    },
    {
      "cell_type": "code",
      "metadata": {
        "id": "Gnf7xkYRXt3W",
        "colab_type": "code",
        "colab": {
          "base_uri": "https://localhost:8080/",
          "height": 34
        },
        "outputId": "65732155-94fe-4426-ebc1-5ef7f869749d"
      },
      "source": [
        "len(texts),len(texts[0].split()),len(sequences[0]),len(sequences)"
      ],
      "execution_count": 37,
      "outputs": [
        {
          "output_type": "execute_result",
          "data": {
            "text/plain": [
              "(25000, 62, 62, 25000)"
            ]
          },
          "metadata": {
            "tags": []
          },
          "execution_count": 37
        }
      ]
    },
    {
      "cell_type": "markdown",
      "metadata": {
        "id": "l4r2rJ6Wah1R",
        "colab_type": "text"
      },
      "source": [
        "Now we will pad the sequences max up to the 100 words"
      ]
    },
    {
      "cell_type": "code",
      "metadata": {
        "id": "9DY7RthNzKJD",
        "colab_type": "code",
        "outputId": "7a650bb2-6d64-48e0-cedb-702983d36686",
        "colab": {
          "base_uri": "https://localhost:8080/",
          "height": 34
        }
      },
      "source": [
        "word_index = tokenizer.word_index\n",
        "print('found {} unique token'.format(len(word_index)))\n",
        "data = pad_sequences(sequences,maxlen = maxlength)"
      ],
      "execution_count": 38,
      "outputs": [
        {
          "output_type": "stream",
          "text": [
            "found 88582 unique token\n"
          ],
          "name": "stdout"
        }
      ]
    },
    {
      "cell_type": "markdown",
      "metadata": {
        "id": "LHvD5x8rarZN",
        "colab_type": "text"
      },
      "source": [
        "Lets verify that, we should have data with maximum length as 100"
      ]
    },
    {
      "cell_type": "code",
      "metadata": {
        "id": "-DExjAFpTSGS",
        "colab_type": "code",
        "outputId": "12839594-00e6-405f-f16c-1e78ab821b37",
        "colab": {
          "base_uri": "https://localhost:8080/",
          "height": 85
        }
      },
      "source": [
        "print(len(sequences))\n",
        "print(len(sequences[0] ))\n",
        "print(len(data[0] ))\n",
        "print(type(data))"
      ],
      "execution_count": 39,
      "outputs": [
        {
          "output_type": "stream",
          "text": [
            "25000\n",
            "62\n",
            "100\n",
            "<class 'numpy.ndarray'>\n"
          ],
          "name": "stdout"
        }
      ]
    },
    {
      "cell_type": "code",
      "metadata": {
        "id": "nr3odgeTzhaw",
        "colab_type": "code",
        "outputId": "f2cdd992-ecf0-4985-9f2f-391d4f3d9523",
        "colab": {
          "base_uri": "https://localhost:8080/",
          "height": 51
        }
      },
      "source": [
        "import numpy as np\n",
        "labels = np.asarray(labels)\n",
        "print('Data shape:', data.shape)\n",
        "print('Label shape:', labels.shape)"
      ],
      "execution_count": 40,
      "outputs": [
        {
          "output_type": "stream",
          "text": [
            "Data shape: (25000, 100)\n",
            "Label shape: (25000,)\n"
          ],
          "name": "stdout"
        }
      ]
    },
    {
      "cell_type": "markdown",
      "metadata": {
        "id": "w8wd2AZszwEI",
        "colab_type": "text"
      },
      "source": [
        "Now we will shuffle the indices and then pick the train and validation data "
      ]
    },
    {
      "cell_type": "code",
      "metadata": {
        "id": "nISXj1Nbz0pQ",
        "colab_type": "code",
        "colab": {}
      },
      "source": [
        "indices = np.arange(data.shape[0])\n",
        "np.random.shuffle(indices)\n",
        "data = data[indices]\n",
        "labels = labels[indices]\n",
        "\n",
        "x_train = data[:training_samples]\n",
        "y_train = labels[:training_samples]\n",
        "x_val = data[training_samples : training_samples + validation_samples]\n",
        "y_val = labels[training_samples : training_samples + validation_samples]"
      ],
      "execution_count": 0,
      "outputs": []
    },
    {
      "cell_type": "code",
      "metadata": {
        "id": "u7ha5UQhTq1k",
        "colab_type": "code",
        "outputId": "1fbdbc08-738f-45ea-ca7a-c8e458595bbe",
        "colab": {
          "base_uri": "https://localhost:8080/",
          "height": 34
        }
      },
      "source": [
        "x_train.shape, y_train.shape, x_val.shape, y_val.shape"
      ],
      "execution_count": 42,
      "outputs": [
        {
          "output_type": "execute_result",
          "data": {
            "text/plain": [
              "((200, 100), (200,), (10000, 100), (10000,))"
            ]
          },
          "metadata": {
            "tags": []
          },
          "execution_count": 42
        }
      ]
    },
    {
      "cell_type": "markdown",
      "metadata": {
        "id": "nUX1YgfAhUtk",
        "colab_type": "text"
      },
      "source": [
        "Now we will be using the Glove word vectorization to do word embedding. We are using glove.6B.100d.txt text file which is a list of list with below format\n",
        "{ word : 100 dimensional vector represtation }"
      ]
    },
    {
      "cell_type": "code",
      "metadata": {
        "id": "JUPi0EqSTxXF",
        "colab_type": "code",
        "colab": {
          "base_uri": "https://localhost:8080/",
          "height": 34
        },
        "outputId": "8d801549-83bc-436e-d9d9-1ad35ecf149b"
      },
      "source": [
        "glove_dir = '/gdrive/My Drive/colab_datasets/base_dir_imdb/Word_vectorization'\n",
        "embedding_index = {}\n",
        "glove_file = os.path.join(glove_dir,'glove.6B.100d.txt')\n",
        "with open(glove_file) as gfile:\n",
        "  for line in gfile:\n",
        "    values = line.split()\n",
        "    word = values[0]\n",
        "    coefs= np.asarray(values[1:],dtype = 'float32')\n",
        "    embedding_index[word] = coefs\n",
        "print('found {} words in index'.format(len(embedding_index)) )\n",
        "    "
      ],
      "execution_count": 43,
      "outputs": [
        {
          "output_type": "stream",
          "text": [
            "found 400000 words in index\n"
          ],
          "name": "stdout"
        }
      ]
    },
    {
      "cell_type": "markdown",
      "metadata": {
        "id": "JO9u9CZpiOGz",
        "colab_type": "text"
      },
      "source": [
        "Lets look at one example, lets check the word vectorization of 'the'"
      ]
    },
    {
      "cell_type": "code",
      "metadata": {
        "id": "OA1clFl6iHE1",
        "colab_type": "code",
        "colab": {
          "base_uri": "https://localhost:8080/",
          "height": 306
        },
        "outputId": "407a2ee1-2bf5-444a-d4a9-64cd62aa20b8"
      },
      "source": [
        "embedding_index['the']"
      ],
      "execution_count": 44,
      "outputs": [
        {
          "output_type": "execute_result",
          "data": {
            "text/plain": [
              "array([-0.038194, -0.24487 ,  0.72812 , -0.39961 ,  0.083172,  0.043953,\n",
              "       -0.39141 ,  0.3344  , -0.57545 ,  0.087459,  0.28787 , -0.06731 ,\n",
              "        0.30906 , -0.26384 , -0.13231 , -0.20757 ,  0.33395 , -0.33848 ,\n",
              "       -0.31743 , -0.48336 ,  0.1464  , -0.37304 ,  0.34577 ,  0.052041,\n",
              "        0.44946 , -0.46971 ,  0.02628 , -0.54155 , -0.15518 , -0.14107 ,\n",
              "       -0.039722,  0.28277 ,  0.14393 ,  0.23464 , -0.31021 ,  0.086173,\n",
              "        0.20397 ,  0.52624 ,  0.17164 , -0.082378, -0.71787 , -0.41531 ,\n",
              "        0.20335 , -0.12763 ,  0.41367 ,  0.55187 ,  0.57908 , -0.33477 ,\n",
              "       -0.36559 , -0.54857 , -0.062892,  0.26584 ,  0.30205 ,  0.99775 ,\n",
              "       -0.80481 , -3.0243  ,  0.01254 , -0.36942 ,  2.2167  ,  0.72201 ,\n",
              "       -0.24978 ,  0.92136 ,  0.034514,  0.46745 ,  1.1079  , -0.19358 ,\n",
              "       -0.074575,  0.23353 , -0.052062, -0.22044 ,  0.057162, -0.15806 ,\n",
              "       -0.30798 , -0.41625 ,  0.37972 ,  0.15006 , -0.53212 , -0.2055  ,\n",
              "       -1.2526  ,  0.071624,  0.70565 ,  0.49744 , -0.42063 ,  0.26148 ,\n",
              "       -1.538   , -0.30223 , -0.073438, -0.28312 ,  0.37104 , -0.25217 ,\n",
              "        0.016215, -0.017099, -0.38984 ,  0.87424 , -0.72569 , -0.51058 ,\n",
              "       -0.52028 , -0.1459  ,  0.8278  ,  0.27062 ], dtype=float32)"
            ]
          },
          "metadata": {
            "tags": []
          },
          "execution_count": 44
        }
      ]
    },
    {
      "cell_type": "code",
      "metadata": {
        "id": "cPpUWu1aQPDK",
        "colab_type": "code",
        "colab": {
          "base_uri": "https://localhost:8080/",
          "height": 34
        },
        "outputId": "06478f8a-c5bb-4105-db94-a021e12bcc0a"
      },
      "source": [
        "os.getcwd()\n",
        "#os.chdir('/gdrive/My Drive/colab_datasets/base_dir_imdb/aclImdb/saved_models')"
      ],
      "execution_count": 45,
      "outputs": [
        {
          "output_type": "execute_result",
          "data": {
            "text/plain": [
              "'/gdrive/My Drive/colab_datasets/base_dir_imdb/aclImdb/saved_models'"
            ]
          },
          "metadata": {
            "tags": []
          },
          "execution_count": 45
        }
      ]
    },
    {
      "cell_type": "markdown",
      "metadata": {
        "id": "eeV1vdm-iVJW",
        "colab_type": "text"
      },
      "source": [
        "I am serializing the embedding Index for later use"
      ]
    },
    {
      "cell_type": "code",
      "metadata": {
        "id": "RNcp-Ea9RBB1",
        "colab_type": "code",
        "colab": {}
      },
      "source": [
        "import pickle\n",
        "embedding_file = open('embedding_index.pkl','wb')\n",
        "pickle.dump(embedding_index,embedding_file)\n",
        "embedding_file.close()"
      ],
      "execution_count": 0,
      "outputs": []
    },
    {
      "cell_type": "code",
      "metadata": {
        "id": "Do5dvVHoRhAT",
        "colab_type": "code",
        "colab": {
          "base_uri": "https://localhost:8080/",
          "height": 272
        },
        "outputId": "76bc18a8-c0e8-4708-e432-8c9132c2f166"
      },
      "source": [
        "for i,(word,coef) in enumerate(embedding_index.items()):\n",
        "  if i< 1:\n",
        "    print(word,coef, len(coef))"
      ],
      "execution_count": 47,
      "outputs": [
        {
          "output_type": "stream",
          "text": [
            "the [-0.038194 -0.24487   0.72812  -0.39961   0.083172  0.043953 -0.39141\n",
            "  0.3344   -0.57545   0.087459  0.28787  -0.06731   0.30906  -0.26384\n",
            " -0.13231  -0.20757   0.33395  -0.33848  -0.31743  -0.48336   0.1464\n",
            " -0.37304   0.34577   0.052041  0.44946  -0.46971   0.02628  -0.54155\n",
            " -0.15518  -0.14107  -0.039722  0.28277   0.14393   0.23464  -0.31021\n",
            "  0.086173  0.20397   0.52624   0.17164  -0.082378 -0.71787  -0.41531\n",
            "  0.20335  -0.12763   0.41367   0.55187   0.57908  -0.33477  -0.36559\n",
            " -0.54857  -0.062892  0.26584   0.30205   0.99775  -0.80481  -3.0243\n",
            "  0.01254  -0.36942   2.2167    0.72201  -0.24978   0.92136   0.034514\n",
            "  0.46745   1.1079   -0.19358  -0.074575  0.23353  -0.052062 -0.22044\n",
            "  0.057162 -0.15806  -0.30798  -0.41625   0.37972   0.15006  -0.53212\n",
            " -0.2055   -1.2526    0.071624  0.70565   0.49744  -0.42063   0.26148\n",
            " -1.538    -0.30223  -0.073438 -0.28312   0.37104  -0.25217   0.016215\n",
            " -0.017099 -0.38984   0.87424  -0.72569  -0.51058  -0.52028  -0.1459\n",
            "  0.8278    0.27062 ] 100\n"
          ],
          "name": "stdout"
        }
      ]
    },
    {
      "cell_type": "code",
      "metadata": {
        "id": "r_RpehlKS13G",
        "colab_type": "code",
        "colab": {}
      },
      "source": [
        "embedding_dim = 100"
      ],
      "execution_count": 0,
      "outputs": []
    },
    {
      "cell_type": "code",
      "metadata": {
        "id": "nTG3z1gYbglY",
        "colab_type": "code",
        "colab": {
          "base_uri": "https://localhost:8080/",
          "height": 187
        },
        "outputId": "e861c048-13a5-4879-b251-25701f6d98ba"
      },
      "source": [
        "for i,(word,index) in enumerate(word_index.items()):\n",
        "  if i < 10:\n",
        "    print(word,index)"
      ],
      "execution_count": 49,
      "outputs": [
        {
          "output_type": "stream",
          "text": [
            "the 1\n",
            "and 2\n",
            "a 3\n",
            "of 4\n",
            "to 5\n",
            "is 6\n",
            "br 7\n",
            "in 8\n",
            "it 9\n",
            "i 10\n"
          ],
          "name": "stdout"
        }
      ]
    },
    {
      "cell_type": "code",
      "metadata": {
        "id": "fIsgsbQWc_e2",
        "colab_type": "code",
        "colab": {
          "base_uri": "https://localhost:8080/",
          "height": 34
        },
        "outputId": "660e2882-3841-41f8-8955-a1d15e11943a"
      },
      "source": [
        "max_words, embedding_dim"
      ],
      "execution_count": 50,
      "outputs": [
        {
          "output_type": "execute_result",
          "data": {
            "text/plain": [
              "(10000, 100)"
            ]
          },
          "metadata": {
            "tags": []
          },
          "execution_count": 50
        }
      ]
    },
    {
      "cell_type": "markdown",
      "metadata": {
        "id": "0Ou9bm83inh1",
        "colab_type": "text"
      },
      "source": [
        "Now we will be creating Embedding Matrix which should be of the size (10000,100), This will be a sparse matrix. The words which are not there will be empty array of 0s. Below is what we have to achieve\n",
        "\n",
        "We have \n",
        "word_index ={ word : index }\n",
        "embedding index = word : vector\n",
        "We want \n",
        "Embedding_matrix = Index : 100 dimensional Vectors\n",
        "we will take each entry from word_index, check if it is less than equal to 10000, if it is then insert the record in dictionary with index and vector(get it from embedding_index) Finally we will get an arrary with 10000 elements each having lenght 100 and th index of the element will give the index of the word\n"
      ]
    },
    {
      "cell_type": "code",
      "metadata": {
        "id": "P6sepbYIbhQD",
        "colab_type": "code",
        "colab": {}
      },
      "source": [
        "embedding_matrix = np.zeros((max_words, embedding_dim))\n",
        "for word,index in word_index.items():\n",
        "  if index<max_words:\n",
        "    embedding_vector = embedding_index.get(word)\n",
        "    if embedding_vector is not None:\n",
        "      embedding_matrix[index] = embedding_vector\n",
        "  "
      ],
      "execution_count": 0,
      "outputs": []
    },
    {
      "cell_type": "code",
      "metadata": {
        "id": "Wm4w76QBct3W",
        "colab_type": "code",
        "colab": {
          "base_uri": "https://localhost:8080/",
          "height": 34
        },
        "outputId": "ab063b25-9be8-4526-ed52-b152d1c9a53a"
      },
      "source": [
        "embedding_matrix.shape"
      ],
      "execution_count": 52,
      "outputs": [
        {
          "output_type": "execute_result",
          "data": {
            "text/plain": [
              "(10000, 100)"
            ]
          },
          "metadata": {
            "tags": []
          },
          "execution_count": 52
        }
      ]
    },
    {
      "cell_type": "code",
      "metadata": {
        "id": "pHevRQYfdEUh",
        "colab_type": "code",
        "colab": {
          "base_uri": "https://localhost:8080/",
          "height": 272
        },
        "outputId": "c3e55763-5dee-4076-c523-77b543d17f63"
      },
      "source": [
        "from keras.models import Sequential\n",
        "from keras.layers import Embedding, Dense, Flatten\n",
        "\n",
        "model = Sequential()\n",
        "model.add(Embedding(max_words, embedding_dim, input_length=maxlength))\n",
        "model.add(Flatten())\n",
        "model.add(Dense(32,activation='relu'))\n",
        "model.add(Dense(1,activation='sigmoid'))\n",
        "model.summary()"
      ],
      "execution_count": 53,
      "outputs": [
        {
          "output_type": "stream",
          "text": [
            "_________________________________________________________________\n",
            "Layer (type)                 Output Shape              Param #   \n",
            "=================================================================\n",
            "embedding_2 (Embedding)      (None, 100, 100)          1000000   \n",
            "_________________________________________________________________\n",
            "flatten_2 (Flatten)          (None, 10000)             0         \n",
            "_________________________________________________________________\n",
            "dense_2 (Dense)              (None, 32)                320032    \n",
            "_________________________________________________________________\n",
            "dense_3 (Dense)              (None, 1)                 33        \n",
            "=================================================================\n",
            "Total params: 1,320,065\n",
            "Trainable params: 1,320,065\n",
            "Non-trainable params: 0\n",
            "_________________________________________________________________\n"
          ],
          "name": "stdout"
        }
      ]
    },
    {
      "cell_type": "code",
      "metadata": {
        "id": "2yf9hIA2dx_-",
        "colab_type": "code",
        "colab": {
          "base_uri": "https://localhost:8080/",
          "height": 85
        },
        "outputId": "ef3229eb-3343-4915-a3ad-e6684e63e6e2"
      },
      "source": [
        "model.layers"
      ],
      "execution_count": 54,
      "outputs": [
        {
          "output_type": "execute_result",
          "data": {
            "text/plain": [
              "[<keras.layers.embeddings.Embedding at 0x7f8f00aaa908>,\n",
              " <keras.layers.core.Flatten at 0x7f8f00aaab70>,\n",
              " <keras.layers.core.Dense at 0x7f8f00aaa358>,\n",
              " <keras.layers.core.Dense at 0x7f8f00aaaba8>]"
            ]
          },
          "metadata": {
            "tags": []
          },
          "execution_count": 54
        }
      ]
    },
    {
      "cell_type": "markdown",
      "metadata": {
        "id": "CIurxNPWhJfk",
        "colab_type": "text"
      },
      "source": [
        "Loading pretraing word embedding to the embedding layer, Please note, we will make the embedding layer non trainable because we dont want the vectors to be changed."
      ]
    },
    {
      "cell_type": "code",
      "metadata": {
        "id": "kD8u2nc5gO-M",
        "colab_type": "code",
        "colab": {}
      },
      "source": [
        "model.layers[0].set_weights([embedding_matrix])\n",
        "model.layers[0].trainable = False"
      ],
      "execution_count": 0,
      "outputs": []
    },
    {
      "cell_type": "markdown",
      "metadata": {
        "id": "aeneiKnjhe3h",
        "colab_type": "text"
      },
      "source": [
        "We need to freeze the layer0 as well as we dont want the weights to be updated again."
      ]
    },
    {
      "cell_type": "code",
      "metadata": {
        "id": "2TXwDSGfhRc6",
        "colab_type": "code",
        "colab": {}
      },
      "source": [
        "model.compile(optimizer = 'rmsprop',loss = 'binary_crossentropy', metrics = ['acc'])"
      ],
      "execution_count": 0,
      "outputs": []
    },
    {
      "cell_type": "code",
      "metadata": {
        "id": "hM11UhVqhvZS",
        "colab_type": "code",
        "colab": {
          "base_uri": "https://localhost:8080/",
          "height": 394
        },
        "outputId": "fc8a4ebf-53c0-4603-c8c7-b901b01d9304"
      },
      "source": [
        "history = model.fit(x_train,y_train,epochs=10,batch_size = 32, validation_data = (x_val,y_val))"
      ],
      "execution_count": 57,
      "outputs": [
        {
          "output_type": "stream",
          "text": [
            "Train on 200 samples, validate on 10000 samples\n",
            "Epoch 1/10\n",
            "200/200 [==============================] - 1s 3ms/step - loss: 1.8407 - acc: 0.5300 - val_loss: 0.7037 - val_acc: 0.5180\n",
            "Epoch 2/10\n",
            "200/200 [==============================] - 0s 2ms/step - loss: 0.5564 - acc: 0.7200 - val_loss: 0.6882 - val_acc: 0.5575\n",
            "Epoch 3/10\n",
            "200/200 [==============================] - 0s 2ms/step - loss: 0.5174 - acc: 0.7500 - val_loss: 0.6936 - val_acc: 0.5565\n",
            "Epoch 4/10\n",
            "200/200 [==============================] - 0s 2ms/step - loss: 0.2751 - acc: 0.9350 - val_loss: 1.1135 - val_acc: 0.5095\n",
            "Epoch 5/10\n",
            "200/200 [==============================] - 0s 2ms/step - loss: 0.2889 - acc: 0.8850 - val_loss: 0.8033 - val_acc: 0.5377\n",
            "Epoch 6/10\n",
            "200/200 [==============================] - 0s 2ms/step - loss: 0.1713 - acc: 0.9700 - val_loss: 0.8467 - val_acc: 0.5331\n",
            "Epoch 7/10\n",
            "200/200 [==============================] - 0s 2ms/step - loss: 0.3167 - acc: 0.8650 - val_loss: 0.9265 - val_acc: 0.5197\n",
            "Epoch 8/10\n",
            "200/200 [==============================] - 0s 2ms/step - loss: 0.0795 - acc: 1.0000 - val_loss: 0.7242 - val_acc: 0.5676\n",
            "Epoch 9/10\n",
            "200/200 [==============================] - 0s 2ms/step - loss: 0.0417 - acc: 1.0000 - val_loss: 0.8522 - val_acc: 0.5473\n",
            "Epoch 10/10\n",
            "200/200 [==============================] - 0s 2ms/step - loss: 0.0322 - acc: 1.0000 - val_loss: 0.7866 - val_acc: 0.5795\n"
          ],
          "name": "stdout"
        }
      ]
    },
    {
      "cell_type": "code",
      "metadata": {
        "id": "qA18e530h_0Z",
        "colab_type": "code",
        "colab": {
          "base_uri": "https://localhost:8080/",
          "height": 573
        },
        "outputId": "c52ad960-dfa6-4731-ffc3-88bd3a369932"
      },
      "source": [
        "import matplotlib.pyplot as plt\n",
        "acc = history.history['acc']\n",
        "val_acc = history.history['val_acc']\n",
        "loss = history.history['loss']\n",
        "val_loss = history.history['val_loss']\n",
        "epochs = list(range(1,len(acc)+1))\n",
        "plt.plot(epochs,acc,'bo',label='Training accuracy')\n",
        "plt.plot(epochs,val_acc,'b',label='Validation accuracy')\n",
        "plt.xlabel('Epochs')\n",
        "plt.ylabel('Accuracy')\n",
        "plt.title('Training vs Validation Accuracy')\n",
        "plt.legend()\n",
        "\n",
        "plt.figure()\n",
        "\n",
        "plt.plot(epochs,loss,'bo',label='Training loss')\n",
        "plt.plot(epochs,val_loss,'b',label='Validation loss')\n",
        "plt.xlabel('Epochs')\n",
        "plt.ylabel('Loss')\n",
        "plt.title('Training vs Validation Loss')\n",
        "plt.legend()\n",
        "\n",
        "plt.show()"
      ],
      "execution_count": 58,
      "outputs": [
        {
          "output_type": "display_data",
          "data": {
            "image/png": "[encoded data removed]",
            "text/plain": [
              "<Figure size 432x288 with 1 Axes>"
            ]
          },
          "metadata": {
            "tags": []
          }
        },
        {
          "output_type": "display_data",
          "data": {
            "image/png": "[encoded data removed]",
            "text/plain": [
              "<Figure size 432x288 with 1 Axes>"
            ]
          },
          "metadata": {
            "tags": []
          }
        }
      ]
    },
    {
      "cell_type": "markdown",
      "metadata": {
        "id": "ucKEn0z1mpDM",
        "colab_type": "text"
      },
      "source": [
        "# Accuracy Achieved - 57%."
      ]
    },
    {
      "cell_type": "markdown",
      "metadata": {
        "id": "1Tlsl2mJmwaS",
        "colab_type": "text"
      },
      "source": [
        "# Analyzing what we have done so far\n",
        "## Model1 (Using Keras Word embedding and 1 Dense Layer)\n",
        "We used the inbuild imdb data set from Keras, used the indexed data already present and used a Embedding layer on top of it directly. The Embedding layer will train the model and create a 8 dimensional vector for each word. We will finally get a vector space of (10000,20,8) shape\n",
        "### We achived 72 percent accuracy since we are using the keras word embedding which is more context specific. \n",
        "## Model2 (Using GloVe Embedding and 2 Dense Layers)\n",
        "Next we used external word embedding from Glove and used the vectorized representation (100 dimensional) but for only 10000 most frequent words and only first 100 words in each review. We used word_index from tokenizer and embedding_index from GloVe and created Embedding_matrix. Used that in Embedding layer to set weights and made it Non trainable. We used two dense layers this time. \n",
        "### We achived 57% accuracy, naturally so, since we used GloVe embedding to do the word vectorization. This was a downfall.\n",
        "## Model3 - Next Step is RNN - Recurrent Neural Networks\n",
        "Next we should explore the RNN layers.The big difference is, So far we have been converting the whole dataset in one big arrary of input and passing it in one-go to the Model. We have not done any sequential processing so far. \n",
        "With RNN, we will be doing Sequential processing. That mean, we will be passing one input at a time, We will keep track of the previous state (i.e.Output from previous state) and Multiply all of these with their own set of weigths, add bias and then arrive at output for that state. Next we set this output as the state for next timestep and do the same process again. \n",
        "\n",
        "## Whats the difference ? \n",
        "\n",
        "In the word embedding(Keras and GloVe) technique we had not given any importance to the sequence of the data.These are called Feedforward networks. We just looked at the presense of words in the reviews and predicted the sentiment if those similar words are present in the validation reviews.\n",
        "In RNN, We will be taking into account the sequence of those words in the review statement. For sequential models, RNN works better than Feedforward networks. Like, if there are two reviews\n",
        "### \"The movie was good\" - Training Dataset\n",
        "### \"Was the movie good ?\" - Validation Dataset\n",
        "For the word embedding models there is no difference in these two statements as it will check the presence of same 4 words in two sequences. So if the first review is from training and the second from Validation, if all likelihood the embedding model will predict the validation example as \"pos\". \n",
        "However in RNN, it will give sequence of words importance, will check other examples where we found the same sequence and predict the category as per that. Looks like in the second review the user had serious doubts of movie being good, so he has a negative mindset about the movie, Hence that may get classified as \"neg\"."
      ]
    },
    {
      "cell_type": "code",
      "metadata": {
        "id": "V6JLpDBtkO0u",
        "colab_type": "code",
        "colab": {
          "base_uri": "https://localhost:8080/",
          "height": 34
        },
        "outputId": "c100b236-bc48-4f20-c144-073c4d889504"
      },
      "source": [
        "os.getcwd()"
      ],
      "execution_count": 59,
      "outputs": [
        {
          "output_type": "execute_result",
          "data": {
            "text/plain": [
              "'/gdrive/My Drive/colab_datasets/base_dir_imdb/aclImdb/saved_models'"
            ]
          },
          "metadata": {
            "tags": []
          },
          "execution_count": 59
        }
      ]
    },
    {
      "cell_type": "code",
      "metadata": {
        "id": "Bish27pOkdx7",
        "colab_type": "code",
        "colab": {}
      },
      "source": [
        "model.save_weights('pre_trained_glove_model.h5')"
      ],
      "execution_count": 0,
      "outputs": []
    },
    {
      "cell_type": "markdown",
      "metadata": {
        "id": "crrQNnofMXU8",
        "colab_type": "text"
      },
      "source": [
        "\n"
      ]
    },
    {
      "cell_type": "markdown",
      "metadata": {
        "id": "KYNInpyMr8fi",
        "colab_type": "text"
      },
      "source": [
        "Below is a simple implementation of the "
      ]
    },
    {
      "cell_type": "code",
      "metadata": {
        "id": "qNHCcsCpMlVu",
        "colab_type": "code",
        "colab": {
          "base_uri": "https://localhost:8080/",
          "height": 136
        },
        "outputId": "be07310d-3b24-40d9-b71c-6695ac959e53"
      },
      "source": [
        "import numpy as np\n",
        "timesteps = 100 \n",
        "input_features = 32\n",
        "output_features = 64\n",
        "inputs = np.random.random((timesteps, input_features))\n",
        "print('inputs.shape :',inputs.shape)\n",
        "state_t = np.zeros((output_features,))\n",
        "print('state_t.shape',state_t.shape)\n",
        "W = np.random.random((output_features, input_features))\n",
        "print('W.shape ',W.shape )\n",
        "U = np.random.random((output_features, output_features))\n",
        "print('U.shape',U.shape)\n",
        "b = np.random.random((output_features,))\n",
        "print('W.shape,inputs[0].shape',W.shape,inputs[0].shape)\n",
        "print('U.shape, state_t.shape',U.shape, state_t.shape)\n",
        "successive_outputs = []\n",
        "for input in inputs:\n",
        "  output_t = np.tanh(np.dot(W,input) + np.dot(U,state_t) + b)\n",
        "  successive_outputs.append(output_t)\n",
        "  state_t = output_t\n",
        "final_output_sequence = np.concatenate(successive_outputs,axis=0)\n",
        "print('final_output_sequence.shape,len(successive_outputs)',final_output_sequence.shape,len(successive_outputs))"
      ],
      "execution_count": 61,
      "outputs": [
        {
          "output_type": "stream",
          "text": [
            "inputs.shape : (100, 32)\n",
            "state_t.shape (64,)\n",
            "W.shape  (64, 32)\n",
            "U.shape (64, 64)\n",
            "W.shape,inputs[0].shape (64, 32) (32,)\n",
            "U.shape, state_t.shape (64, 64) (64,)\n",
            "final_output_sequence.shape,len(successive_outputs) (6400,) 100\n"
          ],
          "name": "stdout"
        }
      ]
    },
    {
      "cell_type": "markdown",
      "metadata": {
        "id": "4wJ6hzhgjCe2",
        "colab_type": "text"
      },
      "source": [
        "# Model 3 : Using Embedding and Recurrent Layer and a Dense Layer"
      ]
    },
    {
      "cell_type": "markdown",
      "metadata": {
        "id": "iLZA6PHLjuW5",
        "colab_type": "text"
      },
      "source": [
        "## Preparing the IMDB Data"
      ]
    },
    {
      "cell_type": "code",
      "metadata": {
        "id": "MZ3YfiPpjBqC",
        "colab_type": "code",
        "colab": {
          "base_uri": "https://localhost:8080/",
          "height": 85
        },
        "outputId": "f569fec0-9a1b-4596-9d79-3e685f044bc2"
      },
      "source": [
        "from keras.datasets import imdb\n",
        "from keras.preprocessing import sequence\n",
        "\n",
        "max_features = 10000\n",
        "maxlen = 500\n",
        "bat_size = 32\n",
        "\n",
        "(input_train,y_train), (input_test,y_test) = imdb.load_data(num_words = max_features)\n",
        "\n",
        "print('input_train shape',input_train.shape)\n",
        "print('input_test shape',input_test.shape)\n",
        "\n",
        "input_train = sequence.pad_sequences(input_train,maxlen=maxlen)\n",
        "input_test  = sequence.pad_sequences(input_test,maxlen=maxlen)\n",
        "\n",
        "print('input_train shape',input_train.shape)\n",
        "print('input_test shape',input_test.shape)"
      ],
      "execution_count": 67,
      "outputs": [
        {
          "output_type": "stream",
          "text": [
            "input_train shape (25000,)\n",
            "input_test shape (25000,)\n",
            "input_train shape (25000, 500)\n",
            "input_test shape (25000, 500)\n"
          ],
          "name": "stdout"
        }
      ]
    },
    {
      "cell_type": "code",
      "metadata": {
        "id": "zfX2RkHcB3Xs",
        "colab_type": "code",
        "colab": {
          "base_uri": "https://localhost:8080/",
          "height": 394
        },
        "outputId": "e82dfaec-82ee-42b0-e460-2a18b7273931"
      },
      "source": [
        "from keras.models import Sequential\n",
        "from keras.layers import Dense, SimpleRNN\n",
        "\n",
        "model = Sequential()\n",
        "model.add(Embedding(max_features,32))\n",
        "model.add(SimpleRNN(32))\n",
        "model.add(Dense(1,activation='sigmoid'))\n",
        "\n",
        "model.compile(optimizer = 'rmsprop',loss = 'binary_crossentropy',metrics = ['acc'])\n",
        "\n",
        "history = model.fit(input_train,y_train,epochs = 10,batch_size=128,validation_split = 0.2)\n"
      ],
      "execution_count": 72,
      "outputs": [
        {
          "output_type": "stream",
          "text": [
            "Train on 20000 samples, validate on 5000 samples\n",
            "Epoch 1/10\n",
            "20000/20000 [==============================] - 25s 1ms/step - loss: 0.6397 - acc: 0.6178 - val_loss: 0.5564 - val_acc: 0.7306\n",
            "Epoch 2/10\n",
            "20000/20000 [==============================] - 24s 1ms/step - loss: 0.4012 - acc: 0.8311 - val_loss: 0.4313 - val_acc: 0.8034\n",
            "Epoch 3/10\n",
            "20000/20000 [==============================] - 24s 1ms/step - loss: 0.2993 - acc: 0.8810 - val_loss: 0.3644 - val_acc: 0.8466\n",
            "Epoch 4/10\n",
            "20000/20000 [==============================] - 25s 1ms/step - loss: 0.2190 - acc: 0.9159 - val_loss: 0.3865 - val_acc: 0.8528\n",
            "Epoch 5/10\n",
            "20000/20000 [==============================] - 25s 1ms/step - loss: 0.1587 - acc: 0.9415 - val_loss: 0.3950 - val_acc: 0.8502\n",
            "Epoch 6/10\n",
            "20000/20000 [==============================] - 24s 1ms/step - loss: 0.1085 - acc: 0.9632 - val_loss: 0.4166 - val_acc: 0.8530\n",
            "Epoch 7/10\n",
            "20000/20000 [==============================] - 25s 1ms/step - loss: 0.0648 - acc: 0.9796 - val_loss: 0.4632 - val_acc: 0.8474\n",
            "Epoch 8/10\n",
            "20000/20000 [==============================] - 24s 1ms/step - loss: 0.0471 - acc: 0.9866 - val_loss: 0.5447 - val_acc: 0.8268\n",
            "Epoch 9/10\n",
            "20000/20000 [==============================] - 24s 1ms/step - loss: 0.0268 - acc: 0.9924 - val_loss: 0.6675 - val_acc: 0.8046\n",
            "Epoch 10/10\n",
            "20000/20000 [==============================] - 24s 1ms/step - loss: 0.0212 - acc: 0.9937 - val_loss: 0.6479 - val_acc: 0.8276\n"
          ],
          "name": "stdout"
        }
      ]
    },
    {
      "cell_type": "code",
      "metadata": {
        "id": "Akj7e2fKDDc6",
        "colab_type": "code",
        "colab": {
          "base_uri": "https://localhost:8080/",
          "height": 573
        },
        "outputId": "8338c9f2-e9de-432b-9d3c-078183a08eef"
      },
      "source": [
        "import matplotlib.pyplot as plt\n",
        "acc = history.history['acc']\n",
        "val_acc = history.history['val_acc']\n",
        "loss = history.history['loss']\n",
        "val_loss = history.history['val_loss']\n",
        "epochs = list(range(1,len(acc)+1))\n",
        "plt.plot(epochs,acc,'bo',label='Training accuracy')\n",
        "plt.plot(epochs,val_acc,'b',label='Validation accuracy')\n",
        "plt.xlabel('Epochs')\n",
        "plt.ylabel('Accuracy')\n",
        "plt.title('Training vs Validation Accuracy')\n",
        "plt.legend()\n",
        "\n",
        "plt.figure()\n",
        "\n",
        "plt.plot(epochs,loss,'bo',label='Training loss')\n",
        "plt.plot(epochs,val_loss,'b',label='Validation loss')\n",
        "plt.xlabel('Epochs')\n",
        "plt.ylabel('Loss')\n",
        "plt.title('Training vs Validation Loss')\n",
        "plt.legend()\n",
        "\n",
        "plt.show()"
      ],
      "execution_count": 73,
      "outputs": [
        {
          "output_type": "display_data",
          "data": {
            "image/png": "[encoded data removed]",
            "text/plain": [
              "<Figure size 432x288 with 1 Axes>"
            ]
          },
          "metadata": {
            "tags": []
          }
        },
        {
          "output_type": "display_data",
          "data": {
            "image/png": "[encoded data removed]",
            "text/plain": [
              "<Figure size 432x288 with 1 Axes>"
            ]
          },
          "metadata": {
            "tags": []
          }
        }
      ]
    },
    {
      "cell_type": "markdown",
      "metadata": {
        "id": "fRJiBerVOOCE",
        "colab_type": "text"
      },
      "source": [
        "# Accuracy Achived is 85% "
      ]
    },
    {
      "cell_type": "markdown",
      "metadata": {
        "id": "6GVsjCAzHzM-",
        "colab_type": "text"
      },
      "source": [
        "## What we achived and Whats next\n",
        "We used the SimpleRNN model and achived 85% accuracy. To achive a higher validation accuracy, we will now use a more advanced models like LSTM.\n",
        "The disadvantage with SimpleRNN is that, it doesn't factor in previous multiple timesteps. This is due to the effect known as Vanishing gradients. As the feedforward networks become deeper and deeper, we the problem of vanishing gradient, where the gradient becomes so small that the model becomes practically untrainable.\n",
        "So as a solution we will be using LSTM, Long Short Term memory. It enables you to carry the information across multiple timesteps and hence you can better understand the Sequential data. If has Memory and Forget gate and slectively forgets some information and remembers other."
      ]
    },
    {
      "cell_type": "markdown",
      "metadata": {
        "id": "jZMGcVKzKBus",
        "colab_type": "text"
      },
      "source": [
        "# Model 4 : Using a embedding layer, LSTM layer and a Dense Layer"
      ]
    },
    {
      "cell_type": "code",
      "metadata": {
        "id": "bi0kK_iBG49S",
        "colab_type": "code",
        "colab": {
          "base_uri": "https://localhost:8080/",
          "height": 156
        },
        "outputId": "e20a0dd1-936a-4c6f-f953-ec9867267823"
      },
      "source": [
        "from keras.layers import LSTM, Embedding, Dense\n",
        "from keras.models import Sequential\n",
        "\n",
        "model = Sequential()\n",
        "model.add(Embedding(max_features,32))\n",
        "model.add(LSTM(32))\n",
        "model.add(Dense(1,activation='sigmoid'))\n",
        "\n",
        "model.compile(optimizer = 'rmsprop',loss='binary_crossentropy',metrics=['acc'])\n",
        "\n",
        "model.fit(input_train,y_train,epochs=10,batch_size=128,validation_split= 0.2)\n",
        "\n",
        "\n"
      ],
      "execution_count": 0,
      "outputs": [
        {
          "output_type": "stream",
          "text": [
            "Train on 20000 samples, validate on 5000 samples\n",
            "Epoch 1/10\n",
            "20000/20000 [==============================] - 101s 5ms/step - loss: 0.5400 - acc: 0.7462 - val_loss: 0.3675 - val_acc: 0.8532\n",
            "Epoch 2/10\n",
            "20000/20000 [==============================] - 101s 5ms/step - loss: 0.3045 - acc: 0.8827 - val_loss: 0.3313 - val_acc: 0.8756\n",
            "Epoch 3/10\n",
            "12032/20000 [=================>............] - ETA: 38s - loss: 0.2463 - acc: 0.9095"
          ],
          "name": "stdout"
        }
      ]
    },
    {
      "cell_type": "code",
      "metadata": {
        "id": "8LOuuTcALFZp",
        "colab_type": "code",
        "colab": {}
      },
      "source": [
        ""
      ],
      "execution_count": 0,
      "outputs": []
    }
  ]
}