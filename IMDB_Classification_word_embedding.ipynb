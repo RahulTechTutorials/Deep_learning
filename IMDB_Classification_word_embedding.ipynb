{
  "nbformat": 4,
  "nbformat_minor": 0,
  "metadata": {
    "colab": {
      "name": "IMDB_Classification_word_embedding.ipynb",
      "version": "0.3.2",
      "provenance": [],
      "collapsed_sections": [],
      "toc_visible": true,
      "include_colab_link": true
    },
    "kernelspec": {
      "name": "python3",
      "display_name": "Python 3"
    },
    "accelerator": "GPU"
  },
  "cells": [
    {
      "cell_type": "markdown",
      "metadata": {
        "id": "view-in-github",
        "colab_type": "text"
      },
      "source": [
        "<a href=\"https://colab.research.google.com/github/RahulTechTutorials/Deep_learning/blob/master/IMDB_Classification_word_embedding.ipynb\" target=\"_parent\"><img src=\"https://colab.research.google.com/assets/colab-badge.svg\" alt=\"Open In Colab\"/></a>"
      ]
    },
    {
      "cell_type": "code",
      "metadata": {
        "id": "Ti9xZhMPZWLl",
        "colab_type": "code",
        "colab": {
          "base_uri": "https://localhost:8080/",
          "height": 34
        },
        "outputId": "3893e31b-db3a-408e-db49-489e259aa75d"
      },
      "source": [
        "from keras.datasets import imdb\n",
        "from keras import preprocessing\n",
        "\n",
        "max_features = 1000\n",
        "maxlen = 20\n",
        "\n",
        "\n",
        "\n"
      ],
      "execution_count": 1,
      "outputs": [
        {
          "output_type": "stream",
          "text": [
            "Using TensorFlow backend.\n"
          ],
          "name": "stderr"
        }
      ]
    },
    {
      "cell_type": "code",
      "metadata": {
        "id": "KucNDJUIaK8k",
        "colab_type": "code",
        "colab": {}
      },
      "source": [
        "#!pip install numpy==1.16.1"
      ],
      "execution_count": 0,
      "outputs": []
    },
    {
      "cell_type": "code",
      "metadata": {
        "id": "wVpjX58taNnF",
        "colab_type": "code",
        "colab": {
          "base_uri": "https://localhost:8080/",
          "height": 51
        },
        "outputId": "691ff2d5-8d49-4a7d-bdef-5aa732a261a8"
      },
      "source": [
        "(x_train, y_train), (x_test,y_test) = imdb.load_data(num_words = max_features)"
      ],
      "execution_count": 3,
      "outputs": [
        {
          "output_type": "stream",
          "text": [
            "Downloading data from https://s3.amazonaws.com/text-datasets/imdb.npz\n",
            "17465344/17464789 [==============================] - 1s 0us/step\n"
          ],
          "name": "stdout"
        }
      ]
    },
    {
      "cell_type": "code",
      "metadata": {
        "id": "u3g7zl8vZ8I5",
        "colab_type": "code",
        "colab": {
          "base_uri": "https://localhost:8080/",
          "height": 34
        },
        "outputId": "66b785b8-1ac7-4361-ed31-8b31e5012f92"
      },
      "source": [
        "x_train.shape, x_test.shape"
      ],
      "execution_count": 4,
      "outputs": [
        {
          "output_type": "execute_result",
          "data": {
            "text/plain": [
              "((25000,), (25000,))"
            ]
          },
          "metadata": {
            "tags": []
          },
          "execution_count": 4
        }
      ]
    },
    {
      "cell_type": "code",
      "metadata": {
        "id": "GM50S5axZ7mg",
        "colab_type": "code",
        "colab": {
          "base_uri": "https://localhost:8080/",
          "height": 204
        },
        "outputId": "85a74367-6694-400f-bd6b-9830e1017d62"
      },
      "source": [
        "for i,seq in enumerate(x_train):\n",
        "  if i > 10:\n",
        "    break\n",
        "  else:\n",
        "    print(i,':', len(seq))"
      ],
      "execution_count": 5,
      "outputs": [
        {
          "output_type": "stream",
          "text": [
            "0 : 218\n",
            "1 : 189\n",
            "2 : 141\n",
            "3 : 550\n",
            "4 : 147\n",
            "5 : 43\n",
            "6 : 123\n",
            "7 : 562\n",
            "8 : 233\n",
            "9 : 130\n",
            "10 : 450\n"
          ],
          "name": "stdout"
        }
      ]
    },
    {
      "cell_type": "code",
      "metadata": {
        "id": "u7wAIfRba9p5",
        "colab_type": "code",
        "colab": {
          "base_uri": "https://localhost:8080/",
          "height": 204
        },
        "outputId": "e96f8cef-4ac8-4699-c92b-c754ea3d6b0a"
      },
      "source": [
        "for i,seq in enumerate(x_test):\n",
        "  if i > 10:\n",
        "    break\n",
        "  else:\n",
        "    print(i,':', len(seq))"
      ],
      "execution_count": 6,
      "outputs": [
        {
          "output_type": "stream",
          "text": [
            "0 : 68\n",
            "1 : 260\n",
            "2 : 603\n",
            "3 : 181\n",
            "4 : 108\n",
            "5 : 132\n",
            "6 : 761\n",
            "7 : 180\n",
            "8 : 134\n",
            "9 : 370\n",
            "10 : 209\n"
          ],
          "name": "stdout"
        }
      ]
    },
    {
      "cell_type": "code",
      "metadata": {
        "id": "JYbl8XoIa778",
        "colab_type": "code",
        "colab": {}
      },
      "source": [
        "x_train = preprocessing.sequence.pad_sequences(x_train,maxlen=maxlen)\n",
        "x_test = preprocessing.sequence.pad_sequences(x_test,maxlen=maxlen)"
      ],
      "execution_count": 0,
      "outputs": []
    },
    {
      "cell_type": "code",
      "metadata": {
        "id": "hSlVRxdmbCfD",
        "colab_type": "code",
        "colab": {
          "base_uri": "https://localhost:8080/",
          "height": 204
        },
        "outputId": "e86125db-825e-4874-b85e-de2cda10fdf2"
      },
      "source": [
        "for i,seq in enumerate(x_train):\n",
        "  if i > 10:\n",
        "    break\n",
        "  else:\n",
        "    print(i,':', len(seq))"
      ],
      "execution_count": 8,
      "outputs": [
        {
          "output_type": "stream",
          "text": [
            "0 : 20\n",
            "1 : 20\n",
            "2 : 20\n",
            "3 : 20\n",
            "4 : 20\n",
            "5 : 20\n",
            "6 : 20\n",
            "7 : 20\n",
            "8 : 20\n",
            "9 : 20\n",
            "10 : 20\n"
          ],
          "name": "stdout"
        }
      ]
    },
    {
      "cell_type": "code",
      "metadata": {
        "id": "NsiPqmpybCiC",
        "colab_type": "code",
        "colab": {
          "base_uri": "https://localhost:8080/",
          "height": 204
        },
        "outputId": "5d60244a-5d38-49f5-e856-5922836c9cbf"
      },
      "source": [
        "for i,seq in enumerate(x_test):\n",
        "  if i > 10:\n",
        "    break\n",
        "  else:\n",
        "    print(i,':', len(seq))"
      ],
      "execution_count": 9,
      "outputs": [
        {
          "output_type": "stream",
          "text": [
            "0 : 20\n",
            "1 : 20\n",
            "2 : 20\n",
            "3 : 20\n",
            "4 : 20\n",
            "5 : 20\n",
            "6 : 20\n",
            "7 : 20\n",
            "8 : 20\n",
            "9 : 20\n",
            "10 : 20\n"
          ],
          "name": "stdout"
        }
      ]
    },
    {
      "cell_type": "code",
      "metadata": {
        "id": "ZB1U9qGQjp-0",
        "colab_type": "code",
        "colab": {
          "base_uri": "https://localhost:8080/",
          "height": 34
        },
        "outputId": "beb05b70-9285-440c-f36f-58174b50c1cf"
      },
      "source": [
        "x_train.shape, x_test.shape"
      ],
      "execution_count": 10,
      "outputs": [
        {
          "output_type": "execute_result",
          "data": {
            "text/plain": [
              "((25000, 20), (25000, 20))"
            ]
          },
          "metadata": {
            "tags": []
          },
          "execution_count": 10
        }
      ]
    },
    {
      "cell_type": "code",
      "metadata": {
        "id": "HlFdbyhFbKn9",
        "colab_type": "code",
        "colab": {
          "base_uri": "https://localhost:8080/",
          "height": 51
        },
        "outputId": "1b9c9499-c5ac-4739-b19c-ca8f0cffa42b"
      },
      "source": [
        "\n",
        "word_index = imdb.get_word_index()\n",
        "reverse_word_index = dict([(value,key) for (key,value) in word_index.items()])\n",
        "decoded_review = ' '.join([reverse_word_index.get(i-3,'?') for i in x_train[0]])\n",
        "  "
      ],
      "execution_count": 11,
      "outputs": [
        {
          "output_type": "stream",
          "text": [
            "Downloading data from https://s3.amazonaws.com/text-datasets/imdb_word_index.json\n",
            "1646592/1641221 [==============================] - 0s 0us/step\n"
          ],
          "name": "stdout"
        }
      ]
    },
    {
      "cell_type": "code",
      "metadata": {
        "id": "iuP2A25hblVK",
        "colab_type": "code",
        "colab": {
          "base_uri": "https://localhost:8080/",
          "height": 34
        },
        "outputId": "1b1493b6-5f23-4cd6-f9e8-5abca5fdfdd9"
      },
      "source": [
        "decoded_review"
      ],
      "execution_count": 12,
      "outputs": [
        {
          "output_type": "execute_result",
          "data": {
            "text/plain": [
              "'story was so ? because it was true and was ? life after all that was ? with us all'"
            ]
          },
          "metadata": {
            "tags": []
          },
          "execution_count": 12
        }
      ]
    },
    {
      "cell_type": "code",
      "metadata": {
        "id": "mOCUL5EdbqpV",
        "colab_type": "code",
        "colab": {}
      },
      "source": [
        "decoded_review = ' '.join([reverse_word_index.get(i-3,'?') for i in x_train[1]])"
      ],
      "execution_count": 0,
      "outputs": []
    },
    {
      "cell_type": "markdown",
      "metadata": {
        "id": "hHDZBoPyZa0a",
        "colab_type": "text"
      },
      "source": [
        ""
      ]
    },
    {
      "cell_type": "code",
      "metadata": {
        "id": "cZDZKNY-bsgE",
        "colab_type": "code",
        "colab": {
          "base_uri": "https://localhost:8080/",
          "height": 34
        },
        "outputId": "576681cd-6ed1-4871-bdb9-095aa2a1226f"
      },
      "source": [
        "decoded_review"
      ],
      "execution_count": 14,
      "outputs": [
        {
          "output_type": "execute_result",
          "data": {
            "text/plain": [
              "'on the ? that was the ? and have a good old laugh at how bad everything was back then'"
            ]
          },
          "metadata": {
            "tags": []
          },
          "execution_count": 14
        }
      ]
    },
    {
      "cell_type": "code",
      "metadata": {
        "id": "FggaVQ9rbszc",
        "colab_type": "code",
        "colab": {
          "base_uri": "https://localhost:8080/",
          "height": 275
        },
        "outputId": "1b5f1d83-105c-4205-c7d7-8da9cf324547"
      },
      "source": [
        "from keras.models import Sequential\n",
        "from keras.layers import Flatten, Dense, Embedding\n",
        "\n",
        "model = Sequential()\n",
        "model.add(Embedding(10000, 8, input_length=maxlen))\n",
        "model.add(Flatten())\n",
        "model.add(Dense(1,activation='sigmoid'))\n",
        "\n",
        "model.compile(optimizer = 'rmsprop', loss = 'binary_crossentropy', metrics = ['acc'])\n"
      ],
      "execution_count": 15,
      "outputs": [
        {
          "output_type": "stream",
          "text": [
            "WARNING: Logging before flag parsing goes to stderr.\n",
            "W0625 03:15:47.776561 140603048417152 deprecation_wrapper.py:119] From /usr/local/lib/python3.6/dist-packages/keras/backend/tensorflow_backend.py:74: The name tf.get_default_graph is deprecated. Please use tf.compat.v1.get_default_graph instead.\n",
            "\n",
            "W0625 03:15:47.974793 140603048417152 deprecation_wrapper.py:119] From /usr/local/lib/python3.6/dist-packages/keras/backend/tensorflow_backend.py:517: The name tf.placeholder is deprecated. Please use tf.compat.v1.placeholder instead.\n",
            "\n",
            "W0625 03:15:47.985264 140603048417152 deprecation_wrapper.py:119] From /usr/local/lib/python3.6/dist-packages/keras/backend/tensorflow_backend.py:4138: The name tf.random_uniform is deprecated. Please use tf.random.uniform instead.\n",
            "\n",
            "W0625 03:15:48.021312 140603048417152 deprecation_wrapper.py:119] From /usr/local/lib/python3.6/dist-packages/keras/optimizers.py:790: The name tf.train.Optimizer is deprecated. Please use tf.compat.v1.train.Optimizer instead.\n",
            "\n",
            "W0625 03:15:48.038933 140603048417152 deprecation_wrapper.py:119] From /usr/local/lib/python3.6/dist-packages/keras/backend/tensorflow_backend.py:3376: The name tf.log is deprecated. Please use tf.math.log instead.\n",
            "\n",
            "W0625 03:15:48.045352 140603048417152 deprecation.py:323] From /usr/local/lib/python3.6/dist-packages/tensorflow/python/ops/nn_impl.py:180: add_dispatch_support.<locals>.wrapper (from tensorflow.python.ops.array_ops) is deprecated and will be removed in a future version.\n",
            "Instructions for updating:\n",
            "Use tf.where in 2.0, which has the same broadcast rule as np.where\n"
          ],
          "name": "stderr"
        }
      ]
    },
    {
      "cell_type": "code",
      "metadata": {
        "id": "x4NNq_uUdxKZ",
        "colab_type": "code",
        "colab": {
          "base_uri": "https://localhost:8080/",
          "height": 238
        },
        "outputId": "59820877-9cf2-4397-d256-4a09cfd6d493"
      },
      "source": [
        "model.summary()"
      ],
      "execution_count": 16,
      "outputs": [
        {
          "output_type": "stream",
          "text": [
            "_________________________________________________________________\n",
            "Layer (type)                 Output Shape              Param #   \n",
            "=================================================================\n",
            "embedding_1 (Embedding)      (None, 20, 8)             80000     \n",
            "_________________________________________________________________\n",
            "flatten_1 (Flatten)          (None, 160)               0         \n",
            "_________________________________________________________________\n",
            "dense_1 (Dense)              (None, 1)                 161       \n",
            "=================================================================\n",
            "Total params: 80,161\n",
            "Trainable params: 80,161\n",
            "Non-trainable params: 0\n",
            "_________________________________________________________________\n"
          ],
          "name": "stdout"
        }
      ]
    },
    {
      "cell_type": "code",
      "metadata": {
        "id": "h8fuiCQDeFLm",
        "colab_type": "code",
        "colab": {
          "base_uri": "https://localhost:8080/",
          "height": 428
        },
        "outputId": "708e5b46-35f7-4919-f592-9bb0e1f55fbf"
      },
      "source": [
        "history = model.fit(x_train,y_train, epochs = 10, batch_size = 32, validation_split = 0.2)"
      ],
      "execution_count": 17,
      "outputs": [
        {
          "output_type": "stream",
          "text": [
            "W0625 03:15:53.106056 140603048417152 deprecation_wrapper.py:119] From /usr/local/lib/python3.6/dist-packages/keras/backend/tensorflow_backend.py:986: The name tf.assign_add is deprecated. Please use tf.compat.v1.assign_add instead.\n",
            "\n"
          ],
          "name": "stderr"
        },
        {
          "output_type": "stream",
          "text": [
            "Train on 20000 samples, validate on 5000 samples\n",
            "Epoch 1/10\n",
            "20000/20000 [==============================] - 6s 285us/step - loss: 0.6772 - acc: 0.6006 - val_loss: 0.6448 - val_acc: 0.6704\n",
            "Epoch 2/10\n",
            "20000/20000 [==============================] - 2s 88us/step - loss: 0.5830 - acc: 0.7188 - val_loss: 0.5629 - val_acc: 0.7046\n",
            "Epoch 3/10\n",
            "20000/20000 [==============================] - 2s 87us/step - loss: 0.5152 - acc: 0.7464 - val_loss: 0.5362 - val_acc: 0.7208\n",
            "Epoch 4/10\n",
            "20000/20000 [==============================] - 2s 88us/step - loss: 0.4879 - acc: 0.7607 - val_loss: 0.5299 - val_acc: 0.7292\n",
            "Epoch 5/10\n",
            "20000/20000 [==============================] - 2s 89us/step - loss: 0.4731 - acc: 0.7694 - val_loss: 0.5290 - val_acc: 0.7334\n",
            "Epoch 6/10\n",
            "20000/20000 [==============================] - 2s 89us/step - loss: 0.4633 - acc: 0.7773 - val_loss: 0.5317 - val_acc: 0.7344\n",
            "Epoch 7/10\n",
            "20000/20000 [==============================] - 2s 87us/step - loss: 0.4548 - acc: 0.7819 - val_loss: 0.5333 - val_acc: 0.7318\n",
            "Epoch 8/10\n",
            "20000/20000 [==============================] - 2s 89us/step - loss: 0.4471 - acc: 0.7870 - val_loss: 0.5377 - val_acc: 0.7288\n",
            "Epoch 9/10\n",
            "20000/20000 [==============================] - 2s 89us/step - loss: 0.4399 - acc: 0.7924 - val_loss: 0.5422 - val_acc: 0.7278\n",
            "Epoch 10/10\n",
            "20000/20000 [==============================] - 2s 88us/step - loss: 0.4328 - acc: 0.7957 - val_loss: 0.5458 - val_acc: 0.7290\n"
          ],
          "name": "stdout"
        }
      ]
    },
    {
      "cell_type": "markdown",
      "metadata": {
        "id": "PrIxz2JWel21",
        "colab_type": "text"
      },
      "source": [
        ""
      ]
    },
    {
      "cell_type": "code",
      "metadata": {
        "id": "VJZ-7L-oecvr",
        "colab_type": "code",
        "colab": {
          "base_uri": "https://localhost:8080/",
          "height": 573
        },
        "outputId": "b63ad3f1-6fb0-4d4f-f78b-ed21f0d222a6"
      },
      "source": [
        "import matplotlib.pyplot as plt\n",
        "acc = history.history['acc']\n",
        "val_acc = history.history['val_acc']\n",
        "loss = history.history['loss']\n",
        "val_loss = history.history['val_loss']\n",
        "epochs = list(range(1,len(acc)+1))\n",
        "plt.plot(epochs,acc,'bo',label='Training accuracy')\n",
        "plt.plot(epochs,val_acc,'b',label='Validation accuracy')\n",
        "plt.xlabel('Epochs')\n",
        "plt.ylabel('Accuracy')\n",
        "plt.title('Training vs Validation Accuracy')\n",
        "plt.legend()\n",
        "\n",
        "plt.figure()\n",
        "\n",
        "plt.plot(epochs,loss,'bo',label='Training loss')\n",
        "plt.plot(epochs,val_loss,'b',label='Validation loss')\n",
        "plt.xlabel('Epochs')\n",
        "plt.ylabel('Loss')\n",
        "plt.title('Training vs Validation Loss')\n",
        "plt.legend()\n",
        "\n",
        "plt.show()"
      ],
      "execution_count": 18,
      "outputs": [
        {
          "output_type": "display_data",
          "data": {
            "image/png": "[encoded data removed]",
            "text/plain": [
              "<Figure size 432x288 with 1 Axes>"
            ]
          },
          "metadata": {
            "tags": []
          }
        },
        {
          "output_type": "display_data",
          "data": {
            "image/png": "[encoded data removed]",
            "text/plain": [
              "<Figure size 432x288 with 1 Axes>"
            ]
          },
          "metadata": {
            "tags": []
          }
        }
      ]
    },
    {
      "cell_type": "markdown",
      "metadata": {
        "id": "o0E33fjMfHsK",
        "colab_type": "text"
      },
      "source": [
        "# **Accuracy Achieved - 72%**\n",
        "## **(with Embedding and one Dense layer )**"
      ]
    },
    {
      "cell_type": "markdown",
      "metadata": {
        "id": "ZTInNLsxfVgc",
        "colab_type": "text"
      },
      "source": [
        "We have achived 72% with just one embedding and dense layer which is not bad, however we should make use of RNN here so as to understand the embedding more thoroughly"
      ]
    },
    {
      "cell_type": "markdown",
      "metadata": {
        "id": "ShJawdhonGIr",
        "colab_type": "text"
      },
      "source": [
        "Now lets use the raw IMDB dataset and then we will be using Word2Vec or Glove"
      ]
    },
    {
      "cell_type": "markdown",
      "metadata": {
        "id": "pQJJvrxSnCg1",
        "colab_type": "text"
      },
      "source": [
        ""
      ]
    },
    {
      "cell_type": "code",
      "metadata": {
        "id": "1P4XQcVwnEIe",
        "colab_type": "code",
        "colab": {}
      },
      "source": [
        "import os, shutil\n",
        "from google.colab import drive\n",
        "from tqdm import tqdm\n",
        "import pickle"
      ],
      "execution_count": 0,
      "outputs": []
    },
    {
      "cell_type": "code",
      "metadata": {
        "id": "s8JH9TVInupP",
        "colab_type": "code",
        "colab": {
          "base_uri": "https://localhost:8080/",
          "height": 51
        },
        "outputId": "14ffcf9b-e218-43a8-ccd3-559c30d70ed8"
      },
      "source": [
        "drive.mount('/gdrive')\n",
        "%cd /gdrive"
      ],
      "execution_count": 51,
      "outputs": [
        {
          "output_type": "stream",
          "text": [
            "Drive already mounted at /gdrive; to attempt to forcibly remount, call drive.mount(\"/gdrive\", force_remount=True).\n",
            "/gdrive\n"
          ],
          "name": "stdout"
        }
      ]
    },
    {
      "cell_type": "code",
      "metadata": {
        "id": "UetpX9qxn7Cy",
        "colab_type": "code",
        "colab": {
          "base_uri": "https://localhost:8080/",
          "height": 34
        },
        "outputId": "005de51b-9a82-4bde-ae4c-28d6ce93c2c5"
      },
      "source": [
        "os.getcwd()"
      ],
      "execution_count": 24,
      "outputs": [
        {
          "output_type": "execute_result",
          "data": {
            "text/plain": [
              "'/gdrive/My Drive/colab_datasets/base_dir_imdb/aclImdb'"
            ]
          },
          "metadata": {
            "tags": []
          },
          "execution_count": 24
        }
      ]
    },
    {
      "cell_type": "code",
      "metadata": {
        "id": "iiCCFBK8n8q9",
        "colab_type": "code",
        "colab": {}
      },
      "source": [
        "os.chdir('/gdrive/My Drive/colab_datasets/base_dir_imdb/aclImdb')"
      ],
      "execution_count": 0,
      "outputs": []
    },
    {
      "cell_type": "code",
      "metadata": {
        "id": "Z6xHMyz_oDeU",
        "colab_type": "code",
        "colab": {}
      },
      "source": [
        "base_dir = '/gdrive/My Drive/colab_datasets/base_dir_imdb/aclImdb'"
      ],
      "execution_count": 0,
      "outputs": []
    },
    {
      "cell_type": "code",
      "metadata": {
        "id": "-q00lW5TpCIm",
        "colab_type": "code",
        "colab": {
          "base_uri": "https://localhost:8080/",
          "height": 85
        },
        "outputId": "bdd17284-f03b-4fe1-f28a-dba09e60bd19"
      },
      "source": [
        "train_dir = os.path.join(base_dir,'train')\n",
        "test_dir = os.path.join(base_dir,'test')\n",
        "\n",
        "texts = []\n",
        "labels = []\n",
        "\n",
        "for label_type in ['neg','pos']:\n",
        "  dir_name = os.path.join(train_dir,label_type)\n",
        "  print(dir_name)\n",
        "  for file in tqdm(os.listdir(dir_name)):\n",
        "    if file.endswith('.txt'):\n",
        "      file_path = os.path.join(dir_name,file)\n",
        "      with open(file_path) as f_name:\n",
        "        texts.append(f_name.read())\n",
        "        if label_type == 'neg':\n",
        "          labels.append(0)\n",
        "        else:\n",
        "          labels.append(1)\n"
      ],
      "execution_count": 52,
      "outputs": [
        {
          "output_type": "stream",
          "text": [
            "  0%|          | 43/12500 [00:00<00:29, 429.10it/s]"
          ],
          "name": "stderr"
        },
        {
          "output_type": "stream",
          "text": [
            "/gdrive/My Drive/colab_datasets/base_dir_imdb/aclImdb/train/neg\n"
          ],
          "name": "stdout"
        },
        {
          "output_type": "stream",
          "text": [
            "100%|██████████| 12500/12500 [42:31<00:00,  3.57it/s]\n",
            "  0%|          | 0/12500 [00:00<?, ?it/s]"
          ],
          "name": "stderr"
        },
        {
          "output_type": "stream",
          "text": [
            "/gdrive/My Drive/colab_datasets/base_dir_imdb/aclImdb/train/pos\n"
          ],
          "name": "stdout"
        },
        {
          "output_type": "stream",
          "text": [
            "100%|██████████| 12500/12500 [1:01:03<00:00,  3.20it/s]\n"
          ],
          "name": "stderr"
        }
      ]
    },
    {
      "cell_type": "code",
      "metadata": {
        "id": "BhhfPhYr-w1w",
        "colab_type": "code",
        "colab": {}
      },
      "source": [
        "import pickle\n",
        "os.chdir('/gdrive/My Drive/colab_datasets/base_dir_imdb/aclImdb/saved_models')\n",
        "filename1 = open('texts_serialized.pkl','wb')\n",
        "pickle.dump(texts,filename1)\n",
        "filename1.close()\n",
        "filename2 = open('labels_serialized.pkl','wb')\n",
        "pickle.dump(labels,filename2)\n",
        "filename2.close()\n",
        "\n"
      ],
      "execution_count": 0,
      "outputs": []
    },
    {
      "cell_type": "code",
      "metadata": {
        "id": "BVWWwAMQqUEc",
        "colab_type": "code",
        "colab": {
          "base_uri": "https://localhost:8080/",
          "height": 34
        },
        "outputId": "7aba2f80-e8b9-4ee7-ce9d-a0cf036d130d"
      },
      "source": [
        "len(labels), len(texts)"
      ],
      "execution_count": 55,
      "outputs": [
        {
          "output_type": "execute_result",
          "data": {
            "text/plain": [
              "(25000, 25000)"
            ]
          },
          "metadata": {
            "tags": []
          },
          "execution_count": 55
        }
      ]
    },
    {
      "cell_type": "code",
      "metadata": {
        "id": "aIhSzVO7pK7U",
        "colab_type": "code",
        "colab": {}
      },
      "source": [
        "from keras.preprocessing.text import Tokenizer\n",
        "from keras.preprocessing.sequence import pad_sequences\n",
        "\n",
        "maxlength = 100\n",
        "training_samples = 200\n",
        "validation_samples = 10000\n",
        "max_words = 10000\n",
        "tokenizer = Tokenizer(num_words = max_words )\n"
      ],
      "execution_count": 0,
      "outputs": []
    },
    {
      "cell_type": "code",
      "metadata": {
        "id": "n7PqShCUysRR",
        "colab_type": "code",
        "colab": {
          "base_uri": "https://localhost:8080/",
          "height": 34
        },
        "outputId": "64673a88-3016-4817-fcc1-3eaf0cdb2185"
      },
      "source": [
        "tokenizer.word_index"
      ],
      "execution_count": 58,
      "outputs": [
        {
          "output_type": "execute_result",
          "data": {
            "text/plain": [
              "{}"
            ]
          },
          "metadata": {
            "tags": []
          },
          "execution_count": 58
        }
      ]
    },
    {
      "cell_type": "code",
      "metadata": {
        "id": "FkaSh0CZyuwm",
        "colab_type": "code",
        "colab": {}
      },
      "source": [
        "tokenizer.fit_on_texts(texts)"
      ],
      "execution_count": 0,
      "outputs": []
    },
    {
      "cell_type": "code",
      "metadata": {
        "id": "I5-DpIWZy3PX",
        "colab_type": "code",
        "colab": {
          "base_uri": "https://localhost:8080/",
          "height": 187
        },
        "outputId": "0935e369-c5f6-4b16-b9e0-9d64f341f9ed"
      },
      "source": [
        "for i,j in tokenizer.word_index.items():\n",
        "  if j > 10:\n",
        "    break\n",
        "  else:\n",
        "    print(i,j)"
      ],
      "execution_count": 63,
      "outputs": [
        {
          "output_type": "stream",
          "text": [
            "the 1\n",
            "and 2\n",
            "a 3\n",
            "of 4\n",
            "to 5\n",
            "is 6\n",
            "br 7\n",
            "in 8\n",
            "it 9\n",
            "i 10\n"
          ],
          "name": "stdout"
        }
      ]
    },
    {
      "cell_type": "code",
      "metadata": {
        "id": "PnbHn3XRy3-z",
        "colab_type": "code",
        "colab": {}
      },
      "source": [
        "sequences = tokenizer.texts_to_sequences(texts)"
      ],
      "execution_count": 0,
      "outputs": []
    },
    {
      "cell_type": "code",
      "metadata": {
        "id": "0E-DdlLQzDMk",
        "colab_type": "code",
        "colab": {
          "base_uri": "https://localhost:8080/",
          "height": 51
        },
        "outputId": "da1976f6-1487-47d8-95d1-36ba3701126a"
      },
      "source": [
        "print(len(sequences))\n",
        "print(len(sequences[0] ))"
      ],
      "execution_count": 67,
      "outputs": [
        {
          "output_type": "stream",
          "text": [
            "25000\n",
            "62\n"
          ],
          "name": "stdout"
        }
      ]
    },
    {
      "cell_type": "code",
      "metadata": {
        "id": "9DY7RthNzKJD",
        "colab_type": "code",
        "colab": {
          "base_uri": "https://localhost:8080/",
          "height": 34
        },
        "outputId": "4750298b-ced8-4efd-d099-c18a2fa5cbcf"
      },
      "source": [
        "word_index = tokenizer.word_index\n",
        "print('found {} unique token'.format(len(word_index)))\n",
        "data = pad_sequences(sequences,maxlen = maxlength)"
      ],
      "execution_count": 72,
      "outputs": [
        {
          "output_type": "stream",
          "text": [
            "found 88582 unique token\n"
          ],
          "name": "stdout"
        }
      ]
    },
    {
      "cell_type": "code",
      "metadata": {
        "id": "-DExjAFpTSGS",
        "colab_type": "code",
        "colab": {
          "base_uri": "https://localhost:8080/",
          "height": 85
        },
        "outputId": "1484cd30-beeb-4bd9-b991-dc1538e5cd28"
      },
      "source": [
        "print(len(sequences))\n",
        "print(len(sequences[0] ))\n",
        "print(len(data[1] ))\n",
        "print(type(data))"
      ],
      "execution_count": 79,
      "outputs": [
        {
          "output_type": "stream",
          "text": [
            "25000\n",
            "62\n",
            "100\n",
            "<class 'numpy.ndarray'>\n"
          ],
          "name": "stdout"
        }
      ]
    },
    {
      "cell_type": "code",
      "metadata": {
        "id": "nr3odgeTzhaw",
        "colab_type": "code",
        "colab": {
          "base_uri": "https://localhost:8080/",
          "height": 51
        },
        "outputId": "9026d8cd-ad20-4de3-821c-826d887e6c46"
      },
      "source": [
        "import numpy as np\n",
        "labels = np.asarray(labels)\n",
        "print('Data shape:', data.shape)\n",
        "print('Label shape:', labels.shape)"
      ],
      "execution_count": 81,
      "outputs": [
        {
          "output_type": "stream",
          "text": [
            "Data shape: (25000, 100)\n",
            "Label shape: (25000,)\n"
          ],
          "name": "stdout"
        }
      ]
    },
    {
      "cell_type": "markdown",
      "metadata": {
        "id": "w8wd2AZszwEI",
        "colab_type": "text"
      },
      "source": [
        "Now we will shuffle the indices and then pick the train and validation data "
      ]
    },
    {
      "cell_type": "code",
      "metadata": {
        "id": "nISXj1Nbz0pQ",
        "colab_type": "code",
        "colab": {}
      },
      "source": [
        "indices = np.arange(data.shape[0])\n",
        "np.random.shuffle(indices)\n",
        "data = data[indices]\n",
        "labels = labels[indices]\n",
        "\n",
        "x_train = data[:training_samples]\n",
        "y_train = labels[:training_samples]\n",
        "x_val = data[training_samples : training_samples + validation_samples]\n",
        "y_val = labels[training_samples : training_samples + validation_samples]"
      ],
      "execution_count": 0,
      "outputs": []
    },
    {
      "cell_type": "code",
      "metadata": {
        "id": "u7ha5UQhTq1k",
        "colab_type": "code",
        "colab": {
          "base_uri": "https://localhost:8080/",
          "height": 34
        },
        "outputId": "9c876dc2-22ad-4bc0-d05e-c28038f59fe6"
      },
      "source": [
        "x_train.shape, y_train.shape, x_val.shape, y_val.shape"
      ],
      "execution_count": 83,
      "outputs": [
        {
          "output_type": "execute_result",
          "data": {
            "text/plain": [
              "((200, 100), (200,), (10000, 100), (10000,))"
            ]
          },
          "metadata": {
            "tags": []
          },
          "execution_count": 83
        }
      ]
    },
    {
      "cell_type": "code",
      "metadata": {
        "id": "JUPi0EqSTxXF",
        "colab_type": "code",
        "colab": {}
      },
      "source": [
        ""
      ],
      "execution_count": 0,
      "outputs": []
    }
  ]
}